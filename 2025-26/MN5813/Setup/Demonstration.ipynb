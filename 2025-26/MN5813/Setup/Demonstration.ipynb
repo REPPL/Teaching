{
 "cells": [
  {
   "cell_type": "markdown",
   "metadata": {},
   "source": [
    "# Python basics (Demonstration)\n",
    "\n",
    "_This notebook provides essential Python foundations for non-programmers before attending the first in-person session._\n",
    "\n",
    "Note: This Jupyter Notebook was originally compiled by Alex Reppel (AR) based on conversations with [ClaudeAI](https://claude.ai/) *(version 3.5 Sonnet)*. For this year's materials, further revisions were made using [Claude Code](https://www.anthropic.com/claude-code) *(Opus 4.1)*, including updated documentation and git commit messages."
   ]
  },
  {
   "cell_type": "markdown",
   "metadata": {},
   "source": [
    "## What is Python?\n",
    "\n",
    "[Python](https://www.python.org/) is a programming language that lets you tell computers what to do. Think of it as giving step-by-step instructions that the computer will follow exactly.\n",
    "\n",
    "In business analytics, we use Python to:\n",
    "- Process and clean data\n",
    "- Perform calculations and analysis\n",
    "- Create visualisations\n",
    "- Automate repetitive tasks"
   ]
  },
  {
   "cell_type": "markdown",
   "metadata": {},
   "source": [
    "## Your first Python code\n",
    "\n",
    "Let's start with the traditional first program - displaying a message:"
   ]
  },
  {
   "cell_type": "code",
   "execution_count": null,
   "metadata": {},
   "outputs": [],
   "source": [
    "print(\"Welcome to MN5813!\")"
   ]
  },
  {
   "cell_type": "markdown",
   "metadata": {},
   "source": [
    "**Try it yourself:** Modify the message above to display your name."
   ]
  },
  {
   "cell_type": "markdown",
   "metadata": {},
   "source": [
    "## Variables - storing information\n",
    "\n",
    "Variables are like labeled boxes where we store information. We can put different types of data in these boxes and use them later."
   ]
  },
  {
   "cell_type": "code",
   "execution_count": null,
   "metadata": {},
   "outputs": [],
   "source": [
    "# Storing text (strings)\n",
    "org_name = \"Royal Holloway University of London\"\n",
    "print(org_name)"
   ]
  },
  {
   "cell_type": "code",
   "execution_count": null,
   "metadata": {},
   "outputs": [],
   "source": [
    "# Storing numbers\n",
    "revenue = 150000\n",
    "growth_rate = 0.15  # 15% growth\n",
    "\n",
    "print(f\"Revenue: £{revenue}\")\n",
    "print(f\"Growth rate: {growth_rate * 100}%\")"
   ]
  },
  {
   "cell_type": "markdown",
   "metadata": {},
   "source": [
    "### Variable naming rules\n",
    "\n",
    "- Use descriptive names: `customer_age` not `ca`\n",
    "- Use lowercase with underscores: `total_sales` not `TotalSales`\n",
    "- Cannot start with numbers: `sales_2024` ✓, `2024_sales` ✗\n",
    "- Cannot use spaces: `customer_name` ✓, `customer name` ✗"
   ]
  },
  {
   "cell_type": "markdown",
   "metadata": {},
   "source": [
    "## Basic calculations\n",
    "\n",
    "Python can perform all the calculations you need for business analysis:"
   ]
  },
  {
   "cell_type": "code",
   "execution_count": null,
   "metadata": {},
   "outputs": [],
   "source": [
    "# Business calculation example\n",
    "units_sold = 500\n",
    "price_per_unit = 29.99\n",
    "cost_per_unit = 15.00\n",
    "\n",
    "# Calculate metrics\n",
    "revenue = units_sold * price_per_unit\n",
    "total_cost = units_sold * cost_per_unit\n",
    "profit = revenue - total_cost\n",
    "profit_margin = (profit / revenue) * 100\n",
    "\n",
    "print(f\"Revenue: £{revenue:,.2f}\")\n",
    "print(f\"Cost: £{total_cost:,.2f}\")\n",
    "print(f\"Profit: £{profit:,.2f}\")\n",
    "print(f\"Profit margin: {profit_margin:.1f}%\")"
   ]
  },
  {
   "cell_type": "markdown",
   "metadata": {},
   "source": [
    "## Getting user input\n",
    "\n",
    "Programs often need to get information from users:"
   ]
  },
  {
   "cell_type": "code",
   "execution_count": null,
   "metadata": {},
   "outputs": [],
   "source": [
    "# Get user input (uncomment to try - may not work in all environments)\n",
    "# customer_name = input(\"Enter customer name: \")\n",
    "# print(f\"Processing order for {customer_name}\")\n",
    "\n",
    "# For now, we'll use a fixed value\n",
    "customer_name = \"Alice Smith\"\n",
    "print(f\"Processing order for {customer_name}\")"
   ]
  },
  {
   "cell_type": "markdown",
   "metadata": {},
   "source": [
    "## Making decisions with if statements\n",
    "\n",
    "Programs need to make decisions based on conditions:"
   ]
  },
  {
   "cell_type": "code",
   "execution_count": null,
   "metadata": {},
   "outputs": [],
   "source": [
    "# Simple decision\n",
    "order_amount = 150\n",
    "\n",
    "if order_amount >= 100:\n",
    "    print(\"Free shipping applied!\")\n",
    "else:\n",
    "    print(\"Shipping cost: £5.99\")"
   ]
  },
  {
   "cell_type": "code",
   "execution_count": null,
   "metadata": {},
   "outputs": [],
   "source": [
    "# Multiple conditions\n",
    "customer_type = \"premium\"\n",
    "order_amount = 75\n",
    "\n",
    "if customer_type == \"premium\":\n",
    "    discount = 0.20  # 20% for premium customers\n",
    "elif order_amount >= 100:\n",
    "    discount = 0.10  # 10% for large orders\n",
    "else:\n",
    "    discount = 0.00  # No discount\n",
    "\n",
    "final_amount = order_amount * (1 - discount)\n",
    "print(f\"Discount: {discount * 100}%\")\n",
    "print(f\"Final amount: £{final_amount:.2f}\")"
   ]
  },
  {
   "cell_type": "markdown",
   "metadata": {},
   "source": [
    "## Repeating tasks with loops\n",
    "\n",
    "Loops let us repeat actions without writing the same code multiple times:"
   ]
  },
  {
   "cell_type": "code",
   "execution_count": null,
   "metadata": {},
   "outputs": [],
   "source": [
    "# Processing multiple items\n",
    "prices = [29.99, 45.50, 19.99, 89.00, 12.50]\n",
    "\n",
    "total = 0\n",
    "for price in prices:\n",
    "    total = total + price\n",
    "    print(f\"Added £{price:.2f}, running total: £{total:.2f}\")\n",
    "\n",
    "print(f\"\\nFinal total: £{total:.2f}\")"
   ]
  },
  {
   "cell_type": "code",
   "execution_count": null,
   "metadata": {},
   "outputs": [],
   "source": [
    "# Counting with range\n",
    "print(\"Quarterly sales targets:\")\n",
    "base_target = 100000\n",
    "\n",
    "for quarter in range(1, 5):  # 1, 2, 3, 4\n",
    "    target = base_target * (1 + 0.05 * quarter)  # 5% increase each quarter\n",
    "    print(f\"Q{quarter}: £{target:,.0f}\")"
   ]
  },
  {
   "cell_type": "markdown",
   "metadata": {},
   "source": [
    "## Basic functions\n",
    "\n",
    "Functions are reusable blocks of code that perform specific tasks:"
   ]
  },
  {
   "cell_type": "code",
   "execution_count": null,
   "metadata": {},
   "outputs": [],
   "source": [
    "# Define a function\n",
    "def calculate_vat(amount):\n",
    "    \"\"\"Calculate VAT (20%) for a given amount\"\"\"\n",
    "    vat_rate = 0.20\n",
    "    vat = amount * vat_rate\n",
    "    total = amount + vat\n",
    "    return total\n",
    "\n",
    "# Use the function\n",
    "price = 100\n",
    "price_with_vat = calculate_vat(price)\n",
    "print(f\"Price: £{price}\")\n",
    "print(f\"Price with VAT: £{price_with_vat}\")"
   ]
  },
  {
   "cell_type": "code",
   "execution_count": null,
   "metadata": {},
   "outputs": [],
   "source": [
    "# Function with multiple parameters\n",
    "def calculate_discount(original_price, discount_percent):\n",
    "    \"\"\"Calculate price after discount\"\"\"\n",
    "    discount_amount = original_price * (discount_percent / 100)\n",
    "    final_price = original_price - discount_amount\n",
    "    return final_price\n",
    "\n",
    "# Test the function\n",
    "original = 80\n",
    "discount = 25  # 25% off\n",
    "sale_price = calculate_discount(original, discount)\n",
    "print(f\"Original: £{original}\")\n",
    "print(f\"After {discount}% discount: £{sale_price}\")"
   ]
  },
  {
   "cell_type": "markdown",
   "metadata": {},
   "source": [
    "## Working with lists\n",
    "\n",
    "Lists let us store multiple values together:"
   ]
  },
  {
   "cell_type": "code",
   "execution_count": null,
   "metadata": {},
   "outputs": [],
   "source": [
    "# Creating and using lists\n",
    "products = [\"Laptop\", \"Mouse\", \"Keyboard\", \"Monitor\"]\n",
    "\n",
    "print(\"Products in stock:\")\n",
    "for product in products:\n",
    "    print(f\"- {product}\")\n",
    "\n",
    "# Adding items\n",
    "products.append(\"Webcam\")\n",
    "print(f\"\\nUpdated list: {products}\")\n",
    "\n",
    "# Accessing specific items (indexing starts at 0)\n",
    "print(f\"\\nFirst product: {products[0]}\")\n",
    "print(f\"Last product: {products[-1]}\")"
   ]
  },
  {
   "cell_type": "markdown",
   "metadata": {},
   "source": [
    "## Understanding errors\n",
    "\n",
    "Errors are normal! Learning to read and fix them is an essential skill:"
   ]
  },
  {
   "cell_type": "code",
   "execution_count": null,
   "metadata": {},
   "outputs": [],
   "source": [
    "# Common error 1: NameError (using undefined variable)\n",
    "# Uncomment to see the error:\n",
    "# print(undefined_variable)\n",
    "\n",
    "# Fix: Define the variable first\n",
    "defined_variable = \"Now it works!\"\n",
    "print(defined_variable)"
   ]
  },
  {
   "cell_type": "code",
   "execution_count": null,
   "metadata": {},
   "outputs": [],
   "source": [
    "# Common error 2: IndentationError\n",
    "# Python uses indentation to group code\n",
    "\n",
    "# Wrong (uncomment to see error):\n",
    "# if True:\n",
    "# print(\"This will cause an error\")\n",
    "\n",
    "# Correct:\n",
    "if True:\n",
    "    print(\"This works correctly\")"
   ]
  },
  {
   "cell_type": "code",
   "execution_count": null,
   "metadata": {},
   "outputs": [],
   "source": [
    "# Common error 3: TypeError (wrong data type)\n",
    "# Uncomment to see error:\n",
    "# result = \"10\" + 5  # Can't add string and number\n",
    "\n",
    "# Fix: Convert to same type\n",
    "result = int(\"10\") + 5\n",
    "print(f\"Result: {result}\")"
   ]
  },
  {
   "cell_type": "markdown",
   "metadata": {},
   "source": [
    "## Debugging with print statements\n",
    "\n",
    "When code doesn't work as expected, use print statements to understand what's happening:"
   ]
  },
  {
   "cell_type": "code",
   "execution_count": null,
   "metadata": {},
   "outputs": [],
   "source": [
    "# Debugging example\n",
    "def calculate_average_sale(sales):\n",
    "    print(f\"Debug: Input sales = {sales}\")  # Debug line\n",
    "    \n",
    "    total = 0\n",
    "    count = 0\n",
    "    \n",
    "    for sale in sales:\n",
    "        print(f\"Debug: Processing sale = {sale}\")  # Debug line\n",
    "        total = total + sale\n",
    "        count = count + 1\n",
    "    \n",
    "    print(f\"Debug: Total = {total}, Count = {count}\")  # Debug line\n",
    "    \n",
    "    if count > 0:\n",
    "        average = total / count\n",
    "    else:\n",
    "        average = 0\n",
    "    \n",
    "    return average\n",
    "\n",
    "# Test the function\n",
    "daily_sales = [120, 85, 200, 150, 95]\n",
    "avg = calculate_average_sale(daily_sales)\n",
    "print(f\"\\nAverage sale: £{avg:.2f}\")"
   ]
  },
  {
   "cell_type": "markdown",
   "metadata": {},
   "source": [
    "## Practice exercises\n",
    "\n",
    "Try these exercises to reinforce what you've learned:"
   ]
  },
  {
   "cell_type": "markdown",
   "metadata": {},
   "source": [
    "### Exercise 1: Calculate total revenue\n",
    "\n",
    "Complete the code to calculate total revenue from multiple products:"
   ]
  },
  {
   "cell_type": "code",
   "execution_count": null,
   "metadata": {},
   "outputs": [],
   "source": [
    "# Product data\n",
    "product_a_units = 100\n",
    "product_a_price = 25.00\n",
    "\n",
    "product_b_units = 50\n",
    "product_b_price = 40.00\n",
    "\n",
    "# Calculate revenue for each product\n",
    "# YOUR CODE HERE\n",
    "\n",
    "# Calculate total revenue\n",
    "# YOUR CODE HERE\n",
    "\n",
    "# Print results\n",
    "# print(f\"Total revenue: £{total_revenue}\")"
   ]
  },
  {
   "cell_type": "markdown",
   "metadata": {},
   "source": [
    "### Exercise 2: Customer discount\n",
    "\n",
    "Write a function that calculates discount based on customer status:"
   ]
  },
  {
   "cell_type": "code",
   "execution_count": null,
   "metadata": {},
   "outputs": [],
   "source": [
    "def get_customer_discount(customer_type, order_amount):\n",
    "    \"\"\"\n",
    "    Calculate discount based on customer type and order amount\n",
    "    - 'new': 5% discount\n",
    "    - 'regular': 10% discount\n",
    "    - 'premium': 20% discount\n",
    "    - Add extra 5% if order > £100\n",
    "    \"\"\"\n",
    "    # YOUR CODE HERE\n",
    "    pass  # Remove this when you add your code\n",
    "\n",
    "# Test your function\n",
    "# discount = get_customer_discount(\"premium\", 150)\n",
    "# print(f\"Discount: {discount * 100}%\")"
   ]
  },
  {
   "cell_type": "markdown",
   "metadata": {},
   "source": [
    "### Exercise 3: Sales analysis\n",
    "\n",
    "Analyse a list of sales values:"
   ]
  },
  {
   "cell_type": "code",
   "execution_count": null,
   "metadata": {},
   "outputs": [],
   "source": [
    "sales = [150, 200, 175, 300, 250, 180, 220]\n",
    "\n",
    "# Calculate:\n",
    "# 1. Total sales\n",
    "# 2. Average sale\n",
    "# 3. Number of sales over £200\n",
    "# 4. Highest sale\n",
    "\n",
    "# YOUR CODE HERE\n",
    "\n",
    "# Print results\n",
    "# print(f\"Total: £{total}\")\n",
    "# print(f\"Average: £{average}\")\n",
    "# print(f\"Sales over £200: {count_over_200}\")\n",
    "# print(f\"Highest sale: £{highest}\")"
   ]
  },
  {
   "cell_type": "markdown",
   "metadata": {},
   "source": [
    "## Key takeaways\n",
    "\n",
    "You've learned the fundamental building blocks of Python:\n",
    "\n",
    "1. **Variables** store information\n",
    "2. **Calculations** process numerical data\n",
    "3. **If statements** make decisions\n",
    "4. **Loops** repeat tasks\n",
    "5. **Functions** create reusable code\n",
    "6. **Lists** store multiple values\n",
    "7. **Debugging** helps fix problems\n",
    "\n",
    "These concepts form the foundation for everything else you'll learn in this module."
   ]
  },
  {
   "cell_type": "markdown",
   "metadata": {},
   "source": [
    "## Next steps\n",
    "\n",
    "1. Complete the practice exercises above\n",
    "2. Review any sections you found challenging\n",
    "3. Try modifying the example code to see what happens\n",
    "4. Move on to Week 01 when you're comfortable with these basics\n",
    "\n",
    "Remember: Programming is learned by doing. Don't worry about memorising everything - focus on understanding the concepts and practicing regularly."
   ]
  }
 ],
 "metadata": {
  "kernelspec": {
   "display_name": "Python 3",
   "language": "python",
   "name": "python3"
  },
  "language_info": {
   "codemirror_mode": {
    "name": "ipython",
    "version": 3
   },
   "file_extension": ".py",
   "mimetype": "text/x-python",
   "name": "python",
   "nbconvert_exporter": "python",
   "pygments_lexer": "ipython3",
   "version": "3.8.0"
  }
 },
 "nbformat": 4,
 "nbformat_minor": 4
}
