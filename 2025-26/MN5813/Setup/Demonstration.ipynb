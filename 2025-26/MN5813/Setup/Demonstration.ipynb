{
 "cells": [
  {
   "cell_type": "markdown",
   "metadata": {},
   "source": [
    "# Python basics (Demonstration)\n",
    "\n",
    "_This notebook provides essential Python foundations for non-programmers before Week 01._\n",
    "\n",
    "**Purpose**: Give you just enough Python to not feel lost in your first session. Week 01 will build on these basics with more depth.\n",
    "\n",
    "Note: This Jupyter Notebook was originally compiled by Alex Reppel (AR) based on conversations with [ClaudeAI](https://claude.ai/) *(version 3.5 Sonnet)*. For this year's materials, further revisions were made using [Claude Code](https://www.anthropic.com/claude-code) *(Sonnet 4.5)*, including updated documentation and git commit messages."
   ]
  },
  {
   "cell_type": "markdown",
   "metadata": {},
   "source": [
    "## 🎯 ESSENTIAL PYTHON FOUNDATIONS (30-60 minutes)\n",
    "\n",
    "**What you'll learn**:\n",
    "\n",
    "- How to run Python code\n",
    "- Variables for storing data\n",
    "- Simple calculations\n",
    "- Basic output with print()\n",
    "- Simple if/else decisions\n",
    "- Basic for loops\n",
    "\n",
    "**What you WON'T learn here**:\n",
    "\n",
    "- Multiple conditions (elif)\n",
    "- Functions\n",
    "- String manipulation methods\n",
    "- Dictionaries\n",
    "- File handling\n",
    "\n",
    "*(Week 01 will cover these.)*"
   ]
  },
  {
   "cell_type": "markdown",
   "metadata": {},
   "source": [
    "## What is Python?\n",
    "\n",
    "[Python](https://www.python.org/) is a programming language that lets you tell computers what to do. Think of it as giving step-by-step instructions that the computer follows exactly.\n",
    "\n",
    "In business analytics, we use Python to:\n",
    "- Process and analyse data\n",
    "- Perform calculations\n",
    "- Create visualisations\n",
    "- Automate repetitive tasks"
   ]
  },
  {
   "cell_type": "markdown",
   "metadata": {},
   "source": [
    "## Your first Python code\n",
    "\n",
    "Let's start with the traditional first program - displaying a message:"
   ]
  },
  {
   "cell_type": "code",
   "execution_count": null,
   "metadata": {},
   "outputs": [],
   "source": [
    "print(\"Welcome to MN5813!\")"
   ]
  },
  {
   "cell_type": "markdown",
   "metadata": {},
   "source": [
    "**Try it yourself:** Click in the cell above and change the message to say \"Hello, [your name]!\", then press Shift+Enter to run it."
   ]
  },
  {
   "cell_type": "markdown",
   "metadata": {},
   "source": [
    "## Variables - storing information\n",
    "\n",
    "Variables are like labeled boxes where we store information. Python has different types of data:"
   ]
  },
  {
   "cell_type": "code",
   "execution_count": null,
   "metadata": {},
   "outputs": [],
   "source": [
    "# Storing text (called \"strings\")\n",
    "company_name = \"Royal Holloway\"\n",
    "print(company_name)"
   ]
  },
  {
   "cell_type": "code",
   "execution_count": null,
   "metadata": {},
   "outputs": [],
   "source": [
    "# Storing whole numbers (called \"integers\")\n",
    "units_sold = 150\n",
    "print(units_sold)"
   ]
  },
  {
   "cell_type": "code",
   "execution_count": null,
   "metadata": {},
   "outputs": [],
   "source": [
    "# Storing decimal numbers (called \"floats\")\n",
    "price = 29.99\n",
    "print(price)"
   ]
  },
  {
   "cell_type": "markdown",
   "metadata": {},
   "source": [
    "### Variable naming rules\n",
    "\n",
    "- Use descriptive names: `customer_name` not `cn` *(although we'll learn about some exceptions later.)*\n",
    "- Use lowercase with underscores: `total_sales` not `TotalSales`\n",
    "- Cannot start with numbers: `sales_2024` ✓, `2024_sales` ✗\n",
    "- Cannot contain spaces: `customer_name` ✓, `customer name` ✗"
   ]
  },
  {
   "cell_type": "markdown",
   "metadata": {},
   "source": [
    "## Basic calculations\n",
    "\n",
    "Python can perform calculations like a calculator:"
   ]
  },
  {
   "cell_type": "code",
   "execution_count": null,
   "metadata": {},
   "outputs": [],
   "source": [
    "# Addition\n",
    "print(10 + 5)"
   ]
  },
  {
   "cell_type": "code",
   "execution_count": null,
   "metadata": {},
   "outputs": [],
   "source": [
    "# Subtraction\n",
    "print(10 - 3)"
   ]
  },
  {
   "cell_type": "code",
   "execution_count": null,
   "metadata": {},
   "outputs": [],
   "source": [
    "# Multiplication\n",
    "print(10 * 4)"
   ]
  },
  {
   "cell_type": "code",
   "execution_count": null,
   "metadata": {},
   "outputs": [],
   "source": [
    "# Division\n",
    "print(10 / 2)"
   ]
  },
  {
   "cell_type": "markdown",
   "metadata": {},
   "source": [
    "### Using variables in calculations"
   ]
  },
  {
   "cell_type": "code",
   "execution_count": 5,
   "metadata": {},
   "outputs": [
    {
     "name": "stdout",
     "output_type": "stream",
     "text": [
      "2500\n"
     ]
    }
   ],
   "source": [
    "# Calculate revenue\n",
    "units_sold = 100\n",
    "price_per_unit = 25\n",
    "\n",
    "revenue = units_sold * price_per_unit\n",
    "print(revenue)"
   ]
  },
  {
   "cell_type": "markdown",
   "metadata": {},
   "source": [
    "## Displaying information with f-strings\n",
    "\n",
    "F-strings let you **combine** text and variables for clear output:"
   ]
  },
  {
   "cell_type": "code",
   "execution_count": 7,
   "metadata": {},
   "outputs": [
    {
     "name": "stdout",
     "output_type": "stream",
     "text": [
      "Customer: Alice\n",
      "Order total: £150\n"
     ]
    }
   ],
   "source": [
    "customer_name = \"Alice\"\n",
    "order_total = 150\n",
    "\n",
    "print(f\"Customer: {customer_name}\")\n",
    "print(f\"Order total: £{order_total}\")"
   ]
  },
  {
   "cell_type": "markdown",
   "metadata": {},
   "source": [
    "While they look complicated, they follow a clear pattern (which is worth memorising):\n",
    "\n",
    "- Put `f` before the opening quote\n",
    "- Put variable names inside curly braces `{}`\n",
    "- Python replaces `{variable_name}` with the variable's value"
   ]
  },
  {
   "cell_type": "markdown",
   "metadata": {},
   "source": [
    "## Making simple decisions with if/else\n",
    "\n",
    "Programs need to make decisions. Use `if` and `else` to do different things based on conditions:"
   ]
  },
  {
   "cell_type": "code",
   "execution_count": 8,
   "metadata": {},
   "outputs": [
    {
     "name": "stdout",
     "output_type": "stream",
     "text": [
      "Free shipping!\n"
     ]
    }
   ],
   "source": [
    "# Simple decision\n",
    "order_amount = 150\n",
    "\n",
    "if order_amount >= 100:\n",
    "    print(\"Free shipping!\")\n",
    "else:\n",
    "    print(\"Shipping cost: £5.99\")"
   ]
  },
  {
   "cell_type": "markdown",
   "metadata": {},
   "source": [
    "**Important**: Notice the indentation (4 spaces) before `print()`. Python uses indentation to group code together."
   ]
  },
  {
   "cell_type": "code",
   "execution_count": null,
   "metadata": {},
   "outputs": [],
   "source": [
    "# Another example\n",
    "age = 20\n",
    "\n",
    "if age >= 18:\n",
    "    print(\"Adult ticket: £12\")\n",
    "else:\n",
    "    print(\"Child ticket: £8\")"
   ]
  },
  {
   "cell_type": "markdown",
   "metadata": {},
   "source": [
    "**Comparison operators you can use**:\n",
    "- `==` equal to\n",
    "- `!=` not equal to\n",
    "- `>` greater than\n",
    "- `<` less than\n",
    "- `>=` greater than or equal to\n",
    "- `<=` less than or equal to"
   ]
  },
  {
   "cell_type": "markdown",
   "metadata": {},
   "source": [
    "## Working with lists\n",
    "\n",
    "Lists let you store multiple values together:"
   ]
  },
  {
   "cell_type": "code",
   "execution_count": null,
   "metadata": {},
   "outputs": [],
   "source": [
    "# Create a list of products\n",
    "products = [\"Laptop\", \"Mouse\", \"Keyboard\", \"Monitor\"]\n",
    "\n",
    "print(products)"
   ]
  },
  {
   "cell_type": "code",
   "execution_count": null,
   "metadata": {},
   "outputs": [],
   "source": [
    "# Create a list of prices\n",
    "prices = [799, 25, 45, 199]\n",
    "\n",
    "print(prices)"
   ]
  },
  {
   "cell_type": "markdown",
   "metadata": {},
   "source": [
    "## Repeating tasks with for loops\n",
    "\n",
    "Loops let you repeat actions for each item in a list:"
   ]
  },
  {
   "cell_type": "code",
   "execution_count": null,
   "metadata": {},
   "outputs": [],
   "source": [
    "# Print each product\n",
    "products = [\"Laptop\", \"Mouse\", \"Keyboard\", \"Monitor\"]\n",
    "\n",
    "for product in products:\n",
    "    print(product)"
   ]
  },
  {
   "cell_type": "markdown",
   "metadata": {},
   "source": [
    "**How it works**:\n",
    "- `for product in products:` means \"for each item in the products list\"\n",
    "- `product` is a temporary variable that holds each item one at a time\n",
    "- The indented code runs once for each item"
   ]
  },
  {
   "cell_type": "code",
   "execution_count": null,
   "metadata": {},
   "outputs": [],
   "source": [
    "# Calculate total of all prices\n",
    "prices = [29.99, 45.50, 19.99, 89.00]\n",
    "\n",
    "total = 0\n",
    "for price in prices:\n",
    "    total = total + price\n",
    "\n",
    "print(f\"Total: £{total}\")"
   ]
  },
  {
   "cell_type": "markdown",
   "metadata": {},
   "source": [
    "## Putting it together: A simple business example\n",
    "\n",
    "Let's combine what we've learned:"
   ]
  },
  {
   "cell_type": "code",
   "execution_count": null,
   "metadata": {},
   "outputs": [],
   "source": [
    "# Sales data for the week\n",
    "daily_sales = [120, 95, 150, 180, 140]\n",
    "\n",
    "# Calculate total sales\n",
    "total_sales = 0\n",
    "for sale in daily_sales:\n",
    "    total_sales = total_sales + sale\n",
    "\n",
    "# Calculate average\n",
    "average_sales = total_sales / 5\n",
    "\n",
    "# Display results\n",
    "print(f\"Total sales this week: £{total_sales}\")\n",
    "print(f\"Average daily sales: £{average_sales}\")\n",
    "\n",
    "# Check if we hit target\n",
    "target = 600\n",
    "\n",
    "if total_sales >= target:\n",
    "    print(\"Target achieved!\")\n",
    "else:\n",
    "    print(\"Target not met\")"
   ]
  },
  {
   "cell_type": "markdown",
   "metadata": {},
   "source": [
    "## Key takeaways\n",
    "\n",
    "You've learned the absolute basics of Python:\n",
    "\n",
    "1. **print()** - Display information\n",
    "2. **Variables** - Store data (strings, numbers)\n",
    "3. **Calculations** - Basic arithmetic (+, -, *, /)\n",
    "4. **F-strings** - Combine text and variables for output\n",
    "5. **if/else** - Make simple decisions\n",
    "6. **Lists** - Store multiple values\n",
    "7. **for loops** - Repeat actions for each item in a list\n",
    "\n",
    "These are the building blocks. Week 01 will expand on these foundations."
   ]
  },
  {
   "cell_type": "markdown",
   "metadata": {},
   "source": [
    "## Next steps\n",
    "\n",
    "1. **Try modifying the examples** - Change numbers, add your own lists, experiment!\n",
    "2. **Don't worry about memorising** - Focus on understanding the concepts\n",
    "3. **Week 01 will build on this** - You'll learn elif, functions, dictionaries, and more\n",
    "\n",
    "**You're ready for Week 01 if you can**:\n",
    "- Run a code cell in Jupyter\n",
    "- Create a variable and print it\n",
    "- Write a simple if/else statement\n",
    "- Write a for loop that processes a list\n",
    "\n",
    "If you can do these, you're ready!\n",
    "\n",
    "Remember: Programming is learned by doing. Everyone starts as a beginner. The key is to keep practicing and asking questions when you're stuck."
   ]
  }
 ],
 "metadata": {
  "kernelspec": {
   "display_name": "Python 3 (ipykernel)",
   "language": "python",
   "name": "python3"
  },
  "language_info": {
   "codemirror_mode": {
    "name": "ipython",
    "version": 3
   },
   "file_extension": ".py",
   "mimetype": "text/x-python",
   "name": "python",
   "nbconvert_exporter": "python",
   "pygments_lexer": "ipython3",
   "version": "3.12.4"
  }
 },
 "nbformat": 4,
 "nbformat_minor": 4
}
