{
 "cells": [
  {
   "cell_type": "markdown",
   "id": "1f84e67d-9c79-4aed-a5c8-17a9bcce087d",
   "metadata": {},
   "source": [
    "# Environment (Installation)"
   ]
  },
  {
   "cell_type": "markdown",
   "id": "2216d77f-6f46-4c4b-9e7c-6e3777ef0e45",
   "metadata": {},
   "source": [
    "_This notebook provides installation instructions and code to generate example data._\n",
    "\n",
    "Note: This Jupyter Notebook was originally compiled by Alex Reppel (AR) based on conversations with [ClaudeAI](https://claude.ai/) *(version 3.5 Sonnet)*. For this year's materials, further revisions were made using [Claude Code](https://www.anthropic.com/claude-code) *(Opus 4.1)*, including updated documentation and git commit messages."
   ]
  },
  {
   "cell_type": "markdown",
   "id": "22873bad-ca4f-4261-bcd2-526f7184dbcb",
   "metadata": {},
   "source": "## Installing Anaconda"
  },
  {
   "cell_type": "markdown",
   "id": "334f761a-6c3e-448e-80d6-4a576027670f",
   "metadata": {},
   "source": [
    "### Official instructions"
   ]
  },
  {
   "cell_type": "markdown",
   "id": "2b796544-9f40-4f59-b924-ff5816bc5b86",
   "metadata": {},
   "source": [
    "- Installing Anaconda: https://docs.anaconda.com/anaconda/install/.\n",
    "- Verifying your installation: https://docs.anaconda.com/anaconda/install/verify-install/."
   ]
  },
  {
   "cell_type": "markdown",
   "id": "f915ad56-f4d0-4b5c-a478-302b0453d05b",
   "metadata": {},
   "source": [
    "### Tutorial"
   ]
  },
  {
   "cell_type": "code",
   "execution_count": null,
   "id": "f7a2dfdd-d0e1-4908-b28d-906e5da20182",
   "metadata": {},
   "outputs": [],
   "source": [
    "from IPython.display import YouTubeVideo\n",
    "YouTubeVideo(\"YJC6ldI3hWk\", width=560)"
   ]
  },
  {
   "cell_type": "markdown",
   "id": "6fabf768-db66-48cf-a454-d0a06e7501ec",
   "metadata": {},
   "source": [
    "## Example data"
   ]
  },
  {
   "cell_type": "markdown",
   "id": "6cb997dd-72ca-45fe-94fb-19a1cd518e65",
   "metadata": {},
   "source": [
    "The following code generates two example datasets, which we will be using throughout the module."
   ]
  },
  {
   "cell_type": "markdown",
   "id": "5965b609-2452-4ee2-9493-4b7f447bd172",
   "metadata": {},
   "source": [
    "### Setup"
   ]
  },
  {
   "cell_type": "code",
   "execution_count": null,
   "id": "37ff9e1d-8963-4043-96c4-39b4f45be4fb",
   "metadata": {},
   "outputs": [],
   "source": [
    "import pandas as pd\n",
    "import numpy as np\n",
    "from datetime import datetime, timedelta\n",
    "import os"
   ]
  },
  {
   "cell_type": "code",
   "execution_count": null,
   "id": "deb02ea2-ee81-4c6c-b938-d20a60daf28d",
   "metadata": {},
   "outputs": [],
   "source": [
    "# Create directory if it doesn't exist\n",
    "if not os.path.exists(\"data/synthetic_data\"):\n",
    "    os.makedirs(\"data/synthetic_data\")"
   ]
  },
  {
   "cell_type": "markdown",
   "id": "5fdea33e-fbac-4dd8-a38a-aeb4640f4835",
   "metadata": {},
   "source": [
    "### Example dataset 1: Business metrics"
   ]
  },
  {
   "cell_type": "markdown",
   "id": "40769cdd-781f-4e1b-b556-25ec74644e0c",
   "metadata": {},
   "source": [
    "The following script will create an example dataset `business_metrics.csv` for you to work with:\n",
    "\n",
    "1. Create a `data/synthetic_data/` directory _(if it doesn't exist)_\n",
    "2. Generate the business metrics dataset\n",
    "3. Save the dataset as `business_metrics.csv` to `data/synthetic_data/`"
   ]
  },
  {
   "cell_type": "code",
   "execution_count": null,
   "id": "e22fc6f8-976b-4024-9fa7-3e9f62f9c582",
   "metadata": {},
   "outputs": [],
   "source": [
    "# Set random seed for reproducibility\n",
    "np.random.seed(42)"
   ]
  },
  {
   "cell_type": "code",
   "execution_count": null,
   "id": "4f85f25f-575b-4731-8d93-4592ad489782",
   "metadata": {},
   "outputs": [],
   "source": [
    "# Generate dates for about 6-7 months\n",
    "start_date = datetime(2023, 6, 1)\n",
    "dates = [start_date + timedelta(days=x) for x in range(200)]"
   ]
  },
  {
   "cell_type": "code",
   "execution_count": null,
   "id": "7e2006cf-9552-4a62-bd09-77db78311e75",
   "metadata": {},
   "outputs": [],
   "source": [
    "# Base visitors (weekly pattern with random noise)\n",
    "base_visitors = np.random.normal(1000, 100, 200)\n",
    "weekly_pattern = 1 + 0.3 * np.sin(np.arange(200) * 2 * np.pi / 7)  # Higher on weekends\n",
    "seasonal_pattern = 1 + 0.2 * np.sin(np.arange(200) * 2 * np.pi / 90)  # Seasonal trend\n",
    "\n",
    "visitors = (base_visitors * weekly_pattern * seasonal_pattern).astype(int)"
   ]
  },
  {
   "cell_type": "code",
   "execution_count": null,
   "id": "ed9e9af4-8fbe-4d84-91cc-0daa36e3fff5",
   "metadata": {},
   "outputs": [],
   "source": [
    "# Marketing spend (planned campaigns)\n",
    "base_marketing = np.random.normal(500, 50, 200)\n",
    "# Add some campaign spikes\n",
    "campaign_dates = [30, 60, 90, 120, 150, 180]\n",
    "for date in campaign_dates:\n",
    "    base_marketing[date-3:date+4] *= 2.5"
   ]
  },
  {
   "cell_type": "code",
   "execution_count": null,
   "id": "a848db06-c7f8-4f8e-8007-cbe0e9361523",
   "metadata": {},
   "outputs": [],
   "source": [
    "# Conversion rate (partially influenced by marketing)\n",
    "base_conversion = np.random.normal(0.025, 0.003, 200)\n",
    "marketing_effect = 0.3 * (base_marketing - base_marketing.mean()) / base_marketing.std()\n",
    "conversion_rate = np.maximum(0.01, base_conversion + marketing_effect * 0.005)"
   ]
  },
  {
   "cell_type": "code",
   "execution_count": null,
   "id": "9317f850-5393-4586-8395-64ba76d0d650",
   "metadata": {},
   "outputs": [],
   "source": [
    "# Average order value (slight weekly pattern)\n",
    "aov_base = np.random.normal(50, 5, 200)\n",
    "aov_weekly = 1 + 0.1 * np.sin(np.arange(200) * 2 * np.pi / 7)\n",
    "avg_order_value = aov_base * aov_weekly"
   ]
  },
  {
   "cell_type": "code",
   "execution_count": null,
   "id": "b1eee658-bee1-4bcb-8c30-2dc2d3ac44d7",
   "metadata": {},
   "outputs": [],
   "source": [
    "# Calculate revenue\n",
    "revenue = visitors * conversion_rate * avg_order_value"
   ]
  },
  {
   "cell_type": "code",
   "execution_count": null,
   "id": "4e1bb688-e00b-4621-ad6d-e5df1ede69d6",
   "metadata": {},
   "outputs": [],
   "source": [
    "# Customer satisfaction (slight negative correlation with visitor numbers)\n",
    "satisfaction_base = np.random.normal(4.2, 0.2, 200)\n",
    "visitor_effect = -0.2 * (visitors - visitors.mean()) / visitors.std()\n",
    "satisfaction = np.clip(satisfaction_base + visitor_effect, 1, 5)"
   ]
  },
  {
   "cell_type": "code",
   "execution_count": null,
   "id": "d8df91f5-8f75-4470-a809-1c39e058c44a",
   "metadata": {},
   "outputs": [],
   "source": [
    "# Create DataFrame\n",
    "df = pd.DataFrame({\n",
    "    \"date\": dates,\n",
    "    \"visitors\": visitors,\n",
    "    \"marketing_spend\": np.round(base_marketing, 2),\n",
    "    \"conversion_rate\": np.round(conversion_rate, 4),\n",
    "    \"avg_order_value\": np.round(avg_order_value, 2),\n",
    "    \"revenue\": np.round(revenue, 2),\n",
    "    \"satisfaction\": np.round(satisfaction, 2)\n",
    "})"
   ]
  },
  {
   "cell_type": "code",
   "execution_count": null,
   "id": "49bd2dd3-a412-4ee2-b218-a2239a2df67e",
   "metadata": {},
   "outputs": [],
   "source": [
    "# Add some special event effects\n",
    "# Black Friday effect\n",
    "bf_date = 180  # Arbitrary day for demonstration\n",
    "df.at[bf_date, \"visitors\"] = int(df.at[bf_date, \"visitors\"] * 2.5)\n",
    "df.at[bf_date, \"conversion_rate\"] = df.at[bf_date, \"conversion_rate\"] * 1.5\n",
    "df.at[bf_date, \"avg_order_value\"] = df.at[bf_date, \"avg_order_value\"] * 1.3"
   ]
  },
  {
   "cell_type": "code",
   "execution_count": null,
   "id": "d6b28b06-a046-49de-97d7-fba3fc9b3e71",
   "metadata": {},
   "outputs": [],
   "source": [
    "# Add another special event\n",
    "# Technical issue day\n",
    "tech_issue = 145  # Random day\n",
    "df.at[tech_issue, \"visitors\"] = int(df.at[tech_issue, \"visitors\"] * 0.5)\n",
    "df.at[tech_issue, \"conversion_rate\"] = df.at[tech_issue, \"conversion_rate\"] * 0.3\n",
    "df.at[tech_issue, \"satisfaction\"] = df.at[tech_issue, \"satisfaction\"] * 0.7"
   ]
  },
  {
   "cell_type": "code",
   "execution_count": null,
   "id": "81c10a41-2bec-46b7-abbb-02a98f187073",
   "metadata": {},
   "outputs": [],
   "source": [
    "# Add some realistic missing values (NaN)\n",
    "# Randomly remove some satisfaction scores (customer didn't respond to survey)\n",
    "np.random.seed(42)\n",
    "satisfaction_missing = np.random.choice(df.index, size=15, replace=False)\n",
    "df.loc[satisfaction_missing, \"satisfaction\"] = np.nan\n",
    "\n",
    "# Randomly remove some marketing spend values (data collection issues)\n",
    "marketing_missing = np.random.choice(df.index, size=8, replace=False)\n",
    "df.loc[marketing_missing, \"marketing_spend\"] = np.nan\n",
    "\n",
    "# Remove avg_order_value for days with very low visitors (system issues)\n",
    "df.loc[df[\"visitors\"] < df[\"visitors\"].quantile(0.05), \"avg_order_value\"] = np.nan\n",
    "\n",
    "# Add some outliers for students to detect\n",
    "# Extreme high marketing spend\n",
    "df.loc[np.random.choice(df.index, size=3, replace=False), \"marketing_spend\"] = df[\"marketing_spend\"].max() * 3\n",
    "\n",
    "# Negative satisfaction scores (data entry errors)\n",
    "df.loc[np.random.choice(df.index, size=2, replace=False), \"satisfaction\"] = -1\n",
    "\n",
    "# Save to CSV in data directory\n",
    "df.to_csv(\"data/synthetic_data/business_metrics.csv\", index=False)"
   ]
  },
  {
   "cell_type": "code",
   "execution_count": null,
   "id": "7c92b909-142f-4eea-967a-48dc7078a037",
   "metadata": {},
   "outputs": [],
   "source": [
    "print(f\"Dataset saved to data/synthetic_data/business_metrics.csv\")\n",
    "print(\"\\nFirst few rows of the dataset:\")\n",
    "print(df.head())\n",
    "print(\"\\nDataset summary statistics:\")\n",
    "print(df.describe())"
   ]
  },
  {
   "cell_type": "markdown",
   "id": "045f5da8-cf1c-4640-872a-7d5e90c5c9dd",
   "metadata": {},
   "source": [
    "#¢# Example dataset 2: Retail data"
   ]
  },
  {
   "cell_type": "markdown",
   "id": "1501d67e-d0a1-4ec8-bce5-cb37ac736520",
   "metadata": {},
   "source": [
    "This script creates a detailed retail dataset with 5,000 transactions over a 6-month period. It will allow you to practice visualization techniques, including:\n",
    "\n",
    "1. Time series analysis\n",
    "2. Distribution analysis\n",
    "3. Categorical comparisons\n",
    "4. Correlation studies\n",
    "5. Customer segmentation analysis\n",
    "\n",
    "The dataset has the following characteristics:\n",
    "\n",
    "#### Features\n",
    "\n",
    "- Transaction details _(ID, date, amount)_\n",
    "- Customer information _(ID, segment)_\n",
    "- Product information _(category, price, discount)_\n",
    "- Purchase details _(quantity, total amount)_\n",
    "- Payment method\n",
    "- Satisfaction scores\n",
    "\n",
    "#### Built-in patterns\n",
    "\n",
    "- Seasonal effects _(weekends, holidays)_\n",
    "- Time-of-day patterns\n",
    "- Price variations by product category\n",
    "- Discount patterns\n",
    "- Satisfaction scores influenced by discounts and prices\n",
    "- Realistic customer segmentation\n",
    "\n",
    "#### Categorical variables\n",
    "\n",
    "- 5 product categories\n",
    "- 3 customer segments\n",
    "- 4 payment methods"
   ]
  },
  {
   "cell_type": "code",
   "execution_count": null,
   "id": "041a7b56-f6db-4966-8f24-5d5e3e54b264",
   "metadata": {},
   "outputs": [],
   "source": [
    "# Generate dates - approximately 6 months of transactions\n",
    "start_date = datetime(2023, 6, 1)\n",
    "end_date = datetime(2023, 12, 31)\n",
    "date_range = pd.date_range(start=start_date, end=end_date, freq=\"H\")\n",
    "n_transactions = 5000"
   ]
  },
  {
   "cell_type": "code",
   "execution_count": null,
   "id": "3085b120-854c-4da2-b9b6-180bf3fd6722",
   "metadata": {},
   "outputs": [],
   "source": [
    "# Generate random transaction timestamps\n",
    "transaction_dates = np.random.choice(date_range, size=n_transactions)\n",
    "transaction_dates = sorted(transaction_dates)"
   ]
  },
  {
   "cell_type": "code",
   "execution_count": null,
   "id": "58fa1f7a-4939-46e4-a88b-bb430fbf5655",
   "metadata": {},
   "outputs": [],
   "source": [
    "# Product categories and their base prices\n",
    "product_categories = {\n",
    "    \"Electronics\": {\"base_price\": 500, \"std\": 200},\n",
    "    \"Clothing\": {\"base_price\": 50, \"std\": 20},\n",
    "    \"Books\": {\"base_price\": 25, \"std\": 10},\n",
    "    \"Home & Garden\": {\"base_price\": 100, \"std\": 40},\n",
    "    \"Sports & Outdoors\": {\"base_price\": 75, \"std\": 30}\n",
    "}"
   ]
  },
  {
   "cell_type": "code",
   "execution_count": null,
   "id": "95edb7d5-a1c1-4cf7-86dc-ee2924e0d641",
   "metadata": {},
   "outputs": [],
   "source": [
    "# Customer segments\n",
    "customer_segments = [\"New\", \"Regular\", \"Premium\"]\n",
    "customer_segment_weights = [0.3, 0.5, 0.2]  # 30% new, 50% regular, 20% premium"
   ]
  },
  {
   "cell_type": "code",
   "execution_count": null,
   "id": "616ac9c4-dc27-44ff-9e10-a21716fabc75",
   "metadata": {},
   "outputs": [],
   "source": [
    "# Generate transaction data\n",
    "data = {\n",
    "    \"transaction_id\": range(1, n_transactions + 1),\n",
    "    \"date\": transaction_dates,\n",
    "    \"customer_id\": np.random.randint(1, 1001, size=n_transactions),  # 1000 unique customers\n",
    "    \"customer_segment\": np.random.choice(customer_segments, size=n_transactions, p=customer_segment_weights)\n",
    "}"
   ]
  },
  {
   "cell_type": "code",
   "execution_count": null,
   "id": "10c6d868-b307-45cd-b750-711bcf028d89",
   "metadata": {},
   "outputs": [],
   "source": [
    "# Generate products and prices\n",
    "categories = np.random.choice(list(product_categories.keys()), size=n_transactions)\n",
    "prices = []\n",
    "discounts = []\n",
    "quantities = []\n",
    "\n",
    "for category in categories:\n",
    "    base = product_categories[category][\"base_price\"]\n",
    "    std = product_categories[category][\"std\"]\n",
    "    \n",
    "    # Generate base price with some variation\n",
    "    price = np.random.normal(base, std)\n",
    "    \n",
    "    # Generate discount (more likely for certain categories and premium customers)\n",
    "    if category in [\"Clothing\", \"Sports & Outdoors\"]:\n",
    "        discount = np.random.choice([0, 0.1, 0.2, 0.3], p=[0.7, 0.1, 0.1, 0.1])\n",
    "    else:\n",
    "        discount = np.random.choice([0, 0.1, 0.2], p=[0.8, 0.15, 0.05])\n",
    "    \n",
    "    # Generate quantity (usually 1, sometimes more)\n",
    "    quantity = np.random.choice([1, 2, 3], p=[0.7, 0.2, 0.1])\n",
    "    \n",
    "    prices.append(max(0, price))\n",
    "    discounts.append(discount)\n",
    "    quantities.append(quantity)\n",
    "\n",
    "data[\"product_category\"] = categories\n",
    "data[\"unit_price\"] = np.round(prices, 2)\n",
    "data[\"discount\"] = discounts\n",
    "data[\"quantity\"] = quantities"
   ]
  },
  {
   "cell_type": "code",
   "execution_count": null,
   "id": "288d1be0-914f-4e99-b7da-7677c0892783",
   "metadata": {},
   "outputs": [],
   "source": [
    "# Calculate final prices and revenues\n",
    "data[\"discounted_price\"] = np.round(np.array(prices) * (1 - np.array(discounts)), 2)\n",
    "data[\"total_amount\"] = np.round(np.array(data[\"discounted_price\"]) * np.array(quantities), 2)"
   ]
  },
  {
   "cell_type": "code",
   "execution_count": null,
   "id": "793d5d0a-09f5-4ea3-a87b-becdea64a072",
   "metadata": {},
   "outputs": [],
   "source": [
    "# Create DataFrame\n",
    "df = pd.DataFrame(data)"
   ]
  },
  {
   "cell_type": "code",
   "execution_count": null,
   "id": "591fc10f-c2e8-413b-934b-2523eed37f1c",
   "metadata": {},
   "outputs": [],
   "source": [
    "# Add seasonal effects\n",
    "# 1. Weekend uplift\n",
    "df[\"is_weekend\"] = df[\"date\"].dt.weekday >= 5\n",
    "df.loc[df[\"is_weekend\"], \"total_amount\"] *= 1.2"
   ]
  },
  {
   "cell_type": "code",
   "execution_count": null,
   "id": "34fe6ed3-4a3a-4c8f-b4fa-5fedf282aa88",
   "metadata": {},
   "outputs": [],
   "source": [
    "# 2. Holiday season effect (December)\n",
    "df.loc[df[\"date\"].dt.month == 12, \"total_amount\"] *= 1.5"
   ]
  },
  {
   "cell_type": "code",
   "execution_count": null,
   "id": "7e3f3da2-ba5b-40a9-8da2-ac92dc05054c",
   "metadata": {},
   "outputs": [],
   "source": [
    "# 3. Time of day effect (peak shopping hours)\n",
    "peak_hours = (df[\"date\"].dt.hour >= 11) & (df[\"date\"].dt.hour <= 19)\n",
    "df.loc[peak_hours, \"total_amount\"] *= 1.1"
   ]
  },
  {
   "cell_type": "code",
   "execution_count": null,
   "id": "82f865b1-cd37-461e-8b95-c633fc060157",
   "metadata": {},
   "outputs": [],
   "source": [
    "# Add payment method\n",
    "payment_methods = [\"Credit Card\", \"Debit Card\", \"Digital Wallet\", \"Cash\"]\n",
    "df[\"payment_method\"] = np.random.choice(payment_methods, size=n_transactions, p=[0.4, 0.3, 0.2, 0.1])"
   ]
  },
  {
   "cell_type": "code",
   "execution_count": null,
   "id": "69c53294-748a-4fef-9225-785139a5f738",
   "metadata": {},
   "outputs": [],
   "source": [
    "# Add customer satisfaction scores (influenced by discount and price)\n",
    "base_satisfaction = np.random.normal(4, 0.5, size=n_transactions)\n",
    "discount_effect = df[\"discount\"] * 2  # Higher discount = higher satisfaction\n",
    "price_effect = -0.3 * (df[\"unit_price\"] - df[\"unit_price\"].mean()) / df[\"unit_price\"].std()\n",
    "df[\"satisfaction_score\"] = np.clip(base_satisfaction + discount_effect + price_effect, 1, 5)\n",
    "df[\"satisfaction_score\"] = df[\"satisfaction_score\"].round(2)"
   ]
  },
  {
   "cell_type": "code",
   "execution_count": null,
   "id": "bfe36c35-e775-4cb6-b70a-5ed54d31f7d9",
   "metadata": {},
   "outputs": [],
   "source": [
    "# Clean up and reorder columns\n",
    "df = df[[\n",
    "    \"transaction_id\", \n",
    "    \"date\", \n",
    "    \"customer_id\",\n",
    "    \"customer_segment\",\n",
    "    \"product_category\",\n",
    "    \"quantity\",\n",
    "    \"unit_price\",\n",
    "    \"discount\",\n",
    "    \"discounted_price\",\n",
    "    \"total_amount\",\n",
    "    \"payment_method\",\n",
    "    \"satisfaction_score\"\n",
    "]]"
   ]
  },
  {
   "cell_type": "code",
   "execution_count": null,
   "id": "8e3e1998-7959-4c82-a8c9-d91d43bce4b8",
   "metadata": {},
   "outputs": [],
   "source": [
    "# Add realistic missing values and data quality issues\n",
    "np.random.seed(42)\n",
    "\n",
    "# Missing customer segments (new customers without classification)\n",
    "segment_missing = np.random.choice(df.index, size=200, replace=False)\n",
    "df.loc[segment_missing, \"customer_segment\"] = np.nan\n",
    "\n",
    "# Missing satisfaction scores (customers who didn't complete survey)\n",
    "satisfaction_missing = np.random.choice(df.index, size=500, replace=False)\n",
    "df.loc[satisfaction_missing, \"satisfaction_score\"] = np.nan\n",
    "\n",
    "# Missing payment method for some cash transactions\n",
    "cash_transactions = df[df[\"payment_method\"] == \"Cash\"].index\n",
    "payment_missing = np.random.choice(cash_transactions, size=20, replace=False)\n",
    "df.loc[payment_missing, \"payment_method\"] = np.nan\n",
    "\n",
    "# Add data entry errors\n",
    "# Negative quantities (should be caught and fixed)\n",
    "df.loc[np.random.choice(df.index, size=5, replace=False), \"quantity\"] = -1\n",
    "\n",
    "# Extremely high unit prices (decimal point errors)\n",
    "df.loc[np.random.choice(df.index, size=3, replace=False), \"unit_price\"] = df[\"unit_price\"] * 100\n",
    "\n",
    "# Zero prices (promotional items not properly recorded)\n",
    "df.loc[np.random.choice(df.index, size=10, replace=False), \"unit_price\"] = 0\n",
    "\n",
    "# Add duplicate transactions (same customer, same time, needs deduplication)\n",
    "duplicates = df.sample(n=20)\n",
    "duplicates[\"transaction_id\"] = duplicates[\"transaction_id\"] + 10000\n",
    "df = pd.concat([df, duplicates], ignore_index=True)\n",
    "\n",
    "# Sort by date to maintain chronological order\n",
    "df = df.sort_values(\"date\").reset_index(drop=True)\n",
    "\n",
    "# Save to CSV\n",
    "df.to_csv(\"data/synthetic_data/retail_sales.csv\", index=False)"
   ]
  },
  {
   "cell_type": "code",
   "execution_count": null,
   "id": "1a53f2fc-87d7-43ab-81c0-658f225be217",
   "metadata": {},
   "outputs": [],
   "source": [
    "print(f\"Dataset saved to data/synthetic_data/retail_sales.csv\")\n",
    "print(\"\\nFirst few rows of the dataset:\")\n",
    "print(df.head())\n",
    "print(\"\\nDataset summary statistics:\")\n",
    "print(df.describe())\n",
    "print(\"\\nValue counts for categorical variables:\")\n",
    "print(\"\\nProduct Categories:\")\n",
    "print(df[\"product_category\"].value_counts())\n",
    "print(\"\\nCustomer Segments:\")\n",
    "print(df[\"customer_segment\"].value_counts())\n",
    "print(\"\\nPayment Methods:\")\n",
    "print(df[\"payment_method\"].value_counts())"
   ]
  }
 ],
 "metadata": {
  "kernelspec": {
   "display_name": "Python 3 (ipykernel)",
   "language": "python",
   "name": "python3"
  },
  "language_info": {
   "codemirror_mode": {
    "name": "ipython",
    "version": 3
   },
   "file_extension": ".py",
   "mimetype": "text/x-python",
   "name": "python",
   "nbconvert_exporter": "python",
   "pygments_lexer": "ipython3",
   "version": "3.12.4"
  }
 },
 "nbformat": 4,
 "nbformat_minor": 5
}