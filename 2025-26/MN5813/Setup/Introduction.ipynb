{
 "cells": [
  {
   "cell_type": "markdown",
   "metadata": {},
   "source": [
    "# Module overview (Introduction)\n",
    "\n",
    "_This notebook provides key resources to get you started._\n",
    "\n",
    "Note: This Jupyter Notebook was originally compiled by Alex Reppel (AR) based on conversations with [ClaudeAI](https://claude.ai/) *(version 3.5 Sonnet)*. For this year's materials, further revisions were made using [Claude Code](https://www.anthropic.com/claude-code) *(Opus 4.1)*, including updated documentation and git commit messages."
   ]
  },
  {
   "cell_type": "markdown",
   "metadata": {},
   "source": [
    "## Recommendations"
   ]
  },
  {
   "cell_type": "markdown",
   "metadata": {},
   "source": [
    "If you have not yet been able to install [Anaconda](https://www.anaconda.com/) on your personal computer, you can try [Google Collab](https://colab.research.google.com/notebooks/intro.ipynb) to test notebooks."
   ]
  },
  {
   "cell_type": "markdown",
   "metadata": {},
   "source": [
    "### Books, videos, and websites"
   ]
  },
  {
   "cell_type": "markdown",
   "metadata": {},
   "source": [
    "These are optional resource that I have found useful. If you are familiar with basic Python and/or have access to good tutorials, there is no need for you watch any of the videos. I am sharing these resources in the hope that you find them as useful as I did (and still do!).\n",
    "\n",
    "- [My favourite introductory book on Python](https://www.manning.com/books/get-programming) _(Ana Bell)_\n",
    "- [My favourite video tutorial series on Python](https://www.youtube.com/user/schafer5) _(Corey Schafer)_\n",
    "- [The open-edition of \"Python for Data Analysis\"](https://wesmckinney.com/book/) _(Pandas team)_\n",
    "- [My favourite book on Python / data analysis](https://www.penguinrandomhouse.com/books/669536/introduction-to-computation-and-programming-using-python-third-edition-by-john-v-guttag/) _(John Guttag)_\n",
    "\n",
    "While there is also no need for you to purchase these books, I am listing them here for those really struggling and looking for a very easy introduction -- Ana Bell's book is brilliant for that. John Guttag's book is much more advanced, but perhaps the best introduction on analytics using Pyton for anyone wishing to go beyond what we're doing in the module."
   ]
  },
  {
   "cell_type": "markdown",
   "metadata": {},
   "source": [
    "### Tutorials"
   ]
  },
  {
   "cell_type": "markdown",
   "metadata": {},
   "source": [
    "There are also many good tutorials available, including:\n",
    "\n",
    "- Pandas for beginners: [Python Pandas Tutorial -- A Complete Introduction for Beginners](https://github.com/LearnDataSci/articles/blob/master/Python%20Pandas%20Tutorial%20A%20Complete%20Introduction%20for%20Beginners/notebook.ipynb) _(LearnDataSci)_\n",
    "- Introduction: [Pandas tutorial: Introduction to data manipulation and analysis with Pandas](https://colab.research.google.com/github/ffraile/computer_science_tutorials/blob/main/source/Data%20Manipulation/tutorials/Pandas%20tutorial.ipynb) _(Google Colab)_\n",
    "- [Python Pandas Tutorial: A Complete Guide](https://datagy.io/pandas/) _(Datagy)_\n",
    "- Pandas for more advanced users: [From Good to Great Data Science, Part 1 Correlations and Confidence](https://github.com/LearnDataSci/articles/blob/master/From%20Good%20to%20Great%20Data%20Science%2C%20Part%201%20Correlations%20and%20Confidence/notebook.ipynb) _(LearnDataSci)_\n",
    "- [The Ultimate Guide to the Pandas Library for Data Science in Python](https://www.freecodecamp.org/news/the-ultimate-guide-to-the-pandas-library-for-data-science-in-python/) _(freeCodeCamp)_"
   ]
  },
  {
   "cell_type": "markdown",
   "metadata": {},
   "source": [
    "### Datasets"
   ]
  },
  {
   "cell_type": "markdown",
   "metadata": {},
   "source": [
    "#### Data source for this year's group assessment *(default)*\n",
    "\n",
    "- [120 years of Olymic history](https://www.kaggle.com/heesoo37/120-years-of-olympic-history-athletes-and-results)"
   ]
  },
  {
   "cell_type": "markdown",
   "metadata": {},
   "source": [
    "#### Alternative data sources\n",
    "\n",
    "For small(er) projects:\n",
    "\n",
    "- [World Countries](https://stefangabos.github.io/world_countries/) *(see also [this link](https://www.kaggle.com/datasets/fernandol/countries-of-the-world) on Kaggle)*\n",
    "- [CIA World Factbook](https://www.cia.gov/the-world-factbook/countries/) *(for web scraping?)*\n",
    "\n",
    "For potentially more ambitious projects:\n",
    "\n",
    "- [World Bank Economic Indicators](https://data.worldbank.org/indicator)\n",
    "- [IMF World Economic Outlook Database](https://www.imf.org/en/Publications/WEO/weo-database/2023/October)\n",
    "- [UN Comtrade Database](https://comtrade.un.org/data/)\n",
    "\n",
    "Repositories where you will find many more datasets:\n",
    "\n",
    "- [The R Datasets Package](https://stat.ethz.ch/R-manual/R-devel/library/datasets/html/00Index.html)\n",
    "- [Kaggle datasets](https://www.kaggle.com/datasets)"
   ]
  },
  {
   "cell_type": "markdown",
   "metadata": {},
   "source": [
    "### Example projects"
   ]
  },
  {
   "cell_type": "markdown",
   "metadata": {},
   "source": [
    "You find a lot of example projects on sites such as Kaggle:\n",
    "\n",
    "- [Data Cleaning Challenge: Handling missing values](https://www.kaggle.com/code/rtatman/data-cleaning-challenge-handling-missing-values)\n",
    "- [Text Data Cleaning - tweets analysis](https://www.kaggle.com/code/ragnisah/text-data-cleaning-tweets-analysis)"
   ]
  },
  {
   "cell_type": "markdown",
   "metadata": {},
   "source": [
    "## Guidance on generative AI"
   ]
  },
  {
   "cell_type": "markdown",
   "metadata": {},
   "source": [
    "The University [states](https://intranet.royalholloway.ac.uk/staff/teaching/referencing.aspx) that \"[s]tudents are required to provide a statement within any assignment submission that has used generative AI, clarifying their use of the tool.\" As instructors, we are required to include the following to the assessment brief.\n",
    "\n",
    "**If you have used a generative AI tool to prepare your assignment(s) for this module, you must include:**\n",
    "\n",
    "1. Name, version (if available), and provider of the generative AI tool used *(e.g. Copilot, Microsoft)*\n",
    "2. URL of the tool used (e.g. https://copilot.microsoft.com)\n",
    "3. A short description of how the generative AI tool was used in the assignment\n",
    "\n",
    "The University states further that, \"[w]hen including an academic reference for a piece of generative AI-produced content in your reference list, please include the name (and version if available) of the tool, and the date the tool was accessed (e.g. Copilot, Microsoft, accessed 3rd June 2024). For an in-text citation, please name the tool and the year accessed (e.g. Copilot, 2024).\"\n",
    "\n",
    "My aim for this module is to explore the use of generative AI together, and to learn how to put these requirements into practice. For example, while I do not use generative AI for academic publications _(as most publishers prohibit the use of generative AI)_, I have used [Claude AI](https://www.claude.ai/) to prepare session materials for this module."
   ]
  }
 ],
 "metadata": {
  "kernelspec": {
   "display_name": "default",
   "language": "python",
   "name": "python3"
  },
  "language_info": {
   "codemirror_mode": {
    "name": "ipython",
    "version": 3
   },
   "file_extension": ".py",
   "mimetype": "text/x-python",
   "name": "python",
   "nbconvert_exporter": "python",
   "pygments_lexer": "ipython3",
   "version": "3.12.4"
  }
 },
 "nbformat": 4,
 "nbformat_minor": 4
}
