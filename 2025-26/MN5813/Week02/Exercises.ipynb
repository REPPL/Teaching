{
 "cells": [
  {
   "cell_type": "markdown",
   "metadata": {},
   "source": "# Advanced Python concepts (Exercises)"
  },
  {
   "cell_type": "markdown",
   "metadata": {},
   "source": [
    "_This notebook provides exercises to practice more advanced Python concepts and syntax. Exercises are designed to be completed in approximately 90 minutes by students who have some familiarity with the topics._\n",
    "\n",
    "Note: Exercises in this Jupyter Notebook was originally compiled by Alex Reppel (AR) based on conversations with [ClaudeAI](https://claude.ai/) *(version 3.5 Sonnet)*. For this year's materials, further revisions were made using [Claude Code](https://www.anthropic.com/claude-code) *(Opus 4.1)*, including updated documentation and git commit messages."
   ]
  },
  {
   "cell_type": "markdown",
   "metadata": {},
   "source": [
    "## List comprehensions\n",
    "\n",
    "Create a list of squares of odd numbers from 1 to 10."
   ]
  },
  {
   "cell_type": "code",
   "execution_count": null,
   "metadata": {},
   "outputs": [],
   "source": [
    "odd_squares = []  # change\n",
    "print(odd_squares)"
   ]
  },
  {
   "cell_type": "markdown",
   "metadata": {},
   "source": [
    "## Lambda functions\n",
    "\n",
    "Create a lambda function to calculate the product of two numbers."
   ]
  },
  {
   "cell_type": "code",
   "execution_count": null,
   "metadata": {},
   "outputs": [],
   "source": [
    "# add code\n"
   ]
  },
  {
   "cell_type": "markdown",
   "metadata": {},
   "source": [
    "## Map and filter\n",
    "\n",
    "Use map to convert a list of temperatures from Celsius to Fahrenheit.\n",
    "\n",
    "Use filter to get only the temperatures above 70°F."
   ]
  },
  {
   "cell_type": "code",
   "execution_count": null,
   "metadata": {},
   "outputs": [],
   "source": [
    "celsius = [0, 10, 20, 30, 40]\n",
    "\n",
    "fahrenheit = list()\n",
    "above_70 = list()\n",
    "\n",
    "print(fahrenheit)\n",
    "print(above_70)"
   ]
  },
  {
   "cell_type": "markdown",
   "metadata": {},
   "source": [
    "## Error handling\n",
    "Write a function that takes two numbers as input and returns their division.\n",
    "\n",
    "Try to handle potential ZeroDivisionError and ValueError."
   ]
  },
  {
   "cell_type": "code",
   "execution_count": null,
   "metadata": {},
   "outputs": [],
   "source": [
    "def safe_divide(a, b):\n",
    "    # add code\n",
    "    pass\n",
    "\n",
    "# print(safe_divide(10, 2))\n",
    "# print(safe_divide(10, 0))\n",
    "# print(safe_divide(\"a\", 2))"
   ]
  },
  {
   "cell_type": "markdown",
   "metadata": {},
   "source": [
    "## Modules\n",
    "\n",
    "Use the random module to simulate rolling a die 1000 times and count the occurrences of each number."
   ]
  },
  {
   "cell_type": "code",
   "execution_count": null,
   "metadata": {},
   "outputs": [],
   "source": [
    "import random\n",
    "from collections import Counter\n",
    "\n",
    "# add code"
   ]
  },
  {
   "cell_type": "markdown",
   "metadata": {},
   "source": [
    "## List sorting\n",
    "\n",
    "Sort a list of tuples representing people (name, age) by age in descending order."
   ]
  },
  {
   "cell_type": "code",
   "execution_count": null,
   "metadata": {},
   "outputs": [],
   "source": [
    "people = [(\"Alice\", 32), (\"Bob\", 28), (\"Carol\", 45), (\"Dan\", 37)]\n",
    "\n",
    "# add code\n",
    "\n",
    "# print(sorted_people)"
   ]
  },
  {
   "cell_type": "markdown",
   "metadata": {},
   "source": [
    "## Dictionary comprehension\n",
    "\n",
    "Create a dictionary where keys are numbers from 1 to 10 and values are their squares."
   ]
  },
  {
   "cell_type": "code",
   "execution_count": null,
   "metadata": {},
   "outputs": [],
   "source": [
    "# add code\n",
    "\n",
    "# print(squares_dict)"
   ]
  },
  {
   "cell_type": "markdown",
   "metadata": {},
   "source": [
    "## Date and time\n",
    "\n",
    "Calculate the number of days between January 1, 2023, and December 31, 2023."
   ]
  },
  {
   "cell_type": "code",
   "execution_count": null,
   "metadata": {},
   "outputs": [],
   "source": [
    "from datetime import datetime\n",
    "\n",
    "date1 = datetime(2023, 1, 1)\n",
    "date2 = datetime(2023, 12, 31)\n",
    "\n",
    "# days_difference =  # add code\n",
    "\n",
    "# print(f\"Number of days between {date1.date()} and {date2.date()}: {days_difference}\")"
   ]
  },
  {
   "cell_type": "markdown",
   "metadata": {},
   "source": [
    "## File I/O"
   ]
  },
  {
   "cell_type": "code",
   "execution_count": null,
   "metadata": {},
   "outputs": [],
   "source": [
    "import os\n",
    "os.makedirs(\"assets\", exist_ok = True)"
   ]
  },
  {
   "cell_type": "markdown",
   "metadata": {},
   "source": [
    "### File I/O: CSV\n",
    "\n",
    "Write a program that reads a CSV file containing stock prices, calculates the average price, and writes the result to a new CSV file."
   ]
  },
  {
   "cell_type": "code",
   "execution_count": null,
   "metadata": {},
   "outputs": [],
   "source": [
    "import csv\n",
    "\n",
    "# For demonstration, let's create a sample input CSV file\n",
    "with open(\"assets/stock_prices_input.csv\", \"w\", newline=\"\") as file:\n",
    "    writer = csv.writer(file)\n",
    "    writer.writerow([\"date\", \"price\"])\n",
    "    writer.writerow([\"2023-01-01\", \"100.50\"])\n",
    "    writer.writerow([\"2023-01-02\", \"101.75\"])\n",
    "    writer.writerow([\"2023-01-03\", \"99.80\"])\n",
    "\n",
    "# def process_stock_prices(input_filename, output_filename):\n",
    "#     with open(input_filename, \"r\") as infile:\n",
    "#         # add code\n",
    "#     with open(output_filename, \"w\", newline=\"\") as outfile:\n",
    "#         # add code\n",
    "#     return average_price\n",
    "\n",
    "# result = process_stock_prices(\"assets/stock_prices_input.csv\", \"assets/stock_prices_output.csv\")\n",
    "# print(f\"Average stock price: ${result:.2f}\")\n",
    "# print(\"Results have been written to 'assets/stock_prices_output.csv'\")\n",
    "\n",
    "# # Display the contents of the output file\n",
    "# with open(\"assets/stock_prices_output.csv\", \"r\") as file:\n",
    "#     print(file.read())"
   ]
  },
  {
   "cell_type": "markdown",
   "metadata": {},
   "source": [
    "### File I/O: JSON\n",
    "\n",
    "Create a program that reads a JSON file containing student information, calculates their average score, and writes the results to a new JSON file."
   ]
  },
  {
   "cell_type": "code",
   "execution_count": null,
   "metadata": {},
   "outputs": [],
   "source": [
    "import json\n",
    "\n",
    "# For demonstration, let's create a sample input JSON file\n",
    "sample_data = [\n",
    "    {\"name\": \"Alice\", \"scores\": [85, 90, 92]},\n",
    "    {\"name\": \"Bob\", \"scores\": [78, 85, 88]},\n",
    "    {\"name\": \"Carol\", \"scores\": [92, 95, 98]}\n",
    "]\n",
    "with open(\"assets/students_input.json\", \"w\") as file:\n",
    "    json.dump(sample_data, file)\n",
    "\n",
    "# def process_student_scores(input_filename, output_filename):\n",
    "#     with open(input_filename, \"r\") as infile:\n",
    "#         # add code\n",
    "#     for student in students:\n",
    "#         # add code\n",
    "#     with open(output_filename, \"w\") as outfile:\n",
    "#         json.dump(students, outfile, indent=2)\n",
    "#     return students\n",
    "\n",
    "# result = process_student_scores(\"assets/students_input.json\", \"assets/students_output.json\")\n",
    "# print(\"Processed student data:\")\n",
    "# for student in result:\n",
    "#     print(f\"{student['name']}: Average score = {student['average_score']:.2f}\")\n",
    "# print(\"Results have been written to 'assets/students_output.json'\")\n",
    "\n",
    "# # Display the contents of the output file\n",
    "# with open(\"assets/students_output.json\", \"r\") as file:\n",
    "#     print(file.read())"
   ]
  }
 ],
 "metadata": {
  "kernelspec": {
   "display_name": "default",
   "language": "python",
   "name": "python3"
  },
  "language_info": {
   "codemirror_mode": {
    "name": "ipython",
    "version": 3
   },
   "file_extension": ".py",
   "mimetype": "text/x-python",
   "name": "python",
   "nbconvert_exporter": "python",
   "pygments_lexer": "ipython3",
   "version": "3.12.4"
  }
 },
 "nbformat": 4,
 "nbformat_minor": 4
}