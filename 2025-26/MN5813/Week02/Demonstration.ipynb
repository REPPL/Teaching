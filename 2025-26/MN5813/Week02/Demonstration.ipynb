{
 "cells": [
  {
   "cell_type": "markdown",
   "metadata": {},
   "source": [
    "# Advanced Python concepts (Demonstration)"
   ]
  },
  {
   "cell_type": "markdown",
   "metadata": {},
   "source": [
    "_This notebook provides a very basic introduction to a selection of advanced Python concepts._\n",
    "\n",
    "Note: This Jupyter Notebook was originally compiled by Alex Reppel (AR) based on conversations with [ClaudeAI](https://claude.ai/) *(version 3.5 Sonnet)*. For this year's materials, further revisions were made using [Claude Code](https://www.anthropic.com/claude-code) *(Opus 4.1)*, including updated documentation and git commit messages."
   ]
  },
  {
   "cell_type": "markdown",
   "metadata": {},
   "source": [
    "---\n",
    "\n",
    "## 🎯 CORE CONTENT (Essential for Exercises)\n",
    "\n",
    "**Estimated time**: 60-75 minutes\n",
    "\n",
    "All sections in this notebook are essential for completing the Week 02 exercises. The content introduces advanced Python techniques that make your code more concise and powerful:\n",
    "- List comprehensions (concise list creation)\n",
    "- Lambda functions (anonymous functions)\n",
    "- Map, filter, reduce (functional programming)\n",
    "- Error handling (try/except blocks)\n",
    "- Advanced file I/O (CSV and JSON)\n",
    "\n",
    "Work through each section carefully. These techniques will be used extensively in later weeks.\n",
    "\n",
    "---"
   ]
  },
  {
   "cell_type": "markdown",
   "metadata": {},
   "source": [
    "## List comprehensions\n",
    "\n",
    "**From Week 01**, you learned to create lists using loops and `.append()`:"
   ]
  },
  {
   "cell_type": "code",
   "execution_count": null,
   "metadata": {},
   "outputs": [],
   "source": [
    "squares = []\n",
    "for x in range(5):\n",
    "    squares.append(x**2)\n",
    "# Result: [0, 1, 4, 9, 16]"
   ]
  },
  {
   "cell_type": "markdown",
   "metadata": {},
   "source": [
    "**New technique**: List comprehensions provide a concise, one-line alternative:\n"
   ]
  },
  {
   "cell_type": "code",
   "execution_count": null,
   "metadata": {},
   "outputs": [],
   "source": [
    "squares = [x**2 for x in range(5)]\n",
    "# Same result: [0, 1, 4, 9, 16]"
   ]
  },
  {
   "cell_type": "markdown",
   "metadata": {},
   "source": [
    "They're more readable and often more efficient than traditional loops. Let's explore their power:"
   ]
  },
  {
   "cell_type": "markdown",
   "metadata": {},
   "source": [
    "## List comprehensions\n",
    "\n",
    "List comprehensions are a concise way to create lists in Python.\n",
    "\n",
    "They provide a more readable and often more efficient alternative to using loops and `append()` method calls."
   ]
  },
  {
   "cell_type": "code",
   "execution_count": null,
   "metadata": {},
   "outputs": [],
   "source": [
    "# List comprehension with condition\n",
    "even_squares = [x**2 for x in range(10) if x % 2 == 0]\n",
    "print(\"Even squares:\", even_squares)"
   ]
  },
  {
   "cell_type": "markdown",
   "metadata": {},
   "source": [
    "## Lambda functions\n",
    "\n",
    "Lambda functions, also known as anonymous functions, are small, one-time-use ('throw away') functions that can be defined without using the `def` keyword.\n",
    "\n",
    "**Building on Week 01 functions**: In Week 01, you learned to define functions with `def`:"
   ]
  },
  {
   "cell_type": "code",
   "execution_count": null,
   "metadata": {},
   "outputs": [],
   "source": [
    "def square(x):\n",
    "    return x ** 2\n",
    "\n",
    "# Print result\n",
    "square(5)"
   ]
  },
  {
   "cell_type": "markdown",
   "metadata": {},
   "source": [
    "**New shorthand**: Lambda lets you write tiny, one-line functions:"
   ]
  },
  {
   "cell_type": "code",
   "execution_count": null,
   "metadata": {},
   "outputs": [],
   "source": [
    "square = lambda x: x ** 2\n",
    "\n",
    "# Print result\n",
    "square(5)"
   ]
  },
  {
   "cell_type": "markdown",
   "metadata": {},
   "source": [
    "**When to use lambda:**\n",
    "- For very simple operations (one expression)\n",
    "- As a quick function argument (you'll see this next)\n",
    "\n",
    "**When NOT to use lambda:**\n",
    "- For anything complex (use regular `def` functions)\n",
    "- When you need multiple lines\n",
    "\n",
    "**Bottom line**: Regular `def` functions are clearer and preferred. Lambda is just handy occasionally."
   ]
  },
  {
   "cell_type": "markdown",
   "metadata": {},
   "source": [
    "### Simple lambda examples"
   ]
  },
  {
   "cell_type": "code",
   "execution_count": null,
   "metadata": {},
   "outputs": [],
   "source": [
    "square = lambda x: x ** 2\n",
    "print(\"Square of 5:\", square(5))\n",
    "\n",
    "add = lambda x, y: x + y\n",
    "print(\"3 + 7 =\", add(3, 7))"
   ]
  },
  {
   "cell_type": "markdown",
   "metadata": {},
   "source": [
    "### Lambda is useful when you need a quick function for sorting"
   ]
  },
  {
   "cell_type": "code",
   "execution_count": null,
   "metadata": {},
   "outputs": [],
   "source": [
    "students = [{\"name\": \"Alice\", \"grade\": 85}, {\"name\": \"Bob\", \"grade\": 92}, {\"name\": \"Carol\", \"grade\": 78}]\n",
    "sorted_students = sorted(students, key=lambda s: s[\"grade\"], reverse=True)\n",
    "print(\"Sorted by grade:\", [s[\"name\"] for s in sorted_students])"
   ]
  },
  {
   "cell_type": "markdown",
   "metadata": {},
   "source": [
    "## Map and filter for built-in list processing\n",
    "\n",
    "**Building on Week 01 loops**: In Week 01, you learned to process lists with for loops:"
   ]
  },
  {
   "cell_type": "code",
   "execution_count": null,
   "metadata": {},
   "outputs": [],
   "source": [
    "# Square all numbers\n",
    "numbers = [1, 2, 3, 4, 5]\n",
    "squared = []\n",
    "for x in numbers:\n",
    "    squared.append(x ** 2)\n",
    "\n",
    "# Print result\n",
    "squared"
   ]
  },
  {
   "cell_type": "markdown",
   "metadata": {},
   "source": [
    "**Alternative approaches**: Python provides built-in functions for common list operations:\n",
    "- **`map()`** - apply a function to every item\n",
    "- **`filter()`** - keep only items that pass a test\n",
    "\n",
    "**Important**: List comprehensions (which you just learned) are usually clearer and preferred in Python. These functions are shown for completeness, but you'll mostly use list comprehensions.\n",
    "\n",
    "Let's see quick examples:"
   ]
  },
  {
   "cell_type": "code",
   "execution_count": null,
   "metadata": {},
   "outputs": [],
   "source": [
    "numbers = [1, 2, 3, 4, 5]\n",
    "\n",
    "# Map\n",
    "squared = list(map(lambda x: x**2, numbers))\n",
    "print(\"Squared numbers:\", squared)\n",
    "\n",
    "# Filters\n",
    "even = list(filter(lambda x: x % 2 == 0, numbers))\n",
    "print(\"Even numbers:\", even)\n",
    "\n",
    "# Combining map and filter\n",
    "odd_squares = list(map(lambda x: x**2, filter(lambda x: x % 2 != 0, numbers)))\n",
    "print(\"Squares of odd numbers:\", odd_squares)"
   ]
  },
  {
   "cell_type": "markdown",
   "metadata": {},
   "source": [
    "### Explanation:\n",
    "- `map()` applies a function to every item (like a for loop with append)\n",
    "- `filter()` creates a list of items that pass a test (like a for loop with if condition)\n",
    "- **But**: List comprehensions do the same thing more clearly\n",
    "- **Best practice**: Use list comprehensions in your code\n",
    "\n",
    "This comparison shows you that map/filter exist, but you'll write clearer code with list comprehensions."
   ]
  },
  {
   "cell_type": "markdown",
   "metadata": {},
   "source": [
    "## Error handling\n",
    "\n",
    "Error handling in Python is done using try-except blocks, which allow you to gracefully handle exceptions that might occur during program execution."
   ]
  },
  {
   "cell_type": "code",
   "execution_count": null,
   "metadata": {},
   "outputs": [],
   "source": [
    "# Validating customer data\n",
    "def validate_customer(customer_data):\n",
    "    \"\"\"\n",
    "    Validate customer data and return list of errors\n",
    "    \"\"\"\n",
    "    errors = []\n",
    "    \n",
    "    # Check required fields\n",
    "    if \"name\" not in customer_data or not customer_data[\"name\"]:\n",
    "        errors.append(\"Name is required\")\n",
    "    \n",
    "    # Check age is a number and in valid range\n",
    "    age = customer_data.get(\"age\")\n",
    "    if age is None:\n",
    "        errors.append(\"Age is required\")\n",
    "    elif not isinstance(age, (int, float)):\n",
    "        errors.append(f\"Age must be a number, got {type(age).__name__}\")\n",
    "    elif age < 0 or age > 120:\n",
    "        errors.append(f\"Age {age} is out of valid range (0-120)\")\n",
    "    \n",
    "    # Check price is positive\n",
    "    if \"total_spent\" in customer_data:\n",
    "        spent = customer_data[\"total_spent\"]\n",
    "        if not isinstance(spent, (int, float)):\n",
    "            errors.append(f\"Total spent must be a number\")\n",
    "        elif spent < 0:\n",
    "            errors.append(f\"Total spent cannot be negative: £{spent}\")\n",
    "    \n",
    "    return errors\n",
    "\n",
    "# Test with valid data\n",
    "valid_customer = {\"name\": \"Alice Johnson\", \"age\": 30, \"total_spent\": 150}\n",
    "errors = validate_customer(valid_customer)\n",
    "print(f\"Valid customer errors: {errors if errors else 'None - data is valid!'}\")\n",
    "\n",
    "# Test with invalid data\n",
    "invalid_customer = {\"name\": \"\", \"age\": 150, \"total_spent\": -50}\n",
    "errors = validate_customer(invalid_customer)\n",
    "print(f\"\\nInvalid customer errors:\")\n",
    "for error in errors:\n",
    "    print(f\"  - {error}\")"
   ]
  },
  {
   "cell_type": "markdown",
   "metadata": {},
   "source": [
    "## Data validation\n",
    "\n",
    "When processing data, you need to check if it's valid before using it. This prevents errors and catches data quality issues early.\n",
    "\n",
    "Common validation checks:\n",
    "- **Type checking**: Is this a number or text?\n",
    "- **Range validation**: Is age between 0 and 120?\n",
    "- **Required fields**: Is this value missing?\n",
    "- **Format validation**: Does this look like an email?\n",
    "\n",
    "Let's learn defensive programming techniques:"
   ]
  },
  {
   "cell_type": "code",
   "execution_count": null,
   "metadata": {},
   "outputs": [],
   "source": [
    "# Parsing email addresses\n",
    "email = \"alice.johnson@example.co.uk\"\n",
    "\n",
    "# Extract username and domain\n",
    "username, domain = email.split(\"@\")\n",
    "print(f\"Username: {username}\")\n",
    "print(f\"Domain: {domain}\")\n",
    "\n",
    "# Extract first and last name from username\n",
    "first, last = username.split(\".\")\n",
    "print(f\"First name: {first.title()}\")\n",
    "print(f\"Last name: {last.title()}\")\n",
    "\n",
    "# Parsing phone numbers\n",
    "phone = \"  (020) 7946-0958  \"\n",
    "# Remove spaces, parentheses, and hyphens\n",
    "cleaned_phone = phone.strip().replace(\" \", \"\").replace(\"(\", \"\").replace(\")\", \"\").replace(\"-\", \"\")\n",
    "print(f\"\\nCleaned phone: {cleaned_phone}\")"
   ]
  },
  {
   "cell_type": "code",
   "execution_count": null,
   "metadata": {},
   "outputs": [],
   "source": [
    "# Cleaning messy customer names\n",
    "messy_names = [\n",
    "    \"  alice  johnson  \",\n",
    "    \"BOB SMITH\",\n",
    "    \"  Carol   Lee  \",\n",
    "    \"david NGUYEN\"\n",
    "]\n",
    "\n",
    "cleaned_names = []\n",
    "for name in messy_names:\n",
    "    # 1. Remove extra whitespace\n",
    "    name = name.strip()\n",
    "    # 2. Replace multiple spaces with single space\n",
    "    name = \" \".join(name.split())\n",
    "    # 3. Title case (capitalize first letter of each word)\n",
    "    name = name.title()\n",
    "    cleaned_names.append(name)\n",
    "\n",
    "print(\"Cleaned names:\")\n",
    "for name in cleaned_names:\n",
    "    print(f\"  '{name}'\")"
   ]
  },
  {
   "cell_type": "markdown",
   "metadata": {},
   "source": [
    "## String processing for data cleaning\n",
    "\n",
    "**Building on Week 01**: In Week 01, you learned basic string methods like `.lower()`, `.upper()`, `.strip()`, and `.split()`.\n",
    "\n",
    "Real-world data is messy! You'll constantly need to clean:\n",
    "- Extra whitespace\n",
    "- Inconsistent capitalization\n",
    "- Parsing names, addresses, phone numbers\n",
    "- Extracting information from text\n",
    "\n",
    "Let's learn practical string cleaning techniques:"
   ]
  },
  {
   "cell_type": "code",
   "execution_count": null,
   "metadata": {},
   "outputs": [],
   "source": [
    "# Practical pattern: Grouping data by category\n",
    "sales = [\n",
    "    {\"product\": \"Laptop\", \"category\": \"Electronics\", \"amount\": 999},\n",
    "    {\"product\": \"Mouse\", \"category\": \"Electronics\", \"amount\": 25},\n",
    "    {\"product\": \"Desk\", \"category\": \"Furniture\", \"amount\": 250},\n",
    "    {\"product\": \"Chair\", \"category\": \"Furniture\", \"amount\": 150},\n",
    "    {\"product\": \"Keyboard\", \"category\": \"Electronics\", \"amount\": 75}\n",
    "]\n",
    "\n",
    "# Group by category\n",
    "by_category = {}\n",
    "for sale in sales:\n",
    "    category = sale[\"category\"]\n",
    "    if category not in by_category:\n",
    "        by_category[category] = []\n",
    "    by_category[category].append(sale)\n",
    "\n",
    "print(\"Sales by category:\")\n",
    "for category, items in by_category.items():\n",
    "    total = sum(item[\"amount\"] for item in items)\n",
    "    print(f\"{category}: {len(items)} items, £{total} total\")"
   ]
  },
  {
   "cell_type": "code",
   "execution_count": null,
   "metadata": {},
   "outputs": [],
   "source": [
    "# Dictionary comprehensions - like list comprehensions, but for dictionaries\n",
    "products = [\"Laptop\", \"Mouse\", \"Keyboard\", \"Monitor\"]\n",
    "prices = [999, 25, 75, 250]\n",
    "\n",
    "# Create a price lookup dictionary\n",
    "price_lookup = {product: price for product, price in zip(products, prices)}\n",
    "print(\"Price lookup:\", price_lookup)\n",
    "print(f\"Mouse costs: £{price_lookup['Mouse']}\")\n",
    "\n",
    "# Filter while creating dictionary - only expensive items\n",
    "expensive_items = {product: price for product, price in zip(products, prices) if price > 100}\n",
    "print(\"\\nExpensive items:\", expensive_items)"
   ]
  },
  {
   "cell_type": "code",
   "execution_count": null,
   "metadata": {},
   "outputs": [],
   "source": [
    "# Nested dictionaries - customer database\n",
    "customers = {\n",
    "    \"C001\": {\n",
    "        \"name\": \"Alice Johnson\",\n",
    "        \"email\": \"alice@example.com\",\n",
    "        \"orders\": [{\"item\": \"Laptop\", \"price\": 999}, {\"item\": \"Mouse\", \"price\": 25}],\n",
    "        \"total_spent\": 1024\n",
    "    },\n",
    "    \"C002\": {\n",
    "        \"name\": \"Bob Smith\",\n",
    "        \"email\": \"bob@example.com\",\n",
    "        \"orders\": [{\"item\": \"Keyboard\", \"price\": 75}],\n",
    "        \"total_spent\": 75\n",
    "    }\n",
    "}\n",
    "\n",
    "# Accessing nested data\n",
    "print(f\"Customer C001: {customers['C001']['name']}\")\n",
    "print(f\"First order item: {customers['C001']['orders'][0]['item']}\")\n",
    "print(f\"C001 total spent: £{customers['C001']['total_spent']}\")"
   ]
  },
  {
   "cell_type": "markdown",
   "metadata": {},
   "source": [
    "## Working with dictionaries - advanced patterns\n",
    "\n",
    "**Building on Week 01**: In Week 01, you learned dictionary basics:\n",
    "```python\n",
    "person = {\"name\": \"Alice\", \"age\": 30}\n",
    "print(person[\"name\"])\n",
    "```\n",
    "\n",
    "This week, we'll explore more sophisticated dictionary patterns you'll use constantly in data analysis:\n",
    "- Nested dictionaries (complex data structures)\n",
    "- Dictionary comprehensions (creating dictionaries efficiently)\n",
    "- Practical patterns (grouping data, lookup tables)\n",
    "- Working with JSON-like structures"
   ]
  },
  {
   "cell_type": "code",
   "execution_count": null,
   "metadata": {},
   "outputs": [],
   "source": [
    "def divide(a, b):\n",
    "    try:\n",
    "        result = a / b\n",
    "    except ZeroDivisionError:\n",
    "        print(\"Error: Cannot divide by zero!\")\n",
    "        result = None\n",
    "    except TypeError:\n",
    "        print(\"Error: Invalid input types!\")\n",
    "        result = None\n",
    "    else:\n",
    "        print(\"Division successful!\")\n",
    "    finally:\n",
    "        print(\"Division operation completed.\")\n",
    "    return result\n",
    "\n",
    "print(divide(10, 2))\n",
    "print(divide(10, 0))\n",
    "print(divide(\"10\", 2))"
   ]
  },
  {
   "cell_type": "markdown",
   "metadata": {},
   "source": [
    "### Explanation:\n",
    "- The `try` block contains code that might raise an exception.\n",
    "- `except` blocks handle specific exceptions (`ZeroDivisionError`, `TypeError`).\n",
    "- The `else` block executes if no exception occurs.\n",
    "- The `finally` block always executes, regardless of whether an exception occurred."
   ]
  },
  {
   "cell_type": "markdown",
   "metadata": {},
   "source": [
    "## File I/O\n",
    "\n",
    "File Input/Output operations in Python allow you to read from and write to files on your computer.\n",
    "\n",
    "Note: We'll use the pre-existing example files in the `assets/data/` directory."
   ]
  },
  {
   "cell_type": "code",
   "execution_count": null,
   "metadata": {},
   "outputs": [],
   "source": [
    "# First, let's see what example files we have\n",
    "import os\n",
    "print(\"Files in assets/data/:\")\n",
    "for file in os.listdir(\"assets/data/\"):\n",
    "    print(f\"  - {file}\")"
   ]
  },
  {
   "cell_type": "code",
   "execution_count": null,
   "metadata": {},
   "outputs": [],
   "source": [
    "# Reading from an existing file\n",
    "print(\"Reading entire file:\")\n",
    "with open(\"assets/data/example.txt\", \"r\") as f:\n",
    "    content = f.read()\n",
    "    print(content)\n",
    "\n",
    "print(\"\\nReading line by line:\")\n",
    "with open(\"assets/data/example.txt\", \"r\") as f:\n",
    "    for line in f:\n",
    "        print(f\"Line: {line.strip()}\")\n",
    "\n",
    "# Writing to a new file in the output directory\n",
    "os.makedirs(\"output\", exist_ok=True)\n",
    "with open(\"output/my_output.txt\", \"w\") as f:\n",
    "    f.write(\"This is my analysis output\\n\")\n",
    "    f.write(\"Processing complete!\\n\")\n",
    "    print(\"Created output/my_output.txt\")\n",
    "\n",
    "# Appending to our output file\n",
    "with open(\"output/my_output.txt\", \"a\") as f:\n",
    "    f.write(\"Additional results added.\\n\")\n",
    "    print(\"Appended to output/my_output.txt\")\n",
    "\n",
    "print(\"\\nFinal file contents:\")\n",
    "with open(\"output/my_output.txt\", \"r\") as f:\n",
    "    print(f.read())"
   ]
  },
  {
   "cell_type": "markdown",
   "metadata": {},
   "source": [
    "### Explanation:\n",
    "- The `with` statement ensures the file is properly closed after operations.\n",
    "- \"w\" mode opens the file for writing, overwriting existing content.\n",
    "- \"r\" mode opens the file for reading.\n",
    "- \"a\" mode opens the file for appending, adding new content to the end."
   ]
  }
 ],
 "metadata": {
  "kernelspec": {
   "display_name": "Python 3 (ipykernel)",
   "language": "python",
   "name": "python3"
  },
  "language_info": {
   "codemirror_mode": {
    "name": "ipython",
    "version": 3
   },
   "file_extension": ".py",
   "mimetype": "text/x-python",
   "name": "python",
   "nbconvert_exporter": "python",
   "pygments_lexer": "ipython3",
   "version": "3.12.4"
  }
 },
 "nbformat": 4,
 "nbformat_minor": 4
}
