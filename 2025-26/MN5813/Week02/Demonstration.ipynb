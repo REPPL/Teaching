{
 "cells": [
  {
   "cell_type": "markdown",
   "metadata": {},
   "source": [
    "# Advanced Python concepts (Demonstration)"
   ]
  },
  {
   "cell_type": "markdown",
   "metadata": {},
   "source": [
    "_This notebook provides a very basic introduction to a selection of advanced Python concepts._\n",
    "\n",
    "Note: This Jupyter Notebook was originally compiled by Alex Reppel (AR) based on conversations with [ClaudeAI](https://claude.ai/) *(version 3.5 Sonnet)*. For this year's materials, further revisions were made using [Claude Code](https://www.anthropic.com/claude-code) *(Opus 4.1)*, including updated documentation and git commit messages."
   ]
  },
  {
   "cell_type": "markdown",
   "metadata": {},
   "source": [
    "## List comprehensions\n",
    "\n",
    "List comprehensions are a concise way to create lists in Python.\n",
    "\n",
    "They provide a more readable and often more efficient alternative to using loops and `append()` method calls."
   ]
  },
  {
   "cell_type": "code",
   "execution_count": null,
   "metadata": {},
   "outputs": [],
   "source": [
    "# List comprehension with condition\n",
    "even_squares = [x**2 for x in range(10) if x % 2 == 0]\n",
    "print(\"Even squares:\", even_squares)"
   ]
  },
  {
   "cell_type": "code",
   "execution_count": null,
   "metadata": {},
   "outputs": [],
   "source": [
    "# Basic list comprehension\n",
    "squares = [x**2 for x in range(10)]\n",
    "print(\"Squares:\", squares)\n",
    "\n",
    "# List comprehension with condition\n",
    "even_squares = [x**2 for x in range(10) if x % 2 == 0]\n",
    "print(\"Even squares:\", even_squares)\n",
    "\n",
    "# Nested list comprehension\n",
    "matrix = [[1, 2, 3], [4, 5, 6], [7, 8, 9]]\n",
    "flattened = [num for row in matrix for num in row]\n",
    "print(\"Flattened matrix:\", flattened)"
   ]
  },
  {
   "cell_type": "markdown",
   "metadata": {},
   "source": [
    "### Explanation:\n",
    "1. The first example creates a list of squares for numbers 0 through 9.\n",
    "2. The second example creates a list of squares, but only for even numbers. The `if x % 2 == 0` condition filters out odd numbers.\n",
    "3. The third example flattens a 2D list into a 1D list. The outer loop `for row in matrix` iterates over each sublist, while the inner loop `for num in row` iterates over each number in the sublist."
   ]
  },
  {
   "cell_type": "markdown",
   "metadata": {},
   "source": [
    "## Lambda functions\n",
    "\n",
    "Lambda functions, also known as anonymous functions, are small, one-time-use ('throw away') functions that can be defined without using the `def` keyword."
   ]
  },
  {
   "cell_type": "code",
   "execution_count": null,
   "metadata": {},
   "outputs": [],
   "source": [
    "# Simple lambda function\n",
    "square = lambda x: x**2\n",
    "print(\"Square of 5:\", square(5))\n",
    "\n",
    "# Lambda with multiple arguments\n",
    "multiply = lambda x, y: x * y\n",
    "print(\"4 * 7 =\", multiply(4, 7))\n",
    "\n",
    "# Lambda in built-in functions\n",
    "numbers = [1, 5, 2, 8, 3]\n",
    "sorted_numbers = sorted(numbers, key=lambda x: -x)\n",
    "print(\"Sorted in descending order:\", sorted_numbers)"
   ]
  },
  {
   "cell_type": "markdown",
   "metadata": {},
   "source": [
    "### Explanation:\n",
    "1. The first example creates a lambda function that squares its input.\n",
    "2. The second example shows a lambda function with multiple arguments.\n",
    "3. The third example uses a lambda function as the `key` argument in the `sorted()` function to sort numbers in descending order."
   ]
  },
  {
   "cell_type": "markdown",
   "metadata": {},
   "source": [
    "## Map, filter, and reduce\n",
    "\n",
    "These are higher-order functions that operate on iterables, often used with lambda functions for concise data manipulation.\n",
    "\n",
    "- [Python ``reduce()``](https://realpython.com/python-reduce-function/)\n",
    "- [Functional programming](https://realpython.com/python-functional-programming/)"
   ]
  },
  {
   "cell_type": "code",
   "execution_count": null,
   "metadata": {},
   "outputs": [],
   "source": [
    "from functools import reduce\n",
    "\n",
    "numbers = [1, 2, 3, 4, 5]\n",
    "\n",
    "# Map\n",
    "squared = list(map(lambda x: x**2, numbers))\n",
    "print(\"Squared numbers:\", squared)\n",
    "\n",
    "# Filters\n",
    "even = list(filter(lambda x: x % 2 == 0, numbers))\n",
    "print(\"Even numbers:\", even)\n",
    "\n",
    "# Reduce\n",
    "product = reduce(lambda x, y: x * y, numbers)\n",
    "print(\"Product of all numbers:\", product)\n",
    "\n",
    "# Combining map and filter\n",
    "odd_squares = list(map(lambda x: x**2, filter(lambda x: x % 2 != 0, numbers)))\n",
    "print(\"Squares of odd numbers:\", odd_squares)"
   ]
  },
  {
   "cell_type": "markdown",
   "metadata": {},
   "source": [
    "### Explanation:\n",
    "1. `map()` applies a function to every item in an iterable.\n",
    "2. `filter()` creates an iterator of elements for which a function returns True.\n",
    "3. `reduce()` applies a function of two arguments cumulatively to the items of a sequence.\n",
    "4. The last example combines `filter()` to select odd numbers and `map()` to square them."
   ]
  },
  {
   "cell_type": "markdown",
   "metadata": {},
   "source": [
    "## Error handling\n",
    "\n",
    "Error handling in Python is done using try-except blocks, which allow you to gracefully handle exceptions that might occur during program execution."
   ]
  },
  {
   "cell_type": "code",
   "execution_count": null,
   "metadata": {},
   "outputs": [],
   "source": [
    "def divide(a, b):\n",
    "    try:\n",
    "        result = a / b\n",
    "    except ZeroDivisionError:\n",
    "        print(\"Error: Cannot divide by zero!\")\n",
    "        result = None\n",
    "    except TypeError:\n",
    "        print(\"Error: Invalid input types!\")\n",
    "        result = None\n",
    "    else:\n",
    "        print(\"Division successful!\")\n",
    "    finally:\n",
    "        print(\"Division operation completed.\")\n",
    "    return result\n",
    "\n",
    "print(divide(10, 2))\n",
    "print(divide(10, 0))\n",
    "print(divide(\"10\", 2))"
   ]
  },
  {
   "cell_type": "markdown",
   "metadata": {},
   "source": [
    "### Explanation:\n",
    "- The `try` block contains code that might raise an exception.\n",
    "- `except` blocks handle specific exceptions (`ZeroDivisionError`, `TypeError`).\n",
    "- The `else` block executes if no exception occurs.\n",
    "- The `finally` block always executes, regardless of whether an exception occurred."
   ]
  },
  {
   "cell_type": "markdown",
   "metadata": {},
   "source": "## File I/O\n\nFile Input/Output operations in Python allow you to read from and write to files on your computer.\n\nNote: We'll use the pre-existing example files in the `assets/example_data/` directory."
  },
  {
   "cell_type": "code",
   "execution_count": null,
   "metadata": {},
   "outputs": [],
   "source": "# First, let's see what example files we have\nimport os\nprint(\"Files in assets/example_data/:\")\nfor file in os.listdir(\"assets/example_data/\"):\n    print(f\"  - {file}\")"
  },
  {
   "cell_type": "code",
   "execution_count": null,
   "metadata": {},
   "outputs": [],
   "source": "# Reading from an existing file\nprint(\"Reading entire file:\")\nwith open(\"assets/example_data/example.txt\", \"r\") as f:\n    content = f.read()\n    print(content)\n\nprint(\"\\nReading line by line:\")\nwith open(\"assets/example_data/example.txt\", \"r\") as f:\n    for line in f:\n        print(f\"Line: {line.strip()}\")\n\n# Writing to a new file in the output directory\nos.makedirs(\"output\", exist_ok=True)\nwith open(\"output/my_output.txt\", \"w\") as f:\n    f.write(\"This is my analysis output\\n\")\n    f.write(\"Processing complete!\\n\")\n    print(\"Created output/my_output.txt\")\n\n# Appending to our output file\nwith open(\"output/my_output.txt\", \"a\") as f:\n    f.write(\"Additional results added.\\n\")\n    print(\"Appended to output/my_output.txt\")\n\nprint(\"\\nFinal file contents:\")\nwith open(\"output/my_output.txt\", \"r\") as f:\n    print(f.read())"
  },
  {
   "cell_type": "markdown",
   "metadata": {},
   "source": [
    "### Explanation:\n",
    "- The `with` statement ensures the file is properly closed after operations.\n",
    "- \"w\" mode opens the file for writing, overwriting existing content.\n",
    "- \"r\" mode opens the file for reading.\n",
    "- \"a\" mode opens the file for appending, adding new content to the end."
   ]
  }
 ],
 "metadata": {
  "kernelspec": {
   "display_name": "default",
   "language": "python",
   "name": "python3"
  },
  "language_info": {
   "codemirror_mode": {
    "name": "ipython",
    "version": 3
   },
   "file_extension": ".py",
   "mimetype": "text/x-python",
   "name": "python",
   "nbconvert_exporter": "python",
   "pygments_lexer": "ipython3",
   "version": "3.12.4"
  }
 },
 "nbformat": 4,
 "nbformat_minor": 4
}