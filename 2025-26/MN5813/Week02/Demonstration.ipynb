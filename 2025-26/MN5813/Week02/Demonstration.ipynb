{
 "cells": [
  {
   "cell_type": "markdown",
   "metadata": {},
   "source": [
    "# Advanced Python concepts (Demonstration)"
   ]
  },
  {
   "cell_type": "markdown",
   "metadata": {},
   "source": [
    "_This notebook provides a very basic introduction to a selection of advanced Python concepts._\n",
    "\n",
    "Note: This Jupyter Notebook was originally compiled by Alex Reppel (AR) based on conversations with [ClaudeAI](https://claude.ai/) *(version 3.5 Sonnet)*. For this year's materials, further revisions were made using [Claude Code](https://www.anthropic.com/claude-code) *(Opus 4.1)*, including updated documentation and git commit messages."
   ]
  },
  {
   "cell_type": "markdown",
   "source": "---\n\n## 🎯 CORE CONTENT (Essential for Exercises)\n\n**Estimated time**: 60-75 minutes\n\nAll sections in this notebook are essential for completing the Week 02 exercises. The content introduces advanced Python techniques that make your code more concise and powerful:\n- List comprehensions (concise list creation)\n- Lambda functions (anonymous functions)\n- Map, filter, reduce (functional programming)\n- Error handling (try/except blocks)\n- Advanced file I/O (CSV and JSON)\n\nWork through each section carefully. These techniques will be used extensively in later weeks.\n\n---",
   "metadata": {}
  },
  {
   "cell_type": "markdown",
   "source": "## List comprehensions\n\n**From Week 01**, you learned to create lists using loops and `.append()`:\n```python\nsquares = []\nfor x in range(5):\n    squares.append(x**2)\n# Result: [0, 1, 4, 9, 16]\n```\n\n**New technique**: List comprehensions provide a concise, one-line alternative:\n```python\nsquares = [x**2 for x in range(5)]\n# Same result: [0, 1, 4, 9, 16]\n```\n\nThey're more readable and often more efficient than traditional loops. Let's explore their power:",
   "metadata": {}
  },
  {
   "cell_type": "markdown",
   "metadata": {},
   "source": [
    "## List comprehensions\n",
    "\n",
    "List comprehensions are a concise way to create lists in Python.\n",
    "\n",
    "They provide a more readable and often more efficient alternative to using loops and `append()` method calls."
   ]
  },
  {
   "cell_type": "code",
   "execution_count": null,
   "metadata": {},
   "outputs": [],
   "source": [
    "# List comprehension with condition\n",
    "even_squares = [x**2 for x in range(10) if x % 2 == 0]\n",
    "print(\"Even squares:\", even_squares)"
   ]
  },
  {
   "cell_type": "code",
   "execution_count": null,
   "metadata": {},
   "outputs": [],
   "source": "## Lambda functions - simplified shorthand\n\n**Building on Week 01 functions**: In Week 01, you learned to define functions with `def`:\n```python\ndef square(x):\n    return x ** 2\n```\n\n**New shorthand**: Lambda lets you write tiny, one-line functions:\n```python\nsquare = lambda x: x ** 2\n```\n\n**When to use lambda:**\n- For very simple operations (one expression)\n- As a quick function argument (you'll see this next)\n\n**When NOT to use lambda:**\n- For anything complex (use regular `def` functions)\n- When you need multiple lines\n\n**Bottom line**: Regular `def` functions are clearer and preferred. Lambda is just handy occasionally."
  },
  {
   "cell_type": "markdown",
   "metadata": {},
   "source": "# Simple lambda examples\nsquare = lambda x: x ** 2\nprint(\"Square of 5:\", square(5))\n\nadd = lambda x, y: x + y\nprint(\"3 + 7 =\", add(3, 7))\n\n# Lambda is useful when you need a quick function for sorting\nstudents = [{\"name\": \"Alice\", \"grade\": 85}, {\"name\": \"Bob\", \"grade\": 92}, {\"name\": \"Carol\", \"grade\": 78}]\nsorted_students = sorted(students, key=lambda s: s[\"grade\"], reverse=True)\nprint(\"Sorted by grade:\", [s[\"name\"] for s in sorted_students])"
  },
  {
   "cell_type": "markdown",
   "metadata": {},
   "source": [
    "## Lambda functions\n",
    "\n",
    "Lambda functions, also known as anonymous functions, are small, one-time-use ('throw away') functions that can be defined without using the `def` keyword."
   ]
  },
  {
   "cell_type": "code",
   "execution_count": null,
   "metadata": {},
   "outputs": [],
   "source": "## Map and filter - built-in list processing\n\n**Building on Week 01 loops**: In Week 01, you learned to process lists with for loops:\n```python\n# Square all numbers\nnumbers = [1, 2, 3, 4, 5]\nsquared = []\nfor x in numbers:\n    squared.append(x ** 2)\n```\n\n**Alternative approaches**: Python provides built-in functions for common list operations:\n- **`map()`** - apply a function to every item\n- **`filter()`** - keep only items that pass a test\n\n**Important**: List comprehensions (which you just learned) are usually clearer and preferred in Python. These functions are shown for completeness, but you'll mostly use list comprehensions.\n\nLet's see quick examples:"
  },
  {
   "cell_type": "markdown",
   "metadata": {},
   "source": "numbers = [1, 2, 3, 4, 5]\n\n# Map - apply function to every item\nsquared_map = list(map(lambda x: x ** 2, numbers))\nprint(\"Using map():\", squared_map)\n\n# List comprehension - PREFERRED approach (clearer!)\nsquared_comp = [x ** 2 for x in numbers]\nprint(\"Using list comprehension:\", squared_comp)\n\n# Filter - keep only items that pass a test\neven_filter = list(filter(lambda x: x % 2 == 0, numbers))\nprint(\"Using filter():\", even_filter)\n\n# List comprehension - PREFERRED approach (clearer!)\neven_comp = [x for x in numbers if x % 2 == 0]\nprint(\"Using list comprehension:\", even_comp)\n\nprint(\"\\n✓ Takeaway: List comprehensions are more readable. Use them instead of map/filter.\")"
  },
  {
   "cell_type": "markdown",
   "metadata": {},
   "source": "### Explanation:\n- `map()` applies a function to every item (like a for loop with append)\n- `filter()` creates a list of items that pass a test (like a for loop with if condition)\n- **But**: List comprehensions do the same thing more clearly\n- **Best practice**: Use list comprehensions in your code\n\nThis comparison shows you that map/filter exist, but you'll write clearer code with list comprehensions."
  },
  {
   "cell_type": "code",
   "execution_count": null,
   "metadata": {},
   "outputs": [],
   "source": [
    "from functools import reduce\n",
    "\n",
    "numbers = [1, 2, 3, 4, 5]\n",
    "\n",
    "# Map\n",
    "squared = list(map(lambda x: x**2, numbers))\n",
    "print(\"Squared numbers:\", squared)\n",
    "\n",
    "# Filters\n",
    "even = list(filter(lambda x: x % 2 == 0, numbers))\n",
    "print(\"Even numbers:\", even)\n",
    "\n",
    "# Reduce\n",
    "product = reduce(lambda x, y: x * y, numbers)\n",
    "print(\"Product of all numbers:\", product)\n",
    "\n",
    "# Combining map and filter\n",
    "odd_squares = list(map(lambda x: x**2, filter(lambda x: x % 2 != 0, numbers)))\n",
    "print(\"Squares of odd numbers:\", odd_squares)"
   ]
  },
  {
   "cell_type": "markdown",
   "metadata": {},
   "source": [
    "### Explanation:\n",
    "1. `map()` applies a function to every item in an iterable.\n",
    "2. `filter()` creates an iterator of elements for which a function returns True.\n",
    "3. `reduce()` applies a function of two arguments cumulatively to the items of a sequence.\n",
    "4. The last example combines `filter()` to select odd numbers and `map()` to square them."
   ]
  },
  {
   "cell_type": "markdown",
   "metadata": {},
   "source": [
    "## Error handling\n",
    "\n",
    "Error handling in Python is done using try-except blocks, which allow you to gracefully handle exceptions that might occur during program execution."
   ]
  },
  {
   "cell_type": "code",
   "source": "# Validating customer data\ndef validate_customer(customer_data):\n    \"\"\"\n    Validate customer data and return list of errors\n    \"\"\"\n    errors = []\n    \n    # Check required fields\n    if \"name\" not in customer_data or not customer_data[\"name\"]:\n        errors.append(\"Name is required\")\n    \n    # Check age is a number and in valid range\n    age = customer_data.get(\"age\")\n    if age is None:\n        errors.append(\"Age is required\")\n    elif not isinstance(age, (int, float)):\n        errors.append(f\"Age must be a number, got {type(age).__name__}\")\n    elif age < 0 or age > 120:\n        errors.append(f\"Age {age} is out of valid range (0-120)\")\n    \n    # Check price is positive\n    if \"total_spent\" in customer_data:\n        spent = customer_data[\"total_spent\"]\n        if not isinstance(spent, (int, float)):\n            errors.append(f\"Total spent must be a number\")\n        elif spent < 0:\n            errors.append(f\"Total spent cannot be negative: £{spent}\")\n    \n    return errors\n\n# Test with valid data\nvalid_customer = {\"name\": \"Alice Johnson\", \"age\": 30, \"total_spent\": 150}\nerrors = validate_customer(valid_customer)\nprint(f\"Valid customer errors: {errors if errors else 'None - data is valid!'}\")\n\n# Test with invalid data\ninvalid_customer = {\"name\": \"\", \"age\": 150, \"total_spent\": -50}\nerrors = validate_customer(invalid_customer)\nprint(f\"\\nInvalid customer errors:\")\nfor error in errors:\n    print(f\"  - {error}\")",
   "metadata": {},
   "execution_count": null,
   "outputs": []
  },
  {
   "cell_type": "markdown",
   "source": "## Data validation patterns\n\nWhen processing data, you need to check if it's valid before using it. This prevents errors and catches data quality issues early.\n\nCommon validation checks:\n- **Type checking**: Is this a number or text?\n- **Range validation**: Is age between 0 and 120?\n- **Required fields**: Is this value missing?\n- **Format validation**: Does this look like an email?\n\nLet's learn defensive programming techniques:",
   "metadata": {}
  },
  {
   "cell_type": "code",
   "source": "# Parsing email addresses\nemail = \"alice.johnson@example.co.uk\"\n\n# Extract username and domain\nusername, domain = email.split(\"@\")\nprint(f\"Username: {username}\")\nprint(f\"Domain: {domain}\")\n\n# Extract first and last name from username\nfirst, last = username.split(\".\")\nprint(f\"First name: {first.title()}\")\nprint(f\"Last name: {last.title()}\")\n\n# Parsing phone numbers\nphone = \"  (020) 7946-0958  \"\n# Remove spaces, parentheses, and hyphens\ncleaned_phone = phone.strip().replace(\" \", \"\").replace(\"(\", \"\").replace(\")\", \"\").replace(\"-\", \"\")\nprint(f\"\\nCleaned phone: {cleaned_phone}\")",
   "metadata": {},
   "execution_count": null,
   "outputs": []
  },
  {
   "cell_type": "code",
   "source": "# Cleaning messy customer names\nmessy_names = [\n    \"  alice  johnson  \",\n    \"BOB SMITH\",\n    \"  Carol   Lee  \",\n    \"david NGUYEN\"\n]\n\ncleaned_names = []\nfor name in messy_names:\n    # 1. Remove extra whitespace\n    name = name.strip()\n    # 2. Replace multiple spaces with single space\n    name = \" \".join(name.split())\n    # 3. Title case (capitalize first letter of each word)\n    name = name.title()\n    cleaned_names.append(name)\n\nprint(\"Cleaned names:\")\nfor name in cleaned_names:\n    print(f\"  '{name}'\")",
   "metadata": {},
   "execution_count": null,
   "outputs": []
  },
  {
   "cell_type": "markdown",
   "source": "## String processing for data cleaning\n\n**Building on Week 01**: In Week 01, you learned basic string methods like `.lower()`, `.upper()`, `.strip()`, and `.split()`.\n\nReal-world data is messy! You'll constantly need to clean:\n- Extra whitespace\n- Inconsistent capitalization\n- Parsing names, addresses, phone numbers\n- Extracting information from text\n\nLet's learn practical string cleaning techniques:",
   "metadata": {}
  },
  {
   "cell_type": "code",
   "source": "# Practical pattern: Grouping data by category\nsales = [\n    {\"product\": \"Laptop\", \"category\": \"Electronics\", \"amount\": 999},\n    {\"product\": \"Mouse\", \"category\": \"Electronics\", \"amount\": 25},\n    {\"product\": \"Desk\", \"category\": \"Furniture\", \"amount\": 250},\n    {\"product\": \"Chair\", \"category\": \"Furniture\", \"amount\": 150},\n    {\"product\": \"Keyboard\", \"category\": \"Electronics\", \"amount\": 75}\n]\n\n# Group by category\nby_category = {}\nfor sale in sales:\n    category = sale[\"category\"]\n    if category not in by_category:\n        by_category[category] = []\n    by_category[category].append(sale)\n\nprint(\"Sales by category:\")\nfor category, items in by_category.items():\n    total = sum(item[\"amount\"] for item in items)\n    print(f\"{category}: {len(items)} items, £{total} total\")",
   "metadata": {},
   "execution_count": null,
   "outputs": []
  },
  {
   "cell_type": "code",
   "source": "# Dictionary comprehensions - like list comprehensions, but for dictionaries\nproducts = [\"Laptop\", \"Mouse\", \"Keyboard\", \"Monitor\"]\nprices = [999, 25, 75, 250]\n\n# Create a price lookup dictionary\nprice_lookup = {product: price for product, price in zip(products, prices)}\nprint(\"Price lookup:\", price_lookup)\nprint(f\"Mouse costs: £{price_lookup['Mouse']}\")\n\n# Filter while creating dictionary - only expensive items\nexpensive_items = {product: price for product, price in zip(products, prices) if price > 100}\nprint(\"\\nExpensive items:\", expensive_items)",
   "metadata": {},
   "execution_count": null,
   "outputs": []
  },
  {
   "cell_type": "code",
   "source": "# Nested dictionaries - customer database\ncustomers = {\n    \"C001\": {\n        \"name\": \"Alice Johnson\",\n        \"email\": \"alice@example.com\",\n        \"orders\": [{\"item\": \"Laptop\", \"price\": 999}, {\"item\": \"Mouse\", \"price\": 25}],\n        \"total_spent\": 1024\n    },\n    \"C002\": {\n        \"name\": \"Bob Smith\",\n        \"email\": \"bob@example.com\",\n        \"orders\": [{\"item\": \"Keyboard\", \"price\": 75}],\n        \"total_spent\": 75\n    }\n}\n\n# Accessing nested data\nprint(f\"Customer C001: {customers['C001']['name']}\")\nprint(f\"First order item: {customers['C001']['orders'][0]['item']}\")\nprint(f\"C001 total spent: £{customers['C001']['total_spent']}\")",
   "metadata": {},
   "execution_count": null,
   "outputs": []
  },
  {
   "cell_type": "markdown",
   "source": "## Working with dictionaries - advanced patterns\n\n**Building on Week 01**: In Week 01, you learned dictionary basics:\n```python\nperson = {\"name\": \"Alice\", \"age\": 30}\nprint(person[\"name\"])\n```\n\nThis week, we'll explore more sophisticated dictionary patterns you'll use constantly in data analysis:\n- Nested dictionaries (complex data structures)\n- Dictionary comprehensions (creating dictionaries efficiently)\n- Practical patterns (grouping data, lookup tables)\n- Working with JSON-like structures",
   "metadata": {}
  },
  {
   "cell_type": "code",
   "execution_count": null,
   "metadata": {},
   "outputs": [],
   "source": [
    "def divide(a, b):\n",
    "    try:\n",
    "        result = a / b\n",
    "    except ZeroDivisionError:\n",
    "        print(\"Error: Cannot divide by zero!\")\n",
    "        result = None\n",
    "    except TypeError:\n",
    "        print(\"Error: Invalid input types!\")\n",
    "        result = None\n",
    "    else:\n",
    "        print(\"Division successful!\")\n",
    "    finally:\n",
    "        print(\"Division operation completed.\")\n",
    "    return result\n",
    "\n",
    "print(divide(10, 2))\n",
    "print(divide(10, 0))\n",
    "print(divide(\"10\", 2))"
   ]
  },
  {
   "cell_type": "markdown",
   "metadata": {},
   "source": [
    "### Explanation:\n",
    "- The `try` block contains code that might raise an exception.\n",
    "- `except` blocks handle specific exceptions (`ZeroDivisionError`, `TypeError`).\n",
    "- The `else` block executes if no exception occurs.\n",
    "- The `finally` block always executes, regardless of whether an exception occurred."
   ]
  },
  {
   "cell_type": "markdown",
   "metadata": {},
   "source": "## File I/O\n\nFile Input/Output operations in Python allow you to read from and write to files on your computer.\n\nNote: We'll use the pre-existing example files in the `assets/example_data/` directory."
  },
  {
   "cell_type": "code",
   "execution_count": null,
   "metadata": {},
   "outputs": [],
   "source": "# First, let's see what example files we have\nimport os\nprint(\"Files in assets/example_data/:\")\nfor file in os.listdir(\"assets/example_data/\"):\n    print(f\"  - {file}\")"
  },
  {
   "cell_type": "code",
   "execution_count": null,
   "metadata": {},
   "outputs": [],
   "source": "# Reading from an existing file\nprint(\"Reading entire file:\")\nwith open(\"assets/example_data/example.txt\", \"r\") as f:\n    content = f.read()\n    print(content)\n\nprint(\"\\nReading line by line:\")\nwith open(\"assets/example_data/example.txt\", \"r\") as f:\n    for line in f:\n        print(f\"Line: {line.strip()}\")\n\n# Writing to a new file in the output directory\nos.makedirs(\"output\", exist_ok=True)\nwith open(\"output/my_output.txt\", \"w\") as f:\n    f.write(\"This is my analysis output\\n\")\n    f.write(\"Processing complete!\\n\")\n    print(\"Created output/my_output.txt\")\n\n# Appending to our output file\nwith open(\"output/my_output.txt\", \"a\") as f:\n    f.write(\"Additional results added.\\n\")\n    print(\"Appended to output/my_output.txt\")\n\nprint(\"\\nFinal file contents:\")\nwith open(\"output/my_output.txt\", \"r\") as f:\n    print(f.read())"
  },
  {
   "cell_type": "markdown",
   "metadata": {},
   "source": [
    "### Explanation:\n",
    "- The `with` statement ensures the file is properly closed after operations.\n",
    "- \"w\" mode opens the file for writing, overwriting existing content.\n",
    "- \"r\" mode opens the file for reading.\n",
    "- \"a\" mode opens the file for appending, adding new content to the end."
   ]
  }
 ],
 "metadata": {
  "kernelspec": {
   "display_name": "default",
   "language": "python",
   "name": "python3"
  },
  "language_info": {
   "codemirror_mode": {
    "name": "ipython",
    "version": 3
   },
   "file_extension": ".py",
   "mimetype": "text/x-python",
   "name": "python",
   "nbconvert_exporter": "python",
   "pygments_lexer": "ipython3",
   "version": "3.12.4"
  }
 },
 "nbformat": 4,
 "nbformat_minor": 4
}