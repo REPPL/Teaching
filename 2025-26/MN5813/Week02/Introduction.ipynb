{
 "cells": [
  {
   "cell_type": "markdown",
   "id": "cell-0",
   "metadata": {},
   "source": [
    "# Advanced Python (Introduction)"
   ]
  },
  {
   "cell_type": "markdown",
   "id": "cell-1",
   "metadata": {},
   "source": [
    "_This notebook introduces `Week02`'s learning objectives and key concepts, building on the foundations from `Week01`._\n",
    "\n",
    "Note: This Jupyter Notebook was originally compiled by Alex Reppel (AR) based on conversations with [ClaudeAI](https://claude.ai/) *(version 3.5 Sonnet)*. For this year's materials, further revisions were made using [Claude Code](https://www.anthropic.com/claude-code) *(Opus 4.1)*, including updated documentation and git commit messages."
   ]
  },
  {
   "cell_type": "markdown",
   "id": "cell-2",
   "metadata": {},
   "source": [
    "## Overview\n",
    "\n",
    "Welcome to Week 2! This week builds on the Python fundamentals you learnt in Week 1. We'll explore more advanced Python concepts that will make your code more efficient and powerful."
   ]
  },
  {
   "cell_type": "markdown",
   "id": "cell-3",
   "metadata": {},
   "source": [
    "## Learning objectives\n",
    "\n",
    "By the end of this week, you will be able to:\n",
    "\n",
    "1. **Write efficient code using list comprehensions** - create and filter lists in a single line\n",
    "2. **Apply functional programming concepts** - use lambda functions, map, filter, and reduce\n",
    "3. **Handle errors gracefully** - use try-except blocks to manage exceptions\n",
    "4. **Work with various file formats** - read and write text files, CSV, and JSON data"
   ]
  },
  {
   "cell_type": "markdown",
   "id": "cell-4",
   "metadata": {},
   "source": [
    "## Prerequisites\n",
    "\n",
    "Before starting this week's materials, ensure you can:\n",
    "- Work confidently with strings, lists, and dictionaries\n",
    "- Write functions with multiple parameters\n",
    "- Use loops and if statements effectively\n",
    "- Handle basic file operations\n",
    "\n",
    "If you're not comfortable with these concepts, please review Week 1's `Demonstration` and `Solutions` notebooks."
   ]
  },
  {
   "cell_type": "markdown",
   "id": "cell-5",
   "metadata": {},
   "source": [
    "## This week's structure\n",
    "\n",
    "### Introduction (this notebook)\n",
    "- Overview of week's objectives\n",
    "- Quick review of prerequisites\n",
    "- Preview of advanced concepts\n",
    "\n",
    "### Demonstration\n",
    "- List comprehensions with practical examples\n",
    "- Functional programming techniques\n",
    "- Error handling strategies\n",
    "- File I/O operations for different formats\n",
    "\n",
    "### Exercises (2 hours)\n",
    "- Progressive exercises building on each concept\n",
    "- Real-world data processing scenarios\n",
    "- Structured with clear instructions\n",
    "\n",
    "### Solutions\n",
    "- Complete solutions with explanations\n",
    "- Alternative approaches discussed\n",
    "- Best practices highlighted"
   ]
  },
  {
   "cell_type": "markdown",
   "id": "cell-6",
   "metadata": {},
   "source": [
    "## Quick review from Week 1\n",
    "\n",
    "Let's quickly review the key concepts you learnt in Week 1:"
   ]
  },
  {
   "cell_type": "code",
   "execution_count": null,
   "id": "cell-7",
   "metadata": {},
   "outputs": [],
   "source": [
    "# String manipulation (from Week 1)\n",
    "email = \"Alice.Smith@Company.co.uk\"\n",
    "username = email.lower().split(\"@\")[0]\n",
    "print(f\"Username: {username}\")"
   ]
  },
  {
   "cell_type": "code",
   "execution_count": null,
   "id": "cell-8",
   "metadata": {},
   "outputs": [],
   "source": [
    "# List operations (from Week 1)\n",
    "sales = [150, 235, 189, 298, 176]\n",
    "high_sales = []\n",
    "for sale in sales:\n",
    "    if sale > 200:\n",
    "        high_sales.append(sale)\n",
    "print(f\"High sales: {high_sales}\")"
   ]
  },
  {
   "cell_type": "code",
   "execution_count": null,
   "id": "cell-9",
   "metadata": {},
   "outputs": [],
   "source": [
    "# Dictionary usage (from Week 1)\n",
    "customer = {\n",
    "    \"name\": \"Alice Johnson\",\n",
    "    \"purchases\": [150, 200, 175]\n",
    "}\n",
    "total = sum(customer[\"purchases\"])\n",
    "print(f\"{customer[\"name\"]} spent £{total}\")"
   ]
  },
  {
   "cell_type": "markdown",
   "id": "cell-10",
   "metadata": {},
   "source": [
    "## What's new this week\n",
    "\n",
    "This week, we'll build on these fundamentals with more powerful techniques:\n",
    "\n",
    "### 1. List comprehensions"
   ]
  },
  {
   "cell_type": "code",
   "execution_count": null,
   "id": "cell-11",
   "metadata": {},
   "outputs": [],
   "source": [
    "# Compare: Week 1 approach vs Week 2 approach\n",
    "sales = [150, 235, 189, 298, 176]\n",
    "\n",
    "# Week 2: List comprehension (more efficient)\n",
    "high_sales = [sale for sale in sales if sale > 200]\n",
    "print(f\"High sales: {high_sales}\")"
   ]
  },
  {
   "cell_type": "markdown",
   "id": "cell-12",
   "metadata": {},
   "source": [
    "### 2. Functional programming"
   ]
  },
  {
   "cell_type": "code",
   "execution_count": null,
   "id": "cell-13",
   "metadata": {},
   "outputs": [],
   "source": [
    "# Lambda functions and map\n",
    "prices = [100, 150, 200]\n",
    "with_vat = list(map(lambda x: x * 1.20, prices))\n",
    "print(f\"Prices with VAT: {with_vat}\")"
   ]
  },
  {
   "cell_type": "markdown",
   "id": "cell-14",
   "metadata": {},
   "source": [
    "### 3. Error handling"
   ]
  },
  {
   "cell_type": "code",
   "execution_count": null,
   "id": "cell-15",
   "metadata": {},
   "outputs": [],
   "source": [
    "# Graceful error handling\n",
    "def safe_divide(a, b):\n",
    "    try:\n",
    "        return a / b\n",
    "    except ZeroDivisionError:\n",
    "        return \"Cannot divide by zero\"\n",
    "\n",
    "print(safe_divide(10, 2))  # Works normally\n",
    "print(safe_divide(10, 0))  # Handles error gracefully"
   ]
  },
  {
   "cell_type": "markdown",
   "id": "cell-16",
   "metadata": {},
   "source": [
    "### 4. Working with different file formats"
   ]
  },
  {
   "cell_type": "code",
   "execution_count": null,
   "id": "cell-17",
   "metadata": {},
   "outputs": [],
   "source": [
    "# JSON data handling (preview)\n",
    "import json\n",
    "\n",
    "# Sample data structure you'll work with\n",
    "customer_data = {\n",
    "    \"customers\": [\n",
    "        {\"name\": \"Alice\", \"spending\": 1500},\n",
    "        {\"name\": \"Bob\", \"spending\": 2200}\n",
    "    ]\n",
    "}\n",
    "\n",
    "# Converting to JSON format\n",
    "json_string = json.dumps(customer_data, indent=2)\n",
    "print(\"JSON format:\")\n",
    "print(json_string)"
   ]
  },
  {
   "cell_type": "markdown",
   "id": "cell-18",
   "metadata": {},
   "source": [
    "## Key concepts to focus on\n",
    "\n",
    "### Efficiency matters\n",
    "- **List comprehensions** make code more readable and faster\n",
    "- **Functional programming** reduces repetitive code\n",
    "- **Error handling** makes your programmes robust\n",
    "\n",
    "### Real-world applications\n",
    "- **CSV files** for spreadsheet data\n",
    "- **JSON files** for web APIs and configuration\n",
    "- **Error handling** for user input and file operations\n",
    "\n",
    "### Code quality\n",
    "- Write code that others can understand\n",
    "- Handle edge cases and errors\n",
    "- Use appropriate data structures for the task"
   ]
  },
  {
   "cell_type": "markdown",
   "id": "cell-19",
   "metadata": {},
   "source": [
    "## Common challenges this week\n",
    "\n",
    "Students often find these concepts challenging:\n",
    "\n",
    "1. **List comprehension syntax** - The compact syntax can be confusing at first\n",
    "2. **Lambda functions** - Anonymous functions take practice to understand\n",
    "3. **Exception types** - Knowing which errors to catch and when\n",
    "4. **File format differences** - Understanding when to use CSV vs JSON\n",
    "\n",
    "We'll work through each of these systematically in the `Demonstration` notebook."
   ]
  },
  {
   "cell_type": "markdown",
   "id": "cell-20",
   "metadata": {},
   "source": [
    "## How to approach this week\n",
    "\n",
    "### Recommended study plan\n",
    "\n",
    "1. **Review this Introduction** (10 minutes)\n",
    "2. **Work through the Demonstration** (60 minutes)\n",
    "   - Take time with list comprehensions - they're powerful but need practice\n",
    "   - Try modifying the lambda function examples\n",
    "   - Practice the error handling examples with different inputs\n",
    "\n",
    "3. **Attempt Exercises** (120 minutes)\n",
    "   - Start with simpler list comprehensions before complex ones\n",
    "   - Don't worry if functional programming feels unfamiliar initially\n",
    "   - Test your error handling with edge cases\n",
    "\n",
    "4. **Review Solutions** (30 minutes)\n",
    "   - Compare different approaches to the same problem\n",
    "   - Note how error handling improves code robustness\n",
    "   - Understand when to use each technique"
   ]
  },
  {
   "cell_type": "markdown",
   "id": "cell-21",
   "metadata": {},
   "source": [
    "## Review\n",
    "\n",
    "By the end of this week, you should be able to:\n",
    "\n",
    "✓ Write list comprehensions to filter and transform data  \n",
    "✓ Use lambda functions with map, filter, and reduce  \n",
    "✓ Implement try-except blocks for robust error handling  \n",
    "✓ Read and write CSV files for data analysis  \n",
    "✓ Work with JSON data for web applications  \n",
    "✓ Choose appropriate techniques for different programming tasks  \n",
    "✓ Debug more complex Python programmes  \n",
    "✓ Write efficient, readable code using advanced Python features  "
   ]
  },
  {
   "cell_type": "markdown",
   "id": "cell-22",
   "metadata": {},
   "source": [
    "## Ready to advance?\n",
    "\n",
    "If you're comfortable with Week 1's concepts, you're ready to proceed to the `Demonstration` notebook.\n",
    "\n",
    "Remember:\n",
    "- **Build gradually** - these concepts build on each other\n",
    "- **Practice actively** - type out the examples yourself\n",
    "- **Experiment freely** - try variations of the code examples\n",
    "- **Don't rush** - advanced concepts need time to sink in\n",
    "\n",
    "Good luck with Week 2!"
   ]
  }
 ],
 "metadata": {
  "kernelspec": {
   "display_name": "Python 3 (ipykernel)",
   "language": "python",
   "name": "python3"
  },
  "language_info": {
   "codemirror_mode": {
    "name": "ipython",
    "version": 3
   },
   "file_extension": ".py",
   "mimetype": "text/x-python",
   "name": "python",
   "nbconvert_exporter": "python",
   "pygments_lexer": "ipython3",
   "version": "3.12.4"
  }
 },
 "nbformat": 4,
 "nbformat_minor": 5
}