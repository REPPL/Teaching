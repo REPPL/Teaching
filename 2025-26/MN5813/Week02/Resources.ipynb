{
 "cells": [
  {
   "cell_type": "markdown",
   "metadata": {},
   "source": [
    "# Advanced Python concepts (Resources)"
   ]
  },
  {
   "cell_type": "markdown",
   "metadata": {},
   "source": [
    "_This notebook provides a basic introduction to object-oriented programming and classes in Python. While it is not essential for the course, it may be helpful for building on some of the concepts covered in the lectures._\n",
    "\n",
    "Note: This Jupyter Notebook was originally compiled by Alex Reppel (AR) based on conversations with [ClaudeAI](https://claude.ai/) *(version 3.5 Sonnet)*. For this year's materials, further revisions were made using [Claude Code](https://www.anthropic.com/claude-code) *(Opus 4.1)*, including updated documentation and git commit messages."
   ]
  },
  {
   "cell_type": "markdown",
   "metadata": {},
   "source": [
    "## Object-oriented programming\n",
    "\n",
    "Object-Oriented Programming (OOP) is a programming paradigm that organises code into [objects](https://realpython.com/python3-object-oriented-programming/), which are instances of [classes](https://realpython.com/python3-object-oriented-programming/). This approach helps in structuring code in a way that's often more intuitive and closer to how we think about real-world entities.\n",
    "\n",
    "This introduction covers the basics, but OOP has many more advanced concepts and techniques that you can explore once you're familar with these basic concepts."
   ]
  },
  {
   "cell_type": "markdown",
   "metadata": {},
   "source": "### Key concepts\n\n1. **Classes**: Blueprints for creating objects. They define the attributes (**data**) and methods (**functions**) that the objects will have.\n2. **Objects**: Instances of classes. They represent specific entities with their own set of data.\n3. **Attributes**: Data stored inside an object. In other words, attributes are characteristics (**properties**) of an object _(e.g., account balance, account holder's name, etc.)_.\n4. **Methods**: Functions associated with a class that can perform actions or computations. In other words, methods are like actions (**behaviours**) that an object can perform _(e.g., to deposit money, to withdraw money, etc.)_."
  },
  {
   "cell_type": "markdown",
   "metadata": {},
   "source": [
    "### Key terminology\n",
    "\n",
    "1. **Encapsulation**: Data and methods are bundled together, hiding the internal details of how the object works. One benefit of using encapsulation is that it protects the data inside an object and only allows access to it through defined methods.\n",
    "2. **Reusability**: Once a class is defined, we can create as many instances (objects) as we need.\n",
    "3. **Modularity**: Classes can be defined and maintained independently, making code more organised.\n",
    "5. **Inheritance**: New classes can be created based on existing classes, inheriting their attributes and methods. _(See illustration below.)_\n",
    "6. **Polymorphism**: The ability of objects of different classes to respond to the same method call, each in its own way. _(This goes way beyond this introduction!)_"
   ]
  },
  {
   "cell_type": "markdown",
   "metadata": {},
   "source": [
    "## Example"
   ]
  },
  {
   "cell_type": "markdown",
   "metadata": {},
   "source": [
    "The diagram below shows how the `BankAccount` class serves as a blueprint for creating individual bank account objects. The `SavingsAccount` class inherits from `BankAccount`, adding its own specific attribute _(`interest_rate`)_ and method _(`apply_interest()`)_. The objects on the right represent instances of the `BankAccount` class, showing how multiple unique accounts can be created from the same class definition."
   ]
  },
  {
   "cell_type": "markdown",
   "metadata": {},
   "source": "![OOP concepts diagram showing class blueprints, inheritance, and object instances](assets/images/oop-concepts-diagram.svg)"
  },
  {
   "cell_type": "markdown",
   "metadata": {},
   "source": [
    "Put differently, the diagram illustrates several key concepts of OOP:\n",
    "\n",
    "1. **Classes**: The `BankAccount` and `SavingsAccount` classes are represented as rectangles with their attributes and methods listed.\n",
    "2. **Objects**: Instances of the `BankAccount` class (`Alice`'s and `Bob`'s accounts) are shown as separate rectangles.\n",
    "3. **Instantiation**: The dashed arrows from `BankAccount` to the account instances show how objects are created from a class.\n",
    "4. **Inheritance**: The arrow between `BankAccount` and `SavingsAccount` demonstrates inheritance.\n",
    "5. **Encapsulation**: The separation of attributes _(e.g., `name`, `balance`, `interest_rate`)_ and methods _(e.g., `deposit()`, `withdraw()`, `apply_interest()`)_ within each class rectangle illustrates encapsulation."
   ]
  },
  {
   "cell_type": "markdown",
   "metadata": {},
   "source": [
    "### Initiate class\n",
    "\n",
    "Let's start with a simple example: creating a class called `BankAccount` with methods for deposit, withdraw, and check balance."
   ]
  },
  {
   "cell_type": "code",
   "execution_count": null,
   "metadata": {},
   "outputs": [],
   "source": [
    "class BankAccount:\n",
    "    \"\"\"Explain what this class does.\n",
    "    \"\"\"\n",
    "\n",
    "    def __init__(self, name, initial_balance=0):\n",
    "        self.name = name\n",
    "        self.balance = initial_balance\n",
    "        self.print_success_message()\n",
    "\n",
    "    def print_success_message(self):\n",
    "        \"\"\"Explain what this method does.\n",
    "        \"\"\"\n",
    "        print(f\"Bank Account for {self.name} approved. ({self.check_balance()})\")\n",
    "    \n",
    "    def deposit(self, amount):\n",
    "        if amount > 0:\n",
    "            self.balance += amount\n",
    "            return f\"Deposited £{amount}. New balance: £{self.balance}.\"\n",
    "        else:\n",
    "            return \"Invalid deposit amount.\"\n",
    "    \n",
    "    def withdraw(self, amount):\n",
    "        if 0 < amount <= self.balance:\n",
    "            self.balance -= amount\n",
    "            return f\"Withdrew £{amount}. New balance: £{self.balance}.\"\n",
    "        else:\n",
    "            return \"Invalid withdrawal amount or insufficient funds.\"\n",
    "    \n",
    "    def check_balance(self):\n",
    "        return f\"Current balance: £{self.balance}.\""
   ]
  },
  {
   "cell_type": "markdown",
   "metadata": {},
   "source": [
    "#### Explaination"
   ]
  },
  {
   "cell_type": "markdown",
   "metadata": {},
   "source": [
    "1. **`__init__` method**: This is a special method _(constructor)_ that initialises a new object. It's called when we create a new `BankAccount` object.\n",
    "\n",
    "2. **`self` parameter**: In Python, `self` refers to the instance of the class. It's how we access the object's attributes and methods from within the class.\n",
    "\n",
    "3. **Attributes**: `self.balance` is an attribute that stores the account balance.\n",
    "\n",
    "4. **Methods**: `deposit()`, `withdraw()`, and `check_balance()` are methods that perform actions on the account."
   ]
  },
  {
   "cell_type": "markdown",
   "metadata": {},
   "source": [
    "### Testing"
   ]
  },
  {
   "cell_type": "markdown",
   "metadata": {},
   "source": [
    "#### Create an account\n",
    "\n",
    "Let's create an account for `Alice`:"
   ]
  },
  {
   "cell_type": "code",
   "execution_count": null,
   "metadata": {},
   "outputs": [],
   "source": [
    "alice_account = BankAccount(\"Alice\", 100)"
   ]
  },
  {
   "cell_type": "markdown",
   "metadata": {},
   "source": [
    "Create accounts for `Alice` and `Bob`:"
   ]
  },
  {
   "cell_type": "code",
   "execution_count": null,
   "metadata": {},
   "outputs": [],
   "source": [
    "alice_account = BankAccount(\"Alice\", 1000)\n",
    "bob_account = BankAccount(\"Bob\", 500)"
   ]
  },
  {
   "cell_type": "markdown",
   "metadata": {},
   "source": [
    "#### Perform transactions\n",
    "\n",
    "Let's perform some transaction for `Alice`' account:"
   ]
  },
  {
   "cell_type": "code",
   "execution_count": null,
   "metadata": {},
   "outputs": [],
   "source": [
    "print(\"Alice's account:\")\n",
    "print(alice_account.deposit(200))\n",
    "print(alice_account.withdraw(150))\n",
    "print(alice_account.check_balance())"
   ]
  },
  {
   "cell_type": "code",
   "execution_count": null,
   "metadata": {},
   "outputs": [],
   "source": [
    "print(\"\\nBob's account:\")\n",
    "print(bob_account.deposit(300))\n",
    "print(bob_account.withdraw(100))\n",
    "print(bob_account.check_balance())"
   ]
  },
  {
   "cell_type": "markdown",
   "metadata": {},
   "source": [
    "## Inheritance"
   ]
  },
  {
   "cell_type": "markdown",
   "metadata": {},
   "source": [
    "Let's complete the above illustration with an example of inheritance by creating a `SavingsAccount` class that inherits from `BankAccount` and adds an interest rate feature. In this example, `SavingsAccount` inherits all the methods from `BankAccount` (deposit, withdraw, check_balance) and adds a new method `apply_interest()`. It also overrides the `__init__` method to include an interest rate."
   ]
  },
  {
   "cell_type": "code",
   "execution_count": null,
   "metadata": {},
   "outputs": [],
   "source": [
    "class SavingsAccount(BankAccount):\n",
    "    def __init__(self, name, initial_balance=0, interest_rate=0.01):\n",
    "        super().__init__(name, initial_balance)  # Call the parent class's __init__ method\n",
    "        self.interest_rate = interest_rate\n",
    "    \n",
    "    def apply_interest(self):\n",
    "        interest = self.balance * self.interest_rate\n",
    "        self.balance += interest\n",
    "        return f\"Applied interest of £{interest:.2f}. New balance: £{self.balance:.2f}\""
   ]
  },
  {
   "cell_type": "markdown",
   "metadata": {},
   "source": [
    "### Testing"
   ]
  },
  {
   "cell_type": "markdown",
   "metadata": {},
   "source": [
    "#### Create another account\n",
    "\n",
    "Let's create a savings account for `Charlie`:"
   ]
  },
  {
   "cell_type": "code",
   "execution_count": null,
   "metadata": {},
   "outputs": [],
   "source": [
    "charlie_savings = SavingsAccount(1000, 0.05)  # £1000 initial balance, 5% interest rate"
   ]
  },
  {
   "cell_type": "markdown",
   "metadata": {},
   "source": [
    "#### Perform transactions\n",
    "\n",
    "Let's perform some transactions on `Charlie`'s account:"
   ]
  },
  {
   "cell_type": "code",
   "execution_count": null,
   "metadata": {},
   "outputs": [],
   "source": [
    "print(charlie_savings.check_balance())\n",
    "print(charlie_savings.deposit(500))\n",
    "print(charlie_savings.apply_interest())\n",
    "print(charlie_savings.check_balance())"
   ]
  }
 ],
 "metadata": {
  "kernelspec": {
   "display_name": "default",
   "language": "python",
   "name": "python3"
  },
  "language_info": {
   "codemirror_mode": {
    "name": "ipython",
    "version": 3
   },
   "file_extension": ".py",
   "mimetype": "text/x-python",
   "name": "python",
   "nbconvert_exporter": "python",
   "pygments_lexer": "ipython3",
   "version": "3.12.4"
  }
 },
 "nbformat": 4,
 "nbformat_minor": 4
}