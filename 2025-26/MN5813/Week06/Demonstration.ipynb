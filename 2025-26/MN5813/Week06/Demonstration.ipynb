{
 "cells": [
  {
   "cell_type": "markdown",
   "metadata": {},
   "source": [
    "# Pandas Application: Employee Sales Analysis (Demonstration)"
   ]
  },
  {
   "cell_type": "markdown",
   "metadata": {},
   "source": "_This notebook demonstrates applying [Pandas](https://pandas.pydata.org/) techniques to a real-world dataset. The employee sales dataset has an identical structure to the Olympics dataset for your group project, allowing you to see complete solutions to similar problems._\n\n**Important**: This demonstration uses a **different dataset** (employee_sales.csv) than your group project (athlete_events.csv). The techniques and approaches demonstrated here can be adapted to your Olympics analysis.\n\nNote: This Jupyter Notebook was originally compiled by Alex Reppel (AR) based on conversations with [ClaudeAI](https://claude.ai/) *(version 3.5 Sonnet)*. For this year's materials, further revisions were made using [Claude Code](https://www.anthropic.com/claude-code) *(Sonnet 4.5)*, including updated documentation and git commit messages."
  },
  {
   "cell_type": "markdown",
   "metadata": {},
   "source": [
    "## Building on previous sessions\n",
    "\n",
    "This demonstration integrates concepts from:\n",
    "\n",
    "- **Week 04**: Basic Pandas operations (loading data, filtering, grouping, merging)\n",
    "- **Week 05**: Advanced techniques (reshaping, pivot tables, MultiIndex)\n",
    "\n",
    "We'll apply these skills to a complete data analysis workflow."
   ]
  },
  {
   "cell_type": "markdown",
   "metadata": {},
   "source": [
    "## Dataset mapping\n",
    "\n",
    "The employee sales dataset has a 1:1 column mapping with the Olympics dataset:\n",
    "\n",
    "| Employee sales | Olympics | Description |\n",
    "|----------------|----------|-------------|\n",
    "| employee_id | ID | Unique identifier |\n",
    "| name | Name | Full name |\n",
    "| gender (F/M/D) | Sex (M/F) | Gender/Sex |\n",
    "| age | Age | Age in years |\n",
    "| height_cm | Height | Height in cm |\n",
    "| weight_kg | Weight | Weight in kg |\n",
    "| team | Team | Team affiliation |\n",
    "| region | NOC | Region/Country code |\n",
    "| quarter | Games | Time period (Quarter/Games) |\n",
    "| year | Year | Year |\n",
    "| half | Season | Half of year/Season |\n",
    "| office | City | Location |\n",
    "| product_category | Sport | Category |\n",
    "| product | Event | Specific item/event |\n",
    "| award | Medal | Recognition (Gold/Silver/Bronze) |\n",
    "\n",
    "This mapping allows you to adapt the code patterns directly to your Olympics analysis."
   ]
  },
  {
   "cell_type": "markdown",
   "source": "---\n\n## 🎯 CORE CONTENT (Essential for Group Project)\n\n**Estimated time**: 50-60 minutes\n\nThe sections below demonstrate the complete workflow for your Olympics group project:\n- Data loading and exploration\n- Data cleaning (missing values, data types, duplicates)\n- Data wrangling (age groups, temporal features)\n- Core data analysis (averages, top countries, medal counts, gender analysis)\n\nThese techniques directly address your project requirements. Work through all examples and note how to adapt them for the Olympics dataset.\n\n---",
   "metadata": {}
  },
  {
   "cell_type": "markdown",
   "metadata": {},
   "source": [
    "## Part 1: Setup and data loading\n",
    "\n",
    "### Import libraries"
   ]
  },
  {
   "cell_type": "code",
   "execution_count": null,
   "metadata": {},
   "outputs": [],
   "source": [
    "import pandas as pd\n",
    "import numpy as np\n",
    "import matplotlib.pyplot as plt\n",
    "\n",
    "# Set display options for better output\n",
    "pd.set_option(\"display.max_columns\", None)\n",
    "pd.set_option(\"display.max_rows\", 100)\n",
    "pd.set_option(\"display.width\", None)"
   ]
  },
  {
   "cell_type": "markdown",
   "metadata": {},
   "source": [
    "### Load the dataset\n",
    "\n",
    "We'll load the employee sales data using `pd.read_csv()`. For your Olympics project, you'll use the same approach with `athlete_events.csv`."
   ]
  },
  {
   "cell_type": "code",
   "execution_count": null,
   "metadata": {},
   "outputs": [],
   "source": [
    "# Load the data\n",
    "df = pd.read_csv(\"assets/data/employee_sales.csv\")\n",
    "\n",
    "print(f\"Dataset loaded: {len(df)} rows, {len(df.columns)} columns\")\n",
    "print(f\"\\nColumn names:\\n{list(df.columns)}\")"
   ]
  },
  {
   "cell_type": "markdown",
   "metadata": {},
   "source": [
    "### Initial exploration\n",
    "\n",
    "Always start by exploring your data to understand its structure, contents, and quality."
   ]
  },
  {
   "cell_type": "code",
   "execution_count": null,
   "metadata": {},
   "outputs": [],
   "source": [
    "# View first few rows\n",
    "print(\"First 10 rows:\")\n",
    "df.head(10)"
   ]
  },
  {
   "cell_type": "code",
   "execution_count": null,
   "metadata": {},
   "outputs": [],
   "source": [
    "# Get dataset information\n",
    "print(\"Dataset information:\")\n",
    "df.info()"
   ]
  },
  {
   "cell_type": "code",
   "execution_count": null,
   "metadata": {},
   "outputs": [],
   "source": [
    "# Get summary statistics for numeric columns\n",
    "print(\"Summary statistics:\")\n",
    "df.describe()"
   ]
  },
  {
   "cell_type": "markdown",
   "metadata": {},
   "source": [
    "**Observations from initial exploration**:\n",
    "\n",
    "1. **Data structure**: 245 rows × 15 columns (similar scale to Olympics: 271,116 rows × 15 columns)\n",
    "2. **Data types**: Mix of numeric (int64, float64) and text (object)\n",
    "3. **Missing values**: Some columns have missing data (age, height_cm, weight_kg, award)\n",
    "4. **Value ranges**: Numeric values appear reasonable (age: 22-59, height: 155-194, weight: 50-99)\n",
    "\n",
    "For the Olympics dataset, you'll see similar patterns but at a much larger scale."
   ]
  },
  {
   "cell_type": "markdown",
   "metadata": {},
   "source": [
    "## Part 2: Data cleaning\n",
    "\n",
    "Data cleaning is essential before analysis. We'll identify and handle:\n",
    "- Missing values\n",
    "- Data type issues\n",
    "- Duplicates\n",
    "- Outliers (if needed)"
   ]
  },
  {
   "cell_type": "markdown",
   "metadata": {},
   "source": [
    "### Section 1: Missing values\n",
    "\n",
    "First, identify which columns have missing data and how much."
   ]
  },
  {
   "cell_type": "code",
   "execution_count": null,
   "metadata": {},
   "outputs": [],
   "source": [
    "# Count missing values\n",
    "missing = df.isnull().sum()\n",
    "missing_pct = (df.isnull().sum() / len(df) * 100).round(1)\n",
    "\n",
    "missing_summary = pd.DataFrame({\n",
    "    \"Missing_Count\": missing,\n",
    "    \"Missing_Percent\": missing_pct\n",
    "})\n",
    "\n",
    "print(\"Missing values summary:\")\n",
    "print(missing_summary[missing_summary[\"Missing_Count\"] > 0].sort_values(\"Missing_Count\", ascending=False))"
   ]
  },
  {
   "cell_type": "markdown",
   "metadata": {},
   "source": [
    "**Analysis of missing values**:\n",
    "\n",
    "- **award** (76.3%): This is expected - most employees don't receive awards, just like most athletes don't win medals\n",
    "- **weight_kg** (10.2%): Demographic data may be incomplete\n",
    "- **height_cm** (6.9%): Similar to weight\n",
    "- **age** (6.1%): Personal information may not always be recorded\n",
    "\n",
    "**Decision**: Keep missing values as-is for demographic columns (age, height, weight) since:\n",
    "1. The percentage is relatively low\n",
    "2. Imputing (filling) could introduce bias\n",
    "3. Analysis functions like `.mean()` handle NaN automatically\n",
    "\n",
    "For **award**, NaN represents \"no award\" which is meaningful information.\n",
    "\n",
    "**For Olympics**: You'll see similar patterns - most athletes have no medals, and some demographic data is missing."
   ]
  },
  {
   "cell_type": "markdown",
   "metadata": {},
   "source": [
    "### Section 2: Data types\n",
    "\n",
    "Ensure columns have appropriate data types for analysis."
   ]
  },
  {
   "cell_type": "code",
   "execution_count": null,
   "metadata": {},
   "outputs": [],
   "source": [
    "# Check current data types\n",
    "print(\"Current data types:\")\n",
    "print(df.dtypes)"
   ]
  },
  {
   "cell_type": "code",
   "execution_count": null,
   "metadata": {},
   "outputs": [],
   "source": [
    "# Convert year to datetime for time-based analysis\n",
    "# Note: We only have the year, not a full date\n",
    "df[\"year_dt\"] = pd.to_datetime(df[\"year\"], format=\"%Y\")\n",
    "\n",
    "print(\"Added year_dt column:\")\n",
    "print(df[[\"year\", \"year_dt\"]].head())\n",
    "print(f\"\\nData type of year_dt: {df['year_dt'].dtype}\")"
   ]
  },
  {
   "cell_type": "markdown",
   "metadata": {},
   "source": [
    "**Why convert year to datetime?**\n",
    "\n",
    "Even though we only have the year (not month/day), converting to datetime enables:\n",
    "- Time series analysis\n",
    "- Easy extraction of decade, century\n",
    "- Chronological sorting and grouping\n",
    "- Date-based filtering\n",
    "\n",
    "For Olympics, this will help analyze trends over 120 years of Olympic history."
   ]
  },
  {
   "cell_type": "markdown",
   "metadata": {},
   "source": [
    "### Section 3: Duplicates\n",
    "\n",
    "Check for and remove duplicate rows."
   ]
  },
  {
   "cell_type": "code",
   "execution_count": null,
   "metadata": {},
   "outputs": [],
   "source": [
    "# Check for duplicates\n",
    "duplicates = df.duplicated()\n",
    "print(f\"Number of duplicate rows: {duplicates.sum()}\")\n",
    "\n",
    "if duplicates.sum() > 0:\n",
    "    print(f\"\\nDuplicate rows:\")\n",
    "    print(df[duplicates])"
   ]
  },
  {
   "cell_type": "code",
   "execution_count": null,
   "metadata": {},
   "outputs": [],
   "source": [
    "# Remove duplicates\n",
    "df_clean = df.drop_duplicates()\n",
    "print(f\"Original rows: {len(df)}\")\n",
    "print(f\"After removing duplicates: {len(df_clean)}\")\n",
    "print(f\"Rows removed: {len(df) - len(df_clean)}\")\n",
    "\n",
    "# Use the cleaned dataset going forward\n",
    "df = df_clean"
   ]
  },
  {
   "cell_type": "markdown",
   "metadata": {},
   "source": [
    "**Important distinction for Olympics**:\n",
    "\n",
    "In the employee dataset, each row is a unique sale transaction, so duplicates are true data quality issues.\n",
    "\n",
    "In the Olympics dataset, each row is an athlete-event combination. The same athlete appears multiple times (different events/years). This is NOT a duplicate - it's the correct data structure. Only remove truly identical rows (all columns matching)."
   ]
  },
  {
   "cell_type": "markdown",
   "metadata": {},
   "source": [
    "## Part 3: Data wrangling\n",
    "\n",
    "Create new columns to enable richer analysis."
   ]
  },
  {
   "cell_type": "markdown",
   "metadata": {},
   "source": [
    "### Section 1: Age groups\n",
    "\n",
    "Create categorical age groups for demographic analysis."
   ]
  },
  {
   "cell_type": "code",
   "execution_count": null,
   "metadata": {},
   "outputs": [],
   "source": [
    "# Create age groups using pd.cut()\n",
    "df[\"age_group\"] = pd.cut(\n",
    "    df[\"age\"],\n",
    "    bins=[0, 30, 40, 50, 100],\n",
    "    labels=[\"20s\", \"30s\", \"40s\", \"50+\"]\n",
    ")\n",
    "\n",
    "print(\"Age group distribution:\")\n",
    "print(df[\"age_group\"].value_counts().sort_index())\n",
    "\n",
    "print(\"\\nSample of age with age_group:\")\n",
    "print(df[[\"name\", \"age\", \"age_group\"]].head(10))"
   ]
  },
  {
   "cell_type": "markdown",
   "metadata": {},
   "source": [
    "**For Olympics**: You might use different bins based on typical athlete ages:\n",
    "```python\n",
    "df[\"age_group\"] = pd.cut(\n",
    "    df[\"Age\"],\n",
    "    bins=[0, 20, 25, 30, 35, 100],\n",
    "    labels=[\"<20\", \"20-24\", \"25-29\", \"30-34\", \"35+\"]\n",
    ")\n",
    "```\n",
    "\n",
    "This allows analysis like: \"Which age group wins the most gold medals in swimming?\""
   ]
  },
  {
   "cell_type": "markdown",
   "metadata": {},
   "source": [
    "### Section 2: Full name handling\n",
    "\n",
    "Check if name field needs processing."
   ]
  },
  {
   "cell_type": "code",
   "execution_count": null,
   "metadata": {},
   "outputs": [],
   "source": [
    "# Check name format\n",
    "print(\"Sample names:\")\n",
    "print(df[\"name\"].head(10))\n",
    "\n",
    "# The name column already contains full names\n",
    "# If it were split into first_name and last_name, we could combine them:\n",
    "# df[\"full_name\"] = df[\"first_name\"] + \" \" + df[\"last_name\"]\n",
    "\n",
    "print(\"\\nName column is already in full name format - no processing needed.\")"
   ]
  },
  {
   "cell_type": "markdown",
   "metadata": {},
   "source": [
    "**For Olympics**: The Name column is already a full name, so no processing is needed. If it were split into separate columns, you could combine them as shown in the comment above."
   ]
  },
  {
   "cell_type": "markdown",
   "metadata": {},
   "source": [
    "### Section 3: Temporal features\n",
    "\n",
    "Extract additional time-based features for analysis."
   ]
  },
  {
   "cell_type": "code",
   "execution_count": null,
   "metadata": {},
   "outputs": [],
   "source": [
    "# Extract century from year\n",
    "# Century: 2000-2099 = 21st century, 1900-1999 = 20th century\n",
    "df[\"century\"] = ((df[\"year\"] - 1) // 100 + 1)\n",
    "\n",
    "print(\"Century distribution:\")\n",
    "print(df[\"century\"].value_counts().sort_index())\n",
    "\n",
    "print(\"\\nSample of year with century:\")\n",
    "print(df[[\"year\", \"century\"]].drop_duplicates().sort_values(\"year\"))"
   ]
  },
  {
   "cell_type": "markdown",
   "metadata": {},
   "source": [
    "**How the century calculation works**:\n",
    "\n",
    "```python\n",
    "(year - 1) // 100 + 1\n",
    "```\n",
    "\n",
    "Examples:\n",
    "- 2024: `(2024 - 1) // 100 + 1 = 2023 // 100 + 1 = 20 + 1 = 21` (21st century ✓)\n",
    "- 2000: `(2000 - 1) // 100 + 1 = 1999 // 100 + 1 = 19 + 1 = 20` (20th century ✓)\n",
    "- 1896: `(1896 - 1) // 100 + 1 = 1895 // 100 + 1 = 18 + 1 = 19` (19th century ✓)\n",
    "\n",
    "**For Olympics**: This enables analysis across centuries of Olympic history:\n",
    "- \"How has average athlete age changed from 19th to 21st century?\"\n",
    "- \"Which century had the most female participation?\""
   ]
  },
  {
   "cell_type": "markdown",
   "metadata": {},
   "source": [
    "## Part 4: Data analysis\n",
    "\n",
    "Now we'll perform various analyses that demonstrate the key requirements of your Olympics project."
   ]
  },
  {
   "cell_type": "markdown",
   "metadata": {},
   "source": [
    "### Section 1: Average age by product category\n",
    "\n",
    "**Olympics equivalent**: Average age by sport\n",
    "\n",
    "This helps identify which product categories/sports attract employees/athletes of different ages."
   ]
  },
  {
   "cell_type": "code",
   "execution_count": null,
   "metadata": {},
   "outputs": [],
   "source": [
    "# Calculate average age by product category\n",
    "avg_age_by_category = df.groupby(\"product_category\")[\"age\"].mean().sort_values(ascending=False)\n",
    "\n",
    "print(\"Average age by product category:\")\n",
    "print(avg_age_by_category.round(1))\n",
    "\n",
    "# Visualize\n",
    "plt.figure(figsize=(10, 6))\n",
    "avg_age_by_category.plot(kind=\"barh\", color=\"skyblue\")\n",
    "plt.xlabel(\"Average Age (years)\")\n",
    "plt.ylabel(\"Product Category\")\n",
    "plt.title(\"Average Employee Age by Product Category\")\n",
    "plt.grid(axis=\"x\", alpha=0.3)\n",
    "plt.tight_layout()\n",
    "plt.show()"
   ]
  },
  {
   "cell_type": "markdown",
   "metadata": {},
   "source": [
    "**For Olympics**, adapt this code:\n",
    "\n",
    "```python\n",
    "avg_age_by_sport = df.groupby(\"Sport\")[\"Age\"].mean().sort_values(ascending=False)\n",
    "print(avg_age_by_sport.head(10))  # Top 10 sports by average age\n",
    "```\n",
    "\n",
    "This might reveal interesting patterns like:\n",
    "- Equestrian and shooting tend to have older athletes\n",
    "- Gymnastics and swimming tend to have younger athletes"
   ]
  },
  {
   "cell_type": "markdown",
   "metadata": {},
   "source": [
    "### Section 2: Top regions by award count\n",
    "\n",
    "**Olympics equivalent**: Top countries by medal count\n",
    "\n",
    "Identify the most successful regions/countries."
   ]
  },
  {
   "cell_type": "code",
   "execution_count": null,
   "metadata": {},
   "outputs": [],
   "source": [
    "# Count total awards by region (excluding NaN)\n",
    "awards_by_region = df[df[\"award\"].notna()].groupby(\"region\")[\"award\"].count().sort_values(ascending=False)\n",
    "\n",
    "print(\"Total awards by region:\")\n",
    "print(awards_by_region)\n",
    "\n",
    "# Visualize top regions\n",
    "plt.figure(figsize=(8, 5))\n",
    "awards_by_region.plot(kind=\"bar\", color=\"coral\")\n",
    "plt.xlabel(\"Region\")\n",
    "plt.ylabel(\"Number of Awards\")\n",
    "plt.title(\"Total Awards by Region\")\n",
    "plt.xticks(rotation=0)\n",
    "plt.grid(axis=\"y\", alpha=0.3)\n",
    "plt.tight_layout()\n",
    "plt.show()"
   ]
  },
  {
   "cell_type": "markdown",
   "metadata": {},
   "source": [
    "**Breaking down by award type**:\n",
    "\n",
    "Let's see the distribution of gold, silver, and bronze awards by region."
   ]
  },
  {
   "cell_type": "code",
   "execution_count": null,
   "metadata": {},
   "outputs": [],
   "source": [
    "# Create a pivot table showing award types by region\n",
    "award_breakdown = pd.pivot_table(\n",
    "    df[df[\"award\"].notna()],\n",
    "    values=\"employee_id\",\n",
    "    index=\"region\",\n",
    "    columns=\"award\",\n",
    "    aggfunc=\"count\",\n",
    "    fill_value=0\n",
    ")\n",
    "\n",
    "# Ensure columns are in Gold, Silver, Bronze order\n",
    "award_order = [\"Gold\", \"Silver\", \"Bronze\"]\n",
    "award_breakdown = award_breakdown[[col for col in award_order if col in award_breakdown.columns]]\n",
    "\n",
    "print(\"Award breakdown by region:\")\n",
    "print(award_breakdown)\n",
    "\n",
    "# Stacked bar chart\n",
    "plt.figure(figsize=(10, 6))\n",
    "award_breakdown.plot(kind=\"bar\", stacked=True, color=[\"gold\", \"silver\", \"#CD7F32\"])\n",
    "plt.xlabel(\"Region\")\n",
    "plt.ylabel(\"Number of Awards\")\n",
    "plt.title(\"Award Distribution by Region\")\n",
    "plt.legend(title=\"Award Type\")\n",
    "plt.xticks(rotation=0)\n",
    "plt.grid(axis=\"y\", alpha=0.3)\n",
    "plt.tight_layout()\n",
    "plt.show()"
   ]
  },
  {
   "cell_type": "markdown",
   "metadata": {},
   "source": [
    "**For Olympics**, adapt this code:\n",
    "\n",
    "```python\n",
    "# Top 10 countries by total medals\n",
    "medals_by_country = df[df[\"Medal\"].notna()].groupby(\"NOC\")[\"Medal\"].count().sort_values(ascending=False)\n",
    "print(medals_by_country.head(10))\n",
    "\n",
    "# Medal breakdown (Gold, Silver, Bronze)\n",
    "medal_breakdown = pd.pivot_table(\n",
    "    df[df[\"Medal\"].notna()],\n",
    "    values=\"ID\",\n",
    "    index=\"NOC\",\n",
    "    columns=\"Medal\",\n",
    "    aggfunc=\"count\",\n",
    "    fill_value=0\n",
    ").head(10)  # Top 10 countries\n",
    "```\n",
    "\n",
    "This is one of the core requirements of your Olympics project."
   ]
  },
  {
   "cell_type": "markdown",
   "metadata": {},
   "source": [
    "### Section 3: Most decorated employees by category\n",
    "\n",
    "**Olympics equivalent**: Most decorated athletes by sport\n",
    "\n",
    "Identify which individuals have the most awards/medals in each category/sport."
   ]
  },
  {
   "cell_type": "code",
   "execution_count": null,
   "metadata": {},
   "outputs": [],
   "source": [
    "# For each product category, find the employee with the most awards\n",
    "# First, count awards per employee per category\n",
    "employee_awards = df[df[\"award\"].notna()].groupby(\n",
    "    [\"product_category\", \"name\"]\n",
    ").size().reset_index(name=\"award_count\")\n",
    "\n",
    "# Find the employee with most awards in each category\n",
    "idx = employee_awards.groupby(\"product_category\")[\"award_count\"].idxmax()\n",
    "top_employees = employee_awards.loc[idx]\n",
    "\n",
    "print(\"Most decorated employee by product category:\")\n",
    "print(top_employees.sort_values(\"award_count\", ascending=False))"
   ]
  },
  {
   "cell_type": "markdown",
   "metadata": {},
   "source": [
    "**Alternative approach using groupby and transform**:"
   ]
  },
  {
   "cell_type": "code",
   "execution_count": null,
   "metadata": {},
   "outputs": [],
   "source": [
    "# Add category ranking to each employee\n",
    "employee_awards[\"category_rank\"] = employee_awards.groupby(\"product_category\")[\"award_count\"].rank(\n",
    "    ascending=False, \n",
    "    method=\"min\"\n",
    ")\n",
    "\n",
    "# Show top 3 employees in each category\n",
    "top_3_per_category = employee_awards[employee_awards[\"category_rank\"] <= 3].sort_values(\n",
    "    [\"product_category\", \"category_rank\"]\n",
    ")\n",
    "\n",
    "print(\"\\nTop 3 employees by award count in each product category:\")\n",
    "print(top_3_per_category)"
   ]
  },
  {
   "cell_type": "markdown",
   "metadata": {},
   "source": [
    "**For Olympics**, adapt this code:\n",
    "\n",
    "```python\n",
    "# Count medals per athlete per sport\n",
    "athlete_medals = df[df[\"Medal\"].notna()].groupby(\n",
    "    [\"Sport\", \"Name\"]\n",
    ").size().reset_index(name=\"medal_count\")\n",
    "\n",
    "# Find the athlete with most medals in each sport\n",
    "idx = athlete_medals.groupby(\"Sport\")[\"medal_count\"].idxmax()\n",
    "top_athletes = athlete_medals.loc[idx]\n",
    "print(top_athletes.sort_values(\"medal_count\", ascending=False).head(10))\n",
    "```\n",
    "\n",
    "This reveals legends like Michael Phelps (Swimming), Usain Bolt (Athletics), etc."
   ]
  },
  {
   "cell_type": "markdown",
   "metadata": {},
   "source": [
    "### Section 4: Gender analysis\n",
    "\n",
    "Analyse performance and participation by gender."
   ]
  },
  {
   "cell_type": "code",
   "execution_count": null,
   "metadata": {},
   "outputs": [],
   "source": [
    "# Overall gender distribution\n",
    "gender_dist = df[\"gender\"].value_counts()\n",
    "\n",
    "print(\"Gender distribution in dataset:\")\n",
    "print(gender_dist)\n",
    "print(f\"\\nPercentages:\")\n",
    "print((gender_dist / len(df) * 100).round(1))"
   ]
  },
  {
   "cell_type": "code",
   "execution_count": null,
   "metadata": {},
   "outputs": [],
   "source": [
    "# Award win rate by gender\n",
    "gender_performance = df.groupby(\"gender\").agg({\n",
    "    \"employee_id\": \"count\",\n",
    "    \"award\": lambda x: x.notna().sum()\n",
    "}).rename(columns={\"employee_id\": \"total_sales\", \"award\": \"awards_won\"})\n",
    "\n",
    "gender_performance[\"win_rate_%\"] = (\n",
    "    gender_performance[\"awards_won\"] / gender_performance[\"total_sales\"] * 100\n",
    ").round(1)\n",
    "\n",
    "print(\"Performance by gender:\")\n",
    "print(gender_performance)"
   ]
  },
  {
   "cell_type": "markdown",
   "source": "---\n\n## 📚 SUPPLEMENTARY CONTENT (Stretch Goals)\n\n**Estimated time**: 10-20 minutes\n\nThe section below demonstrates advanced Week 05 techniques for stretch goals:\n- Pivot tables for multi-dimensional analysis\n- Trend analysis over time\n- MultiIndex for hierarchical grouping\n\nThese are **not required** for the basic project but can help you achieve higher marks through more sophisticated analysis.\n\n---",
   "metadata": {}
  },
  {
   "cell_type": "markdown",
   "metadata": {},
   "source": [
    "**For Olympics**, adapt this code:\n",
    "\n",
    "```python\n",
    "# Gender distribution\n",
    "print(df[\"Sex\"].value_counts())\n",
    "\n",
    "# Medal win rate by gender\n",
    "gender_performance = df.groupby(\"Sex\").agg({\n",
    "    \"ID\": \"count\",\n",
    "    \"Medal\": lambda x: x.notna().sum()\n",
    "}).rename(columns={\"ID\": \"total_participations\", \"Medal\": \"medals_won\"})\n",
    "\n",
    "gender_performance[\"medal_rate_%\"] = (\n",
    "    gender_performance[\"medals_won\"] / gender_performance[\"total_participations\"] * 100\n",
    ").round(1)\n",
    "```\n",
    "\n",
    "This analysis might reveal:\n",
    "- Historical trends in female participation (increasing over time)\n",
    "- Whether medal win rates differ by gender\n",
    "- Sports with high/low female participation"
   ]
  },
  {
   "cell_type": "markdown",
   "metadata": {},
   "source": [
    "## Part 5: Advanced techniques (Week 05 concepts)\n",
    "\n",
    "Apply advanced Pandas techniques for more sophisticated analyses."
   ]
  },
  {
   "cell_type": "markdown",
   "metadata": {},
   "source": [
    "### Section 1: Pivot tables for multi-dimensional analysis\n",
    "\n",
    "Create comprehensive summary tables."
   ]
  },
  {
   "cell_type": "code",
   "execution_count": null,
   "metadata": {},
   "outputs": [],
   "source": [
    "# Awards by region and product category\n",
    "awards_pivot = pd.pivot_table(\n",
    "    df[df[\"award\"].notna()],\n",
    "    values=\"employee_id\",\n",
    "    index=\"region\",\n",
    "    columns=\"product_category\",\n",
    "    aggfunc=\"count\",\n",
    "    fill_value=0,\n",
    "    margins=True,\n",
    "    margins_name=\"Total\"\n",
    ")\n",
    "\n",
    "print(\"Awards by region and product category:\")\n",
    "print(awards_pivot)"
   ]
  },
  {
   "cell_type": "markdown",
   "metadata": {},
   "source": [
    "**For Olympics**:\n",
    "\n",
    "```python\n",
    "# Medals by country and sport\n",
    "medals_pivot = pd.pivot_table(\n",
    "    df[df[\"Medal\"].notna()],\n",
    "    values=\"ID\",\n",
    "    index=\"NOC\",\n",
    "    columns=\"Sport\",\n",
    "    aggfunc=\"count\",\n",
    "    fill_value=0\n",
    ").head(10)  # Top 10 countries\n",
    "```\n",
    "\n",
    "This reveals which countries dominate which sports (e.g., Kenya in Athletics, USA in Swimming)."
   ]
  },
  {
   "cell_type": "markdown",
   "metadata": {},
   "source": [
    "### Section 2: Trends over time\n",
    "\n",
    "Analyse how metrics change over time."
   ]
  },
  {
   "cell_type": "code",
   "execution_count": null,
   "metadata": {},
   "outputs": [],
   "source": [
    "# Awards won per year\n",
    "awards_by_year = df[df[\"award\"].notna()].groupby(\"year\")[\"award\"].count()\n",
    "\n",
    "print(\"Awards by year:\")\n",
    "print(awards_by_year)\n",
    "\n",
    "# Visualize trend\n",
    "plt.figure(figsize=(10, 6))\n",
    "awards_by_year.plot(kind=\"line\", marker=\"o\", color=\"green\")\n",
    "plt.xlabel(\"Year\")\n",
    "plt.ylabel(\"Number of Awards\")\n",
    "plt.title(\"Award Trend Over Time\")\n",
    "plt.grid(True, alpha=0.3)\n",
    "plt.tight_layout()\n",
    "plt.show()"
   ]
  },
  {
   "cell_type": "code",
   "execution_count": null,
   "metadata": {},
   "outputs": [],
   "source": [
    "# Average age trend over time\n",
    "avg_age_by_year = df.groupby(\"year\")[\"age\"].mean()\n",
    "\n",
    "print(\"Average age by year:\")\n",
    "print(avg_age_by_year.round(1))\n",
    "\n",
    "# Visualize\n",
    "plt.figure(figsize=(10, 6))\n",
    "avg_age_by_year.plot(kind=\"line\", marker=\"s\", color=\"purple\")\n",
    "plt.xlabel(\"Year\")\n",
    "plt.ylabel(\"Average Age (years)\")\n",
    "plt.title(\"Average Employee Age Over Time\")\n",
    "plt.grid(True, alpha=0.3)\n",
    "plt.tight_layout()\n",
    "plt.show()"
   ]
  },
  {
   "cell_type": "markdown",
   "metadata": {},
   "source": [
    "**For Olympics**:\n",
    "\n",
    "```python\n",
    "# Participation trend (total athlete-events per year)\n",
    "participation_by_year = df.groupby(\"Year\").size()\n",
    "\n",
    "# Medal count trend\n",
    "medals_by_year = df[df[\"Medal\"].notna()].groupby(\"Year\")[\"Medal\"].count()\n",
    "\n",
    "# Average age trend\n",
    "avg_age_by_year = df.groupby(\"Year\")[\"Age\"].mean()\n",
    "\n",
    "# Female participation rate\n",
    "female_rate = df.groupby(\"Year\")[\"Sex\"].apply(lambda x: (x == \"F\").sum() / len(x) * 100)\n",
    "```\n",
    "\n",
    "These analyses reveal:\n",
    "- Growing Olympic participation over 120 years\n",
    "- Increasing female participation\n",
    "- Changes in athlete age profiles"
   ]
  },
  {
   "cell_type": "markdown",
   "metadata": {},
   "source": [
    "### Section 3: MultiIndex analysis\n",
    "\n",
    "Use hierarchical indexing for complex groupings."
   ]
  },
  {
   "cell_type": "code",
   "execution_count": null,
   "metadata": {},
   "outputs": [],
   "source": [
    "# Create hierarchical summary: region → product_category → award type\n",
    "award_hierarchy = df[df[\"award\"].notna()].groupby(\n",
    "    [\"region\", \"product_category\", \"award\"]\n",
    ").size().unstack(fill_value=0)\n",
    "\n",
    "print(\"Hierarchical award summary (Region → Category → Award):\")\n",
    "print(award_hierarchy)"
   ]
  },
  {
   "cell_type": "code",
   "execution_count": null,
   "metadata": {},
   "outputs": [],
   "source": [
    "# Access specific region's data using cross-section\n",
    "print(\"\\nLON region breakdown:\")\n",
    "print(award_hierarchy.xs(\"LON\", level=\"region\"))"
   ]
  },
  {
   "cell_type": "markdown",
   "metadata": {},
   "source": [
    "**For Olympics**:\n",
    "\n",
    "```python\n",
    "# Country → Sport → Medal type\n",
    "medal_hierarchy = df[df[\"Medal\"].notna()].groupby(\n",
    "    [\"NOC\", \"Sport\", \"Medal\"]\n",
    ").size().unstack(fill_value=0)\n",
    "\n",
    "# View specific country's performance\n",
    "print(medal_hierarchy.xs(\"USA\", level=\"NOC\"))\n",
    "```\n",
    "\n",
    "This shows USA's gold/silver/bronze counts in each sport."
   ]
  },
  {
   "cell_type": "markdown",
   "metadata": {},
   "source": [
    "## Summary\n",
    "\n",
    "This demonstration covered the complete data analysis workflow:\n",
    "\n",
    "### Part 1: Setup and data loading\n",
    "- Import libraries\n",
    "- Load CSV data\n",
    "- Initial exploration with `.head()`, `.info()`, `.describe()`\n",
    "\n",
    "### Part 2: Data cleaning\n",
    "- Identify missing values\n",
    "- Convert data types (year to datetime)\n",
    "- Remove duplicates\n",
    "\n",
    "### Part 3: Data wrangling\n",
    "- Create age groups with `pd.cut()`\n",
    "- Handle name fields\n",
    "- Extract temporal features (century)\n",
    "\n",
    "### Part 4: Data analysis\n",
    "- Average age by category/sport\n",
    "- Top regions/countries by awards/medals\n",
    "- Most decorated individuals\n",
    "- Gender analysis\n",
    "\n",
    "### Part 5: Advanced techniques\n",
    "- Pivot tables for multi-dimensional analysis\n",
    "- Trend analysis over time\n",
    "- MultiIndex for hierarchical data\n",
    "\n",
    "## Next steps for your Olympics project\n",
    "\n",
    "1. **Adapt the code patterns**: Replace employee sales columns with Olympics columns using the mapping table\n",
    "2. **Customize analyses**: The Olympics dataset has 120 years of data - explore historical trends\n",
    "3. **Add visualizations**: Create plots to illustrate your findings\n",
    "4. **Explore stretch goals**: Use Week 05 advanced techniques (rolling averages, method chaining, etc.)\n",
    "5. **Document your findings**: Explain what each analysis reveals about Olympic history\n",
    "\n",
    "## Column mapping quick reference\n",
    "\n",
    "When adapting code from this demonstration:\n",
    "\n",
    "```python\n",
    "# Replace employee sales columns with Olympics columns:\n",
    "\"employee_id\"        → \"ID\"\n",
    "\"name\"               → \"Name\"\n",
    "\"gender\"             → \"Sex\"\n",
    "\"age\"                → \"Age\"\n",
    "\"height_cm\"          → \"Height\"\n",
    "\"weight_kg\"          → \"Weight\"\n",
    "\"team\"               → \"Team\"\n",
    "\"region\"             → \"NOC\"\n",
    "\"quarter\"            → \"Games\"\n",
    "\"year\"               → \"Year\"\n",
    "\"half\"               → \"Season\"\n",
    "\"office\"             → \"City\"\n",
    "\"product_category\"   → \"Sport\"\n",
    "\"product\"            → \"Event\"\n",
    "\"award\"              → \"Medal\"\n",
    "```\n",
    "\n",
    "Good luck with your Olympics group project!"
   ]
  }
 ],
 "metadata": {
  "kernelspec": {
   "display_name": "Python 3",
   "language": "python",
   "name": "python3"
  },
  "language_info": {
   "codemirror_mode": {
    "name": "ipython",
    "version": 3
   },
   "file_extension": ".py",
   "mimetype": "text/x-python",
   "name": "python",
   "nbconvert_exporter": "python",
   "pygments_lexer": "ipython3",
   "version": "3.8.0"
  }
 },
 "nbformat": 4,
 "nbformat_minor": 4
}