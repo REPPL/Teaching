{
 "cells": [
  {
   "cell_type": "markdown",
   "id": "cell-0",
   "metadata": {},
   "source": [
    "# Introduction to Python (Exercises)"
   ]
  },
  {
   "cell_type": "markdown",
   "id": "cell-1",
   "metadata": {},
   "source": [
    "_This notebook provides exercises to practice Python fundamentals, building on what you learnt in `Setup` week. These exercises focus on practical business scenarios and are designed to be completed in approximately 2 hours._\n",
    "\n",
    "Note: This Jupyter Notebook was originally compiled by Alex Reppel (AR) based on conversations with [ClaudeAI](https://claude.ai/) *(version 3.5 Sonnet)*. For this year's materials, further revisions were made using [Claude Code](https://www.anthropic.com/claude-code) *(Opus 4.1)*, including updated documentation and git commit messages.\n",
    "\n",
    "## Structure\n",
    "1. String manipulation (20 minutes)\n",
    "2. List operations (30 minutes)\n",
    "3. Dictionaries (30 minutes)\n",
    "4. Functions (20 minutes)\n",
    "5. File handling (20 minutes)"
   ]
  },
  {
   "cell_type": "markdown",
   "id": "cell-2",
   "metadata": {},
   "source": [
    "## Part 1: String manipulation"
   ]
  },
  {
   "cell_type": "markdown",
   "id": "cell-3",
   "metadata": {},
   "source": [
    "### Exercise 1: Email processing\n",
    "\n",
    "Given an email address, extract useful information:\n",
    "\n",
    "1. Convert the email to lowercase\n",
    "2. Extract the username (part before @)\n",
    "3. Extract the domain (part after @)\n",
    "4. Check if it's a UK email (ends with .co.uk or .ac.uk)\n",
    "\n",
    "Hint: Use `.lower()`, `.split('@')`, and `.endswith()`"
   ]
  },
  {
   "cell_type": "code",
   "execution_count": null,
   "id": "cell-4",
   "metadata": {},
   "outputs": [],
   "source": [
    "email = \"Alice.Smith@Company.co.uk\"\n",
    "\n",
    "# Your code here\n"
   ]
  },
  {
   "cell_type": "markdown",
   "id": "cell-5",
   "metadata": {},
   "source": [
    "### Exercise 2: Customer name formatting\n",
    "\n",
    "Clean and format customer names from a messy database:\n",
    "\n",
    "1. Remove extra spaces\n",
    "2. Capitalise first letter of each word\n",
    "3. Create a formal greeting\n",
    "\n",
    "Process all three names in the list.\n",
    "\n",
    "Hint: Use `.strip()` and `.title()`"
   ]
  },
  {
   "cell_type": "code",
   "execution_count": null,
   "id": "cell-6",
   "metadata": {},
   "outputs": [],
   "source": [
    "names = [\"  alice johnson  \", \"BOB SMITH\", \"charlie    brown\"]\n",
    "\n",
    "# Your code here\n"
   ]
  },
  {
   "cell_type": "markdown",
   "id": "cell-7",
   "metadata": {},
   "source": [
    "### Exercise 3: Product code parser\n",
    "\n",
    "Product codes follow the format: \"CATEGORY-SIZE-COLOUR-ID\"\n",
    "\n",
    "Parse the following product code and extract each component:\n",
    "\n",
    "Hint: Use `.split('-')`"
   ]
  },
  {
   "cell_type": "code",
   "execution_count": null,
   "id": "cell-8",
   "metadata": {},
   "outputs": [],
   "source": [
    "product_code = \"SHIRT-L-BLUE-12345\"\n",
    "\n",
    "# Your code here\n"
   ]
  },
  {
   "cell_type": "markdown",
   "id": "cell-9",
   "metadata": {},
   "source": [
    "## Part 2: List operations"
   ]
  },
  {
   "cell_type": "markdown",
   "id": "cell-10",
   "metadata": {},
   "source": [
    "### Exercise 4: Sales data analysis\n",
    "\n",
    "Given a list of daily sales figures, perform the following:\n",
    "\n",
    "1. Find the highest sale\n",
    "2. Find the lowest sale\n",
    "3. Calculate the average\n",
    "4. Sort the sales from highest to lowest\n",
    "5. Find how many days had sales above £200\n",
    "\n",
    "Hint: Use `max()`, `min()`, `sum()`, `len()`, and `sorted()`"
   ]
  },
  {
   "cell_type": "code",
   "execution_count": null,
   "id": "cell-11",
   "metadata": {},
   "outputs": [],
   "source": [
    "daily_sales = [150, 235, 189, 298, 176, 210, 165, 242, 195, 203]\n",
    "\n",
    "# Your code here\n"
   ]
  },
  {
   "cell_type": "markdown",
   "id": "cell-12",
   "metadata": {},
   "source": [
    "### Exercise 5: Inventory management\n",
    "\n",
    "You have two lists: products and their quantities.\n",
    "\n",
    "1. Add a new product \"tablet\" with quantity 15\n",
    "2. Remove \"mouse\" from the inventory\n",
    "3. Update keyboard quantity to 30\n",
    "4. Print which products have less than 20 items in stock\n",
    "\n",
    "Hint: Use `.append()`, `.remove()`, and list indexing"
   ]
  },
  {
   "cell_type": "code",
   "execution_count": null,
   "id": "cell-13",
   "metadata": {},
   "outputs": [],
   "source": [
    "products = [\"laptop\", \"mouse\", \"keyboard\", \"monitor\"]\n",
    "quantities = [25, 50, 20, 10]\n",
    "\n",
    "# Your code here\n"
   ]
  },
  {
   "cell_type": "markdown",
   "id": "cell-14",
   "metadata": {},
   "source": [
    "### Exercise 6: Customer filtering\n",
    "\n",
    "Filter customers based on their spending:\n",
    "\n",
    "1. Create a new list with only high-value customers (spent > £1000)\n",
    "2. Count how many customers spent between £500 and £1000\n",
    "3. Calculate total revenue from all customers\n",
    "\n",
    "Hint: Use loops and if statements"
   ]
  },
  {
   "cell_type": "code",
   "execution_count": null,
   "id": "cell-15",
   "metadata": {},
   "outputs": [],
   "source": [
    "customer_spending = [450, 1200, 750, 2100, 300, 950, 1500, 600, 1800, 400]\n",
    "\n",
    "# Your code here\n"
   ]
  },
  {
   "cell_type": "markdown",
   "id": "cell-16",
   "metadata": {},
   "source": [
    "## Part 3: Dictionaries"
   ]
  },
  {
   "cell_type": "markdown",
   "id": "cell-17",
   "metadata": {},
   "source": [
    "### Exercise 7: Product catalogue\n",
    "\n",
    "Create a product dictionary and perform operations:\n",
    "\n",
    "1. Create a dictionary with 3 products (name as key, price as value)\n",
    "2. Add a new product\n",
    "3. Update the price of one product\n",
    "4. Remove one product\n",
    "5. Calculate the average price\n",
    "\n",
    "Hint: Use dictionary operations and `.values()` to get prices"
   ]
  },
  {
   "cell_type": "code",
   "execution_count": null,
   "id": "cell-18",
   "metadata": {},
   "outputs": [],
   "source": [
    "# Your code here\n"
   ]
  },
  {
   "cell_type": "markdown",
   "id": "cell-19",
   "metadata": {},
   "source": [
    "### Exercise 8: Customer database\n",
    "\n",
    "Create a customer database where each customer has:\n",
    "- name\n",
    "- email\n",
    "- total_purchases (a number)\n",
    "\n",
    "1. Add 3 customers to your database\n",
    "2. Print all customer names\n",
    "3. Find the customer with highest purchases\n",
    "4. Update one customer's email\n",
    "\n",
    "Hint: Use nested dictionaries"
   ]
  },
  {
   "cell_type": "code",
   "execution_count": null,
   "id": "cell-20",
   "metadata": {},
   "outputs": [],
   "source": [
    "customers = {}\n",
    "\n",
    "# Your code here\n"
   ]
  },
  {
   "cell_type": "markdown",
   "id": "cell-21",
   "metadata": {},
   "source": [
    "### Exercise 9: Sales by region\n",
    "\n",
    "Given sales data by region, answer these questions:\n",
    "\n",
    "1. Which region had the highest sales?\n",
    "2. What was the total sales across all regions?\n",
    "3. Add a new region \"Scotland\" with sales of 45000\n",
    "4. Calculate the average sales per region"
   ]
  },
  {
   "cell_type": "code",
   "execution_count": null,
   "id": "cell-22",
   "metadata": {},
   "outputs": [],
   "source": [
    "sales_by_region = {\n",
    "    \"London\": 75000,\n",
    "    \"Manchester\": 52000,\n",
    "    \"Birmingham\": 48000,\n",
    "    \"Leeds\": 41000\n",
    "}\n",
    "\n",
    "# Your code here\n"
   ]
  },
  {
   "cell_type": "markdown",
   "id": "cell-23",
   "metadata": {},
   "source": [
    "## Part 4: Functions"
   ]
  },
  {
   "cell_type": "markdown",
   "id": "cell-24",
   "metadata": {},
   "source": [
    "### Exercise 10: Discount calculator\n",
    "\n",
    "Write a function that calculates the final price after discount.\n",
    "\n",
    "The function should:\n",
    "- Take original price and discount percentage as parameters\n",
    "- Return the final price\n",
    "- Handle the case where discount is greater than 100%\n",
    "\n",
    "Test with the provided examples."
   ]
  },
  {
   "cell_type": "code",
   "execution_count": null,
   "id": "cell-25",
   "metadata": {},
   "outputs": [],
   "source": [
    "def calculate_discount(price, discount_percent):\n",
    "    # Your code here\n",
    "    pass\n",
    "\n",
    "# Test cases\n",
    "print(calculate_discount(100, 20))  # Should be 80\n",
    "print(calculate_discount(50, 10))   # Should be 45\n",
    "print(calculate_discount(200, 150)) # Handle this edge case"
   ]
  },
  {
   "cell_type": "markdown",
   "id": "cell-26",
   "metadata": {},
   "source": [
    "### Exercise 11: Grade converter\n",
    "\n",
    "Write a function that converts percentage scores to letter grades:\n",
    "- 'Distinction': 70-100\n",
    "- 'Merit': 60-69\n",
    "- 'Pass': 50-59\n",
    "- 'Fail': 40-49\n",
    "- 'Fail': below 40\n"
   ]
  },
  {
   "cell_type": "code",
   "execution_count": null,
   "id": "cell-27",
   "metadata": {},
   "outputs": [],
   "source": [
    "def percentage_to_grade(percentage):\n",
    "    # Your code here\n",
    "    pass\n",
    "\n",
    "# Test the function\n",
    "test_scores = [85, 65, 55, 45, 35]\n",
    "for score in test_scores:\n",
    "    print(f\"{score}%: {percentage_to_grade(score)}\")"
   ]
  },
  {
   "cell_type": "markdown",
   "id": "cell-28",
   "metadata": {},
   "source": [
    "### Exercise 12: Statistics calculator\n",
    "\n",
    "Write a function that takes a list of numbers and returns:\n",
    "- The mean (average)\n",
    "- The total\n",
    "- The count of numbers\n",
    "\n",
    "Return all three values from the function."
   ]
  },
  {
   "cell_type": "code",
   "execution_count": null,
   "id": "cell-29",
   "metadata": {},
   "outputs": [],
   "source": [
    "def calculate_stats(numbers):\n",
    "    # Your code here\n",
    "    return None, None, None\n",
    "\n",
    "# Test the function\n",
    "data = [10, 20, 30, 40, 50]\n",
    "mean, total, count = calculate_stats(data)\n",
    "print(f\"Mean: {mean}, Total: {total}, Count: {count}\")"
   ]
  },
  {
   "cell_type": "markdown",
   "id": "cell-30",
   "metadata": {},
   "source": [
    "## Part 5: File handling"
   ]
  },
  {
   "cell_type": "markdown",
   "id": "cell-31",
   "metadata": {},
   "source": [
    "### Exercise 13: Write customer data\n",
    "\n",
    "Write customer names and their spending to a file.\n",
    "\n",
    "Format each line as: \"Name: £amount\""
   ]
  },
  {
   "cell_type": "code",
   "execution_count": null,
   "id": "cell-32",
   "metadata": {},
   "outputs": [],
   "source": [
    "customers = {\n",
    "    \"Alice\": 1500,\n",
    "    \"Bob\": 2200,\n",
    "    \"Charlie\": 950\n",
    "}\n",
    "\n",
    "# Your code here - write to 'customers.txt'\n"
   ]
  },
  {
   "cell_type": "markdown",
   "id": "cell-33",
   "metadata": {},
   "source": [
    "### Exercise 14: Read and process file\n",
    "\n",
    "Read the customer file you just created and:\n",
    "1. Print each line\n",
    "2. Calculate the total spending\n",
    "3. Find the customer with highest spending"
   ]
  },
  {
   "cell_type": "code",
   "execution_count": null,
   "id": "cell-34",
   "metadata": {},
   "outputs": [],
   "source": [
    "# Your code here - read from 'customers.txt'\n"
   ]
  },
  {
   "cell_type": "markdown",
   "id": "cell-35",
   "metadata": {},
   "source": [
    "### Exercise 15: Inventory report\n",
    "\n",
    "Create an inventory report file that includes:\n",
    "1. A header line\n",
    "2. Product details\n",
    "3. A total line\n",
    "\n",
    "Then read and display the file."
   ]
  },
  {
   "cell_type": "code",
   "execution_count": null,
   "id": "cell-36",
   "metadata": {},
   "outputs": [],
   "source": [
    "inventory = [\n",
    "    {\"product\": \"Laptop\", \"quantity\": 25, \"price\": 899},\n",
    "    {\"product\": \"Mouse\", \"quantity\": 100, \"price\": 15},\n",
    "    {\"product\": \"Keyboard\", \"quantity\": 50, \"price\": 45}\n",
    "]\n",
    "\n",
    "# Your code here - write to 'inventory_report.txt'\n"
   ]
  },
  {
   "cell_type": "markdown",
   "id": "cell-37",
   "metadata": {},
   "source": [
    "## Bonus challenge (if time permits)\n",
    "\n",
    "### Simple business report generator\n",
    "\n",
    "Combine everything you've learnt to create a simple business report:\n",
    "\n",
    "1. Create a function that takes sales data (dictionary) as input\n",
    "2. Calculate total sales, average sale, best and worst performing products\n",
    "3. Write a formatted report to a file\n",
    "4. Read and display the report"
   ]
  },
  {
   "cell_type": "code",
   "execution_count": null,
   "id": "cell-38",
   "metadata": {},
   "outputs": [],
   "source": [
    "sales_data = {\n",
    "    \"Widget A\": 15000,\n",
    "    \"Widget B\": 22000,\n",
    "    \"Widget C\": 8500,\n",
    "    \"Widget D\": 19000,\n",
    "    \"Widget E\": 11000\n",
    "}\n",
    "\n",
    "def generate_report(sales):\n",
    "    # Your code here\n",
    "    pass\n",
    "\n",
    "# Generate and display the report\n",
    "generate_report(sales_data)"
   ]
  },
  {
   "cell_type": "markdown",
   "id": "cell-39",
   "metadata": {},
   "source": [
    "## Well done!\n",
    "\n",
    "You've completed the Week 1 exercises. These exercises have helped you practice:\n",
    "- String manipulation for text processing\n",
    "- List operations for handling collections of data\n",
    "- Dictionaries for organising structured data\n",
    "- Functions for reusable code\n",
    "- File handling for persistent data storage\n",
    "\n",
    "Check your answers against the Solutions notebook when you're ready."
   ]
  }
 ],
 "metadata": {
  "kernelspec": {
   "display_name": "default",
   "language": "python",
   "name": "python3"
  },
  "language_info": {
   "codemirror_mode": {
    "name": "ipython",
    "version": 3
   },
   "file_extension": ".py",
   "mimetype": "text/x-python",
   "name": "python",
   "nbconvert_exporter": "python",
   "pygments_lexer": "ipython3",
   "version": "3.12.4"
  }
 },
 "nbformat": 4,
 "nbformat_minor": 5
}
