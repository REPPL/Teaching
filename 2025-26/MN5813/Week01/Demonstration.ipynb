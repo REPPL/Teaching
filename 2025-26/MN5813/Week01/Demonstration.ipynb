{
 "cells": [
  {
   "cell_type": "markdown",
   "metadata": {},
   "source": [
    "# Introduction to Python (Demonstration)"
   ]
  },
  {
   "cell_type": "markdown",
   "metadata": {},
   "source": [
    "_This notebook builds on the Python basics from `Setup` week. We'll deepen your understanding of strings, lists, dictionaries, and functions, introducing more sophisticated ways to work with data._\n",
    "\n",
    "Note: This Jupyter Notebook was originally written by Jialun Hu (JH); it was reformatted and expanded by Alex Reppel (AR) based on conversations with [ClaudeAI](https://claude.ai/) *(version 3.5 Sonnet)*. For this year's materials, further revisions were made using [Claude Code](https://www.anthropic.com/claude-code) *(Opus 4.1)*, including updated documentation and git commit messages."
   ]
  },
  {
   "cell_type": "markdown",
   "metadata": {},
   "source": [
    "## Quick review from `Setup` week\n",
    "\n",
    "Let's quickly review arithmetic operations:"
   ]
  },
  {
   "cell_type": "code",
   "execution_count": null,
   "metadata": {},
   "outputs": [],
   "source": [
    "print(2 + 3 * 4)  # Multiplication has higher precedence\n",
    "print((2 + 3) * 4)  # Parentheses override default precedence\n",
    "print(10 / 3)  # Division always returns a float\n",
    "print(10 // 3)  # Floor division discards the fractional part\n",
    "print(10 % 3)  # Modulo: returns the remainder of the division\n",
    "print(2 ** 3)  # Exponentiation"
   ]
  },
  {
   "cell_type": "markdown",
   "metadata": {},
   "source": [
    "## Working with different data types\n",
    "\n",
    "In `Setup` week, you learnt about basic variables. Now let's explore different data types and how to work with them effectively:"
   ]
  },
  {
   "cell_type": "code",
   "execution_count": null,
   "metadata": {},
   "outputs": [],
   "source": [
    "name = \"Alice\"\n",
    "age = 30\n",
    "height = 1.75\n",
    "is_student = True\n",
    "\n",
    "print(f\"Name: {name}, Type: {type(name)}\")\n",
    "print(f\"Age: {age}, Type: {type(age)}\")\n",
    "print(f\"Height: {height}, Type: {type(height)}\")\n",
    "print(f\"Is student: {is_student}, Type: {type(is_student)}\")"
   ]
  },
  {
   "cell_type": "code",
   "execution_count": null,
   "metadata": {},
   "outputs": [],
   "source": [
    "# Variables can be reassigned\n",
    "x = 5\n",
    "print(f\"x = {x}\")"
   ]
  },
  {
   "cell_type": "code",
   "execution_count": null,
   "metadata": {},
   "outputs": [],
   "source": [
    "x = \"five\"\n",
    "print(f\"x = {x}\")"
   ]
  },
  {
   "cell_type": "code",
   "execution_count": null,
   "metadata": {},
   "outputs": [],
   "source": [
    "# Multiple assignment\n",
    "a, b, c = 1, 2, 3\n",
    "print(f\"a = {a}, b = {b}, c = {c}\")"
   ]
  },
  {
   "cell_type": "markdown",
   "metadata": {},
   "source": [
    "## More complex decisions\n",
    "\n",
    "You've already learnt basic if statements. Now let's look at more complex decision-making with elif and nested conditions:"
   ]
  },
  {
   "cell_type": "code",
   "execution_count": null,
   "metadata": {},
   "outputs": [],
   "source": [
    "def grade_student(score):\n",
    "    if score >= 90:\n",
    "        return \"A\"\n",
    "    elif score >= 80:\n",
    "        return \"B\"\n",
    "    elif score >= 70:\n",
    "        return \"C\"\n",
    "    elif score >= 60:\n",
    "        return \"D\"\n",
    "    else:\n",
    "        return \"F\""
   ]
  },
  {
   "cell_type": "code",
   "execution_count": null,
   "metadata": {},
   "outputs": [],
   "source": [
    "# Test the function\n",
    "scores = [95, 82, 75, 68, 55]\n",
    "for score in scores[:2]:\n",
    "    print(f\"Score: {score}, Grade: {grade_student(score)}\")\n",
    "print(\"DONE\")"
   ]
  },
  {
   "cell_type": "code",
   "execution_count": null,
   "metadata": {},
   "outputs": [],
   "source": [
    "# Ternary operator\n",
    "age = 20\n",
    "status = \"adult\" if age >= 18 else \"minor\"\n",
    "print(f\"A person aged {age} is an {status}\")"
   ]
  },
  {
   "cell_type": "code",
   "execution_count": null,
   "metadata": {},
   "outputs": [],
   "source": [
    "# Nested if statements\n",
    "num = 15\n",
    "if num > 0:\n",
    "    if num % 2 == 0:\n",
    "        print(f\"{num} is positive and even\")\n",
    "    else:\n",
    "        print(f\"{num} is positive and odd\")\n",
    "else:\n",
    "    print(f\"{num} is not positive\")"
   ]
  },
  {
   "cell_type": "markdown",
   "metadata": {},
   "source": [
    "## Advanced loop patterns\n",
    "\n",
    "Building on the basic loops from `Setup` week, let's explore additional loop patterns:"
   ]
  },
  {
   "cell_type": "code",
   "execution_count": null,
   "metadata": {},
   "outputs": [],
   "source": [
    "# For loop with range\n",
    "for i in range(5):\n",
    "    print(i, end=\" \")\n",
    "print()  # Newline"
   ]
  },
  {
   "cell_type": "code",
   "execution_count": null,
   "metadata": {},
   "outputs": [],
   "source": [
    "# For loop with list\n",
    "fruits = [\"apple\", \"banana\", \"cherry\"]\n",
    "for fruit in fruits:\n",
    "    print(fruit, end=\" \")\n",
    "print()  # Newline"
   ]
  },
  {
   "cell_type": "code",
   "execution_count": null,
   "metadata": {},
   "outputs": [],
   "source": [
    "# While loop\n",
    "count = 0\n",
    "while count < 5:\n",
    "    print(count, end=\" \")\n",
    "    count += 1\n",
    "print()  # Newline"
   ]
  },
  {
   "cell_type": "code",
   "execution_count": null,
   "metadata": {},
   "outputs": [],
   "source": [
    "# Nested loops\n",
    "for i in range(3):\n",
    "    for j in range(3):\n",
    "        print(f\"({i},{j})\", end=\" \")\n",
    "    print()  # Newline"
   ]
  },
  {
   "cell_type": "markdown",
   "metadata": {},
   "source": [
    "## Functions with multiple parameters\n",
    "\n",
    "You've alread written simple functions. Now let's explore functions with default values and multiple parameters:"
   ]
  },
  {
   "cell_type": "code",
   "execution_count": null,
   "metadata": {},
   "outputs": [],
   "source": [
    "def greet(name, greeting=\"Hello\"):\n",
    "    \"\"\"A simple greeting function\n",
    "    \n",
    "    Args:\n",
    "        name (str): The name of the person to greet\n",
    "        greeting (str, optional): The greeting to use. Defaults to \"Hello\".\n",
    "    \n",
    "    Returns:\n",
    "        str: The full greeting\n",
    "    \"\"\"\n",
    "    return f\"{greeting}, {name}!\""
   ]
  },
  {
   "cell_type": "code",
   "execution_count": null,
   "metadata": {},
   "outputs": [],
   "source": [
    "print(greet(\"Alice\"))\n",
    "print(greet(\"Bob\", \"Good morning\"))"
   ]
  },
  {
   "cell_type": "code",
   "execution_count": null,
   "metadata": {},
   "outputs": [],
   "source": [
    "# Function that returns multiple values\n",
    "def calculate_statistics(numbers):\n",
    "    \"\"\"Calculate mean and total of a list of numbers\"\"\"\n",
    "    total = sum(numbers)\n",
    "    mean = total / len(numbers)\n",
    "    return mean, total\n",
    "\n",
    "scores = [85, 90, 78, 92, 88]\n",
    "average, total = calculate_statistics(scores)\n",
    "print(f\"Average: {average:.1f}, Total: {total}\")"
   ]
  },
  {
   "cell_type": "markdown",
   "metadata": {},
   "source": [
    "## String manipulation\n",
    "\n",
    "Python provides various methods to manipulate strings, such as replacing characters, removing whitespace, and splitting strings."
   ]
  },
  {
   "cell_type": "code",
   "execution_count": null,
   "metadata": {},
   "outputs": [],
   "source": [
    "## String manipulation\n",
    "s = \"Strings are essential for working with text data. Let's explore powerful string methods.\""
   ]
  },
  {
   "cell_type": "code",
   "execution_count": null,
   "metadata": {},
   "outputs": [],
   "source": [
    "print(s.lower())  # Convert to lowercase\n",
    "print(s.upper())  # Convert to uppercase\n",
    "print(s.replace(\"string\", \"STRING\"))  # Replace substring\n",
    "print(s.split(\",\"))  # Split string into list"
   ]
  },
  {
   "cell_type": "code",
   "execution_count": null,
   "metadata": {},
   "outputs": [],
   "source": [
    "# String formatting\n",
    "name = \"Alice\"\n",
    "age = 30\n",
    "print(\"My name is {} and I'm {} years old\".format(name, age))\n",
    "print(f\"My name is {name} and I'm {age} years old\")  # f-string (Python 3.6+)"
   ]
  },
  {
   "cell_type": "code",
   "execution_count": null,
   "metadata": {},
   "outputs": [],
   "source": [
    "# String methods\n",
    "text = \"   Python is awesome   \"\n",
    "print(text.strip())  # Remove leading/trailing whitespace\n",
    "print(text.find(\"awesome\"))  # Find substring index\n",
    "print(\",\".join([\"apple\", \"banana\", \"cherry\"]))  # Join list into string"
   ]
  },
  {
   "cell_type": "markdown",
   "metadata": {},
   "source": [
    "## Playing with lists\n",
    "\n",
    "Lists are ordered collections of items in Python. They can contain different ``types`` and are ``mutable`` (that is, they can be changed after creation)."
   ]
  },
  {
   "cell_type": "code",
   "execution_count": null,
   "metadata": {},
   "outputs": [],
   "source": [
    "## Advanced list operations\n",
    "fruits = [\"apple\", \"banana\", \"cherry\"]"
   ]
  },
  {
   "cell_type": "code",
   "execution_count": null,
   "metadata": {},
   "outputs": [],
   "source": [
    "print(fruits[0])  # Accessing elements\n",
    "print(fruits[-1])  # Negative indexing\n",
    "print(fruits[1:3])  # Slicing"
   ]
  },
  {
   "cell_type": "code",
   "execution_count": null,
   "metadata": {},
   "outputs": [],
   "source": [
    "fruits.append(\"elderberry\")  # Add element to the end\n",
    "fruits.insert(1, \"blueberry\")  # Insert element at specific index\n",
    "fruits.remove(\"cherry\")  # Remove specific element\n",
    "\n",
    "popped = fruits.pop()  # Remove and return last element\n",
    "\n",
    "print(f\"Popped: {popped}\")\n",
    "print(f\"Updated fruits: {fruits}\")"
   ]
  },
  {
   "cell_type": "code",
   "execution_count": null,
   "metadata": {},
   "outputs": [],
   "source": [
    "# List comprehension (Advanced!)\n",
    "squares = [x**2 for x in range(5)]\n",
    "print(f\"Squares: {squares}\")"
   ]
  },
  {
   "cell_type": "code",
   "execution_count": null,
   "metadata": {},
   "outputs": [],
   "source": [
    "# Creating a new list from an existing one\n",
    "numbers = [1, 2, 3, 4, 5]\n",
    "squares = []\n",
    "for x in numbers:\n",
    "    squares.append(x**2)\n",
    "print(f\"Squares: {squares}\")"
   ]
  },
  {
   "cell_type": "code",
   "execution_count": null,
   "metadata": {},
   "outputs": [],
   "source": [
    "numbers = [3, 1, 4, 1, 5, 9, 2, 6, 5, 3, 5]\n",
    "\n",
    "# Sorting\n",
    "print(f\"Sorted: {sorted(numbers)}\")\n",
    "print(f\"Original: {numbers}\")\n",
    "\n",
    "numbers.sort()\n",
    "print(f\"Sorted in-place: {numbers}\")"
   ]
  },
  {
   "cell_type": "markdown",
   "metadata": {},
   "source": [
    "## Dictionaries\n",
    "\n",
    "Dictionaries are a powerful way to organise data using key-value pairs. Think of them like a real dictionary where you look up a word (key) to find its definition (value):"
   ]
  },
  {
   "cell_type": "code",
   "execution_count": null,
   "metadata": {},
   "outputs": [],
   "source": [
    "person = {\n",
    "    \"name\": \"Alice\",\n",
    "    \"age\": 30,\n",
    "    \"city\": \"New York\",\n",
    "    \"hobbies\": [\"reading\", \"painting\", \"hiking\"]\n",
    "}"
   ]
  },
  {
   "cell_type": "code",
   "execution_count": null,
   "metadata": {},
   "outputs": [],
   "source": [
    "# print(person[\"job\"])  # Accessing values\n",
    "print(person.get(\"job\", \"Not specified\"))  # Using get() with default value"
   ]
  },
  {
   "cell_type": "code",
   "execution_count": null,
   "metadata": {},
   "outputs": [],
   "source": [
    "person[\"job\"] = \"Engineer\"  # Adding new key-value pair\n",
    "person[\"age\"] = 31  # Modifying existing value"
   ]
  },
  {
   "cell_type": "code",
   "execution_count": null,
   "metadata": {},
   "outputs": [],
   "source": [
    "# Iterating through dictionary\n",
    "for key, value in person.items():\n",
    "    print(f\"{key}: {value}\")"
   ]
  },
  {
   "cell_type": "code",
   "execution_count": null,
   "metadata": {},
   "outputs": [],
   "source": [
    "# Creating a dictionary from lists\n",
    "products = [\"laptop\", \"mouse\", \"keyboard\"]\n",
    "prices = [999, 25, 75]\n",
    "\n",
    "# Combine into a dictionary\n",
    "inventory = {}\n",
    "for i in range(len(products)):\n",
    "    inventory[products[i]] = prices[i]\n",
    "\n",
    "print(f\"Inventory: {inventory}\")"
   ]
  },
  {
   "cell_type": "code",
   "execution_count": null,
   "metadata": {},
   "outputs": [],
   "source": [
    "# Nested dictionaries\n",
    "users = {\n",
    "    \"alice\": {\"email\": \"alice@example.com\", \"age\": 30},\n",
    "    \"bob\": {\"email\": \"bob@example.com\", \"age\": 25}\n",
    "}\n",
    "\n",
    "print(f\"Bob's email: {users['bob']['email']}\")"
   ]
  },
  {
   "cell_type": "markdown",
   "metadata": {},
   "source": [
    "Note: For this demonstration, we have a pre-existing sales data file in `assets/data/sales_data.txt` that we'll work with."
   ]
  },
  {
   "cell_type": "markdown",
   "metadata": {},
   "source": [
    "## File handling: The basics\n",
    "\n",
    "Working with files is essential for handling real business data. Let's learn to read from and write to text files:"
   ]
  },
  {
   "cell_type": "code",
   "execution_count": null,
   "metadata": {},
   "outputs": [],
   "source": [
    "# Reading from a pre-existing file\n",
    "with open(\"assets/data/sales_data.txt\", \"r\") as file:\n",
    "    lines = file.readlines()\n",
    "    \n",
    "print(\"Sales data from file:\")\n",
    "for line in lines:\n",
    "    print(line.strip())  # strip() removes the newline character"
   ]
  },
  {
   "cell_type": "code",
   "execution_count": null,
   "metadata": {},
   "outputs": [],
   "source": [
    "# Processing file data\n",
    "total_sales = 0\n",
    "with open(\"assets/data/sales_data.txt\", \"r\") as file:\n",
    "    for line in file:\n",
    "        # Extract the sales amount from each line\n",
    "        parts = line.strip().split(\": £\")\n",
    "        if len(parts) == 2:\n",
    "            name = parts[0]\n",
    "            amount = int(parts[1])\n",
    "            total_sales += amount\n",
    "            print(f\"{name} sold £{amount}\")\n",
    "\n",
    "print(f\"\\nTotal sales: £{total_sales}\")"
   ]
  },
  {
   "cell_type": "code",
   "execution_count": null,
   "metadata": {},
   "outputs": [],
   "source": [
    "# Writing new data to a different file\n",
    "new_data = [\"David: £2100\", \"Emma: £1750\", \"Frank: £1950\"]\n",
    "\n",
    "with open(\"assets/data/new_sales_data.txt\", \"w\") as file:\n",
    "    for line in new_data:\n",
    "        file.write(line + \"\\n\")\n",
    "\n",
    "print(\"New data written to assets/data/new_sales_data.txt\")\n",
    "\n",
    "# Read and display the new file\n",
    "with open(\"assets/data/new_sales_data.txt\", \"r\") as file:\n",
    "    print(\"\\nNew sales data:\")\n",
    "    for line in file:\n",
    "        print(line.strip())"
   ]
  },
  {
   "cell_type": "markdown",
   "metadata": {},
   "source": [
    "## Summary\n",
    "\n",
    "In this notebook, you've expanded your Python knowledge by looking at:\n",
    "\n",
    "### String manipulation\n",
    "- Converting case with `.lower()` and `.upper()`\n",
    "- Replacing text with `.replace()`\n",
    "- Splitting strings with `.split()`\n",
    "- Removing whitespace with `.strip()`\n",
    "- String formatting with f-strings\n",
    "\n",
    "### Advanced lists\n",
    "- List slicing to extract portions\n",
    "- Adding and removing elements\n",
    "- Sorting lists with `sorted()` and `.sort()`\n",
    "- Creating new lists from existing ones\n",
    "\n",
    "### Dictionaries\n",
    "- Creating dictionaries to store related data\n",
    "- Accessing values safely with `.get()`\n",
    "- Adding and modifying key-value pairs\n",
    "- Iterating through dictionaries\n",
    "- Nested dictionaries for complex data\n",
    "\n",
    "### File handling\n",
    "- Writing data to files\n",
    "- Reading data from files\n",
    "- Processing file contents line by line\n",
    "- Using `with` statements for safe file handling\n",
    "\n",
    "In the [exercises](Exercises.ipynb), you'll practice applying these concepts to business scenarios."
   ]
  }
 ],
 "metadata": {
  "kernelspec": {
   "display_name": "default",
   "language": "python",
   "name": "python3"
  },
  "language_info": {
   "codemirror_mode": {
    "name": "ipython",
    "version": 3
   },
   "file_extension": ".py",
   "mimetype": "text/x-python",
   "name": "python",
   "nbconvert_exporter": "python",
   "pygments_lexer": "ipython3",
   "version": "3.12.4"
  }
 },
 "nbformat": 4,
 "nbformat_minor": 4
}
