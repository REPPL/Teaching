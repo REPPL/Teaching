{
 "cells": [
  {
   "cell_type": "markdown",
   "metadata": {},
   "source": [
    "# Introduction to Python (Demonstration)"
   ]
  },
  {
   "cell_type": "markdown",
   "metadata": {},
   "source": [
    "_This notebook builds on the Python basics from `Setup` week. We'll deepen your understanding of strings, lists, dictionaries, and functions, introducing more sophisticated ways to work with data._\n",
    "\n",
    "Note: This Jupyter Notebook was originally written by Jialun Hu (JH); it was reformatted and expanded by Alex Reppel (AR) based on conversations with [ClaudeAI](https://claude.ai/) *(version 3.5 Sonnet)*. For this year's materials, further revisions were made using [Claude Code](https://www.anthropic.com/claude-code) *(Opus 4.1)*, including updated documentation and git commit messages."
   ]
  },
  {
   "cell_type": "markdown",
   "source": "---\n\n## 🎯 CORE CONTENT (Essential for Exercises)\n\n**Estimated time**: 60-75 minutes\n\nAll sections in this notebook are essential for completing the Week 01 exercises. The content builds systematically on Setup week, introducing:\n- More complex decisions (elif)\n- Functions for code reuse\n- Additional loop patterns (range, while)\n- String manipulation methods\n- List operations (indexing, slicing, methods)\n- Dictionaries for structured data\n- File handling basics\n\nWork through each section carefully and run all code examples.\n\n---",
   "metadata": {}
  },
  {
   "cell_type": "markdown",
   "metadata": {},
   "source": "## Quick review from Setup week\n\nIn Setup week, you learned these fundamentals:\n- **print()** - displaying information\n- **Variables** - storing strings and numbers\n- **F-strings** - combining text and variables (e.g., `f\"Total: {amount}\"`)\n- **Basic arithmetic** - addition (+), subtraction (-), multiplication (*), division (/)\n- **if/else** - simple decisions\n- **Lists** - storing multiple values (e.g., `prices = [10, 20, 30]`)\n- **for loops** - iterating over lists\n\nThis week builds on these basics with more sophisticated techniques. Let's start by expanding your arithmetic toolkit:"
  },
  {
   "cell_type": "code",
   "execution_count": null,
   "metadata": {},
   "outputs": [],
   "source": "# Additional arithmetic operators you'll find useful:\nprint(2 + 3 * 4)  # Multiplication has higher precedence\nprint((2 + 3) * 4)  # Parentheses override default precedence\nprint(10 / 3)  # Division (you know this) always returns a decimal\nprint(10 // 3)  # Floor division - NEW! Discards the decimal part\nprint(10 % 3)  # Modulo - NEW! Returns the remainder\nprint(2 ** 3)  # Exponentiation - NEW! (2 to the power of 3)"
  },
  {
   "cell_type": "markdown",
   "metadata": {},
   "source": [
    "## Working with different data types\n",
    "\n",
    "In `Setup` week, you learnt about basic variables. Now let's explore different data types and how to work with them effectively:"
   ]
  },
  {
   "cell_type": "code",
   "execution_count": null,
   "metadata": {},
   "outputs": [],
   "source": "name = \"Alice\"\nage = 30\nheight = 1.75\nis_student = True\n\nprint(f\"Name: {name}, Type: {type(name)}\")\nprint(f\"Age: {age}, Type: {type(age)}\")\nprint(f\"Height: {height}, Type: {type(height)}\")\nprint(f\"Is student: {is_student}, Type: {type(is_student)}\")"
  },
  {
   "cell_type": "code",
   "execution_count": null,
   "metadata": {},
   "outputs": [],
   "source": [
    "# Variables can be reassigned\n",
    "x = 5\n",
    "print(f\"x = {x}\")"
   ]
  },
  {
   "cell_type": "code",
   "execution_count": null,
   "metadata": {},
   "outputs": [],
   "source": [
    "x = \"five\"\n",
    "print(f\"x = {x}\")"
   ]
  },
  {
   "cell_type": "code",
   "execution_count": null,
   "metadata": {},
   "outputs": [],
   "source": [
    "# Multiple assignment\n",
    "a, b, c = 1, 2, 3\n",
    "print(f\"a = {a}, b = {b}, c = {c}\")"
   ]
  },
  {
   "cell_type": "markdown",
   "metadata": {},
   "source": "## Making more complex decisions with elif\n\nIn Setup week, you learned simple if/else for two-way decisions. But what if you need to check multiple conditions? Python provides `elif` (short for \"else if\"):\n\n**Setup reminder** - simple if/else:\n```python\nif age >= 18:\n    print(\"Adult\")\nelse:\n    print(\"Child\")\n```\n\n**New technique** - elif for multiple conditions:\n```python\nif age >= 65:\n    print(\"Senior\")\nelif age >= 18:\n    print(\"Adult\")\nelse:\n    print(\"Child\")\n```\n\nLet's see elif in action with a grading function (we'll introduce functions properly in the next section):"
  },
  {
   "cell_type": "markdown",
   "source": "## Introduction to functions\n\n**New concept**: Functions are reusable blocks of code that perform specific tasks. Think of them as recipes you can use multiple times.\n\n**Basic structure**:\n```python\ndef function_name(parameter):\n    # Code goes here\n    return result\n```\n\n**Why use functions?**\n- Avoid repeating code\n- Make code easier to read\n- Break complex problems into smaller pieces\n\nLet's see a simple example first:\n\n```python\ndef add_vat(price):\n    total = price * 1.20  # Add 20% VAT\n    return total\n\n# Use the function\nfinal_price = add_vat(100)\nprint(f\"Price with VAT: £{final_price}\")  # Shows: Price with VAT: £120.0\n```\n\nNow let's see a more complex function using elif:",
   "metadata": {}
  },
  {
   "cell_type": "code",
   "execution_count": null,
   "metadata": {},
   "outputs": [],
   "source": [
    "def grade_student(score):\n",
    "    if score >= 90:\n",
    "        return \"A\"\n",
    "    elif score >= 80:\n",
    "        return \"B\"\n",
    "    elif score >= 70:\n",
    "        return \"C\"\n",
    "    elif score >= 60:\n",
    "        return \"D\"\n",
    "    else:\n",
    "        return \"F\""
   ]
  },
  {
   "cell_type": "code",
   "execution_count": null,
   "metadata": {},
   "outputs": [],
   "source": "# Test the function\nscores = [95, 82, 75, 68, 55]\n\nfor score in scores:\n    print(f\"Score: {score}, Grade: {grade_student(score)}\")"
  },
  {
   "cell_type": "code",
   "execution_count": null,
   "metadata": {},
   "outputs": [],
   "source": [
    "# Ternary operator\n",
    "age = 20\n",
    "\n",
    "status = \"adult\" if age >= 18 else \"minor\"\n",
    "\n",
    "print(f\"A person aged {age} is an {status}\")"
   ]
  },
  {
   "cell_type": "code",
   "execution_count": null,
   "metadata": {},
   "outputs": [],
   "source": [
    "# Nested if statements\n",
    "num = 15\n",
    "if num > 0:\n",
    "    if num % 2 == 0:\n",
    "        print(f\"{num} is positive and even\")\n",
    "    else:\n",
    "        print(f\"{num} is positive and odd\")\n",
    "else:\n",
    "    print(f\"{num} is not positive\")\n",
    "\n",
    "\n"
   ]
  },
  {
   "cell_type": "markdown",
   "execution_count": null,
   "metadata": {},
   "outputs": [],
   "source": "## More loop patterns\n\nIn Setup week, you learned to iterate over lists with for loops:\n```python\nprices = [10, 20, 30]\nfor price in prices:\n    print(price)\n```\n\nNow let's learn additional loop techniques:"
  },
  {
   "cell_type": "code",
   "metadata": {},
   "source": "# NEW: For loop with range() - generates numbers automatically\n# range(1, 10) generates numbers from 1 to 9 (stops before 10)\nfor i in range(1, 10):\n    print(i, end=\" \")\nprint()  # Newline"
  },
  {
   "cell_type": "code",
   "execution_count": null,
   "metadata": {},
   "outputs": [],
   "source": [
    "# For loop with range\n",
    "for i in range(1, 10):\n",
    "    print(i, end=\" \")\n",
    "print()  # Newline"
   ]
  },
  {
   "cell_type": "code",
   "execution_count": null,
   "metadata": {},
   "outputs": [],
   "source": [
    "# For loop with list\n",
    "fruits = [\"apple\", \"banana\", \"cherry\"]\n",
    "for fruit in fruits:\n",
    "    print(fruit, end=\" \")\n",
    "print()  # Newline"
   ]
  },
  {
   "cell_type": "code",
   "execution_count": null,
   "metadata": {},
   "outputs": [],
   "source": [
    "# While loop\n",
    "count = 0\n",
    "while count < 5:\n",
    "    print(count, end=\" \")\n",
    "    count += 1\n",
    "print()  # Newline"
   ]
  },
  {
   "cell_type": "markdown",
   "execution_count": null,
   "metadata": {},
   "outputs": [],
   "source": "## Functions with multiple parameters and default values\n\nYou've now seen basic functions with a single parameter. Let's explore more advanced function features:"
  },
  {
   "cell_type": "markdown",
   "metadata": {},
   "source": [
    "## Functions with multiple parameters\n",
    "\n",
    "You've alread written simple functions. Now let's explore functions with default values and multiple parameters:"
   ]
  },
  {
   "cell_type": "code",
   "execution_count": null,
   "metadata": {},
   "outputs": [],
   "source": [
    "def greet(name, greeting=\"Hello\"):\n",
    "    \"\"\"A simple greeting function\n",
    "    \n",
    "    Args:\n",
    "        name (str): The name of the person to greet\n",
    "        greeting (str, optional): The greeting to use. Defaults to \"Hello\".\n",
    "    \n",
    "    Returns:\n",
    "        str: The full greeting\n",
    "    \"\"\"\n",
    "    return f\"{greeting}, {name},\""
   ]
  },
  {
   "cell_type": "code",
   "execution_count": null,
   "metadata": {},
   "outputs": [],
   "source": [
    "print(greet(\"Alice\"))\n",
    "print(greet(\"Bob\", \"Good morning\"))"
   ]
  },
  {
   "cell_type": "code",
   "execution_count": null,
   "metadata": {},
   "outputs": [],
   "source": [
    "# Function that returns multiple values\n",
    "def calculate_statistics(numbers):\n",
    "    \"\"\"Calculate mean and total of a list of numbers\"\"\"\n",
    "    total = sum(numbers)\n",
    "    mean = total / len(numbers)\n",
    "    return mean, total\n",
    "\n",
    "scores = [85, 90, 78, 92, 88]\n",
    "average, total = calculate_statistics(scores)\n",
    "print(f\"Average: {average:.1f}, Total: {total}\")"
   ]
  },
  {
   "cell_type": "markdown",
   "metadata": {},
   "source": [
    "## String manipulation\n",
    "\n",
    "Python provides various methods to manipulate strings, such as replacing characters, removing whitespace, and splitting strings."
   ]
  },
  {
   "cell_type": "markdown",
   "execution_count": null,
   "metadata": {},
   "outputs": [],
   "source": "Let's practice with string methods on a business-related string:"
  },
  {
   "cell_type": "code",
   "execution_count": null,
   "metadata": {},
   "outputs": [],
   "source": [
    "print(s.lower())  # Convert to lowercase\n",
    "print(s.upper())  # Convert to uppercase\n",
    "print(s.replace(\"string\", \"STRING\"))  # Replace substring\n",
    "print(s.split(\",\"))  # Split string into list"
   ]
  },
  {
   "cell_type": "code",
   "execution_count": null,
   "metadata": {},
   "outputs": [],
   "source": [
    "# String formatting\n",
    "name = \"Alice\"\n",
    "age = 30\n",
    "print(\"My name is {} and I'm {} years old\".format(name, age))\n",
    "print(f\"My name is {name} and I'm {age} years old\")  # f-string (Python 3.6+)"
   ]
  },
  {
   "cell_type": "markdown",
   "execution_count": null,
   "metadata": {},
   "outputs": [],
   "source": "## Working with lists - new techniques\n\nIn Setup week, you learned to create lists and iterate over them:\n```python\nproducts = [\"Laptop\", \"Mouse\"]\nfor product in products:\n    print(product)\n```\n\nNow let's learn powerful list manipulation techniques:"
  },
  {
   "cell_type": "markdown",
   "metadata": {},
   "source": [
    "## Playing with lists\n",
    "\n",
    "Lists are ordered collections of items in Python. They can contain different ``types`` and are ``mutable`` (that is, they can be changed after creation)."
   ]
  },
  {
   "cell_type": "code",
   "execution_count": null,
   "metadata": {},
   "outputs": [],
   "source": "# NEW: Accessing individual elements with indexing\nprint(fruits[0])  # First element (indexing starts at 0)\nprint(fruits[-1])  # Last element (negative indexing)\nprint(fruits[1:3])  # Slicing - get elements from index 1 to 2 (stops before 3)"
  },
  {
   "cell_type": "code",
   "execution_count": null,
   "metadata": {},
   "outputs": [],
   "source": [
    "print(fruits[0])  # Accessing elements\n",
    "print(fruits[-1])  # Negative indexing\n",
    "print(fruits[1:3])  # Slicing"
   ]
  },
  {
   "cell_type": "code",
   "execution_count": null,
   "metadata": {},
   "outputs": [],
   "source": [
    "# List comprehension (Advanced!)\n",
    "squares = [x**2 for x in range(5)]\n",
    "print(f\"Squares: {squares}\")"
   ]
  },
  {
   "cell_type": "code",
   "execution_count": null,
   "metadata": {},
   "outputs": [],
   "source": [
    "# Creating a new list from an existing one\n",
    "numbers = [1, 2, 3, 4, 5]\n",
    "squares = []\n",
    "for x in numbers:\n",
    "    squares.append(x**2)\n",
    "print(f\"Squares: {squares}\")"
   ]
  },
  {
   "cell_type": "code",
   "execution_count": null,
   "metadata": {},
   "outputs": [],
   "source": [
    "numbers = [3, 1, 4, 1, 5, 9, 2, 6, 5, 3, 5]\n",
    "\n",
    "# Sorting\n",
    "print(f\"Sorted: {sorted(numbers)}\")\n",
    "print(f\"Original: {numbers}\")\n",
    "\n",
    "numbers.sort()\n",
    "print(f\"Sorted in-place: {numbers}\")"
   ]
  },
  {
   "cell_type": "markdown",
   "metadata": {},
   "source": [
    "## Dictionaries\n",
    "\n",
    "Dictionaries are a powerful way to organise data using key-value pairs. Think of them like a real dictionary where you look up a word (key) to find its definition (value):"
   ]
  },
  {
   "cell_type": "code",
   "execution_count": null,
   "metadata": {},
   "outputs": [],
   "source": [
    "person = {\n",
    "    \"name\": \"Alice\",\n",
    "    \"age\": 30,\n",
    "    \"city\": \"New York\",\n",
    "    \"hobbies\": [\"reading\", \"painting\", \"hiking\"]\n",
    "}"
   ]
  },
  {
   "cell_type": "markdown",
   "source": "### Safe access with .get()\n\nInstead of using `person[\"job\"]` which would cause an error if \"job\" doesn't exist, use `.get()` with a default value:",
   "metadata": {}
  },
  {
   "cell_type": "code",
   "execution_count": null,
   "metadata": {},
   "outputs": [],
   "source": [
    "# print(person[\"job\"])  # Accessing values\n",
    "print(person.get(\"job\", \"Not specified\"))  # Using get() with default value"
   ]
  },
  {
   "cell_type": "code",
   "execution_count": null,
   "metadata": {},
   "outputs": [],
   "source": [
    "person[\"job\"] = \"Engineer\"  # Adding new key-value pair\n",
    "person[\"age\"] = 31  # Modifying existing value"
   ]
  },
  {
   "cell_type": "code",
   "execution_count": null,
   "metadata": {},
   "outputs": [],
   "source": [
    "# Iterating through dictionary\n",
    "for key, value in person.items():\n",
    "    print(f\"{key}: {value}\")"
   ]
  },
  {
   "cell_type": "code",
   "execution_count": null,
   "metadata": {},
   "outputs": [],
   "source": [
    "# Creating a dictionary from lists\n",
    "products = [\"laptop\", \"mouse\", \"keyboard\"]\n",
    "prices = [999, 25, 75]\n",
    "\n",
    "# Combine into a dictionary\n",
    "inventory = {}\n",
    "for i in range(len(products)):\n",
    "    inventory[products[i]] = prices[i]\n",
    "\n",
    "print(f\"Inventory: {inventory}\")"
   ]
  },
  {
   "cell_type": "code",
   "execution_count": null,
   "metadata": {},
   "outputs": [],
   "source": "# Nested dictionaries\nusers = {\n    \"alice\": {\"email\": \"alice@example.com\", \"age\": 30},\n    \"bob\": {\"email\": \"bob@example.com\", \"age\": 25}\n}\n\nprint(f\"Bob's email: {users['bob']['email']}\")"
  },
  {
   "cell_type": "markdown",
   "metadata": {},
   "source": [
    "Note: For this demonstration, we have a pre-existing sales data file in `assets/data/sales_data.txt` that we'll work with."
   ]
  },
  {
   "cell_type": "markdown",
   "metadata": {},
   "source": [
    "## File handling: The basics\n",
    "\n",
    "Working with files is essential for handling real business data. Let's learn to read from and write to text files:"
   ]
  },
  {
   "cell_type": "code",
   "execution_count": null,
   "metadata": {},
   "outputs": [],
   "source": [
    "# Reading from a pre-existing file\n",
    "with open(\"assets/data/sales_data.txt\", \"r\") as file:\n",
    "    lines = file.readlines()\n",
    "    \n",
    "print(\"Sales data from file:\")\n",
    "for line in lines:\n",
    "    print(line.strip())  # strip() removes the newline character"
   ]
  },
  {
   "cell_type": "code",
   "execution_count": null,
   "metadata": {},
   "outputs": [],
   "source": [
    "# Processing file data\n",
    "total_sales = 0\n",
    "with open(\"assets/data/sales_data.txt\", \"r\") as file:\n",
    "    for line in file:\n",
    "        # Extract the sales amount from each line\n",
    "        parts = line.strip().split(\": £\")\n",
    "        if len(parts) == 2:\n",
    "            name = parts[0]\n",
    "            amount = int(parts[1])\n",
    "            total_sales += amount\n",
    "            print(f\"{name} sold £{amount}\")\n",
    "\n",
    "print(f\"\\nTotal sales: £{total_sales}\")"
   ]
  },
  {
   "cell_type": "code",
   "execution_count": null,
   "metadata": {},
   "outputs": [],
   "source": [
    "# Writing new data to a different file\n",
    "new_data = [\"David: £2100\", \"Emma: £1750\", \"Frank: £1950\"]\n",
    "\n",
    "with open(\"assets/data/new_sales_data.txt\", \"w\") as file:\n",
    "    for line in new_data:\n",
    "        file.write(line + \"\\n\")\n",
    "\n",
    "print(\"New data written to assets/data/new_sales_data.txt\")\n",
    "\n",
    "# Read and display the new file\n",
    "with open(\"assets/data/new_sales_data.txt\", \"r\") as file:\n",
    "    print(\"\\nNew sales data:\")\n",
    "    for line in file:\n",
    "        print(line.strip())"
   ]
  },
  {
   "cell_type": "markdown",
   "metadata": {},
   "source": [
    "## Summary\n",
    "\n",
    "In this notebook, you've expanded your Python knowledge by looking at:\n",
    "\n",
    "### String manipulation\n",
    "- Converting case with `.lower()` and `.upper()`\n",
    "- Replacing text with `.replace()`\n",
    "- Splitting strings with `.split()`\n",
    "- Removing whitespace with `.strip()`\n",
    "- String formatting with f-strings\n",
    "\n",
    "### Advanced lists\n",
    "- List slicing to extract portions\n",
    "- Adding and removing elements\n",
    "- Sorting lists with `sorted()` and `.sort()`\n",
    "- Creating new lists from existing ones\n",
    "\n",
    "### Dictionaries\n",
    "- Creating dictionaries to store related data\n",
    "- Accessing values safely with `.get()`\n",
    "- Adding and modifying key-value pairs\n",
    "- Iterating through dictionaries\n",
    "- Nested dictionaries for complex data\n",
    "\n",
    "### File handling\n",
    "- Writing data to files\n",
    "- Reading data from files\n",
    "- Processing file contents line by line\n",
    "- Using `with` statements for safe file handling\n",
    "\n",
    "In the [exercises](Exercises.ipynb), you'll practice applying these concepts to business scenarios."
   ]
  }
 ],
 "metadata": {
  "kernelspec": {
   "display_name": "Python 3 (ipykernel)",
   "language": "python",
   "name": "python3"
  },
  "language_info": {
   "codemirror_mode": {
    "name": "ipython",
    "version": 3
   },
   "file_extension": ".py",
   "mimetype": "text/x-python",
   "name": "python",
   "nbconvert_exporter": "python",
   "pygments_lexer": "ipython3",
   "version": "3.12.4"
  }
 },
 "nbformat": 4,
 "nbformat_minor": 4
}