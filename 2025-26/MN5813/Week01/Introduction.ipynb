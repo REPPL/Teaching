{
 "cells": [
  {
   "cell_type": "markdown",
   "metadata": {},
   "source": [
    "# Introduction to Python (Introduction)\n",
    "\n",
    "_This notebook introduces Week 1's learning objectives and key concepts, building on the foundations from Setup week._\n",
    "\n",
    "Note: This Jupyter Notebook was originally compiled by Alex Reppel (AR) based on conversations with [ClaudeAI](https://claude.ai/) *(version 3.5 Sonnet)*. For this year's materials, further revisions were made using [Claude Code](https://www.anthropic.com/claude-code) *(Opus 4.1)*, including updated documentation and git commit messages."
   ]
  },
  {
   "cell_type": "markdown",
   "metadata": {},
   "source": [
    "## Week 1 overview\n",
    "\n",
    "Welcome to Week 1! This week builds on the Python basics you learnt in the `Setup` week. We'll deepen your understanding of Python's core features and introduce more ways to work with data."
   ]
  },
  {
   "cell_type": "markdown",
   "metadata": {},
   "source": [
    "## Learning objectives\n",
    "\n",
    "By the end of this week, you will be able to:\n",
    "\n",
    "1. **Work confidently with different data types** - understand when to use strings, numbers, lists, and dictionaries\n",
    "2. **Write more complex functions** - including functions with multiple parameters and return values\n",
    "3. **Use string methods effectively** - format, split, and manipulate text data\n",
    "4. **Master list operations** - sorting, filtering, and processing collections of data\n",
    "5. **Create and manipulate dictionaries** - organise data in key-value pairs\n",
    "6. **Handle basic file operations** - read from and write to text files"
   ]
  },
  {
   "cell_type": "markdown",
   "metadata": {},
   "source": [
    "## Requirements\n",
    "\n",
    "Before starting this week's materials, ensure you can:\n",
    "- Create variables and perform basic calculations\n",
    "- Write simple if statements and for loops\n",
    "- Define basic functions\n",
    "- Work with simple lists\n",
    "\n",
    "If you're not comfortable with these concepts, please review the `Setup` week's `Demonstration` notebook."
   ]
  },
  {
   "cell_type": "markdown",
   "metadata": {},
   "source": []
  },
  {
   "cell_type": "markdown",
   "metadata": {},
   "source": [
    "## Quick review\n",
    "\n",
    "Let's quickly review what you learnt in `Setup` week:"
   ]
  },
  {
   "cell_type": "code",
   "execution_count": null,
   "metadata": {},
   "outputs": [],
   "source": [
    "# Variables and calculations (from Setup)\n",
    "price = 100\n",
    "vat_rate = 0.20\n",
    "total_price = price * (1 + vat_rate)\n",
    "print(f\"Price with VAT: £{total_price:.2f}\")"
   ]
  },
  {
   "cell_type": "code",
   "execution_count": null,
   "metadata": {},
   "outputs": [],
   "source": "# Simple for loop (from Setup)\nproducts = [\"laptop\", \"mouse\", \"keyboard\"]\nfor product in products:\n    print(product)"
  },
  {
   "cell_type": "code",
   "execution_count": null,
   "metadata": {},
   "outputs": [],
   "source": [
    "# Simple list operations (from Setup)\n",
    "products = [\"laptop\", \"mouse\", \"keyboard\"]\n",
    "products.append(\"monitor\")\n",
    "print(f\"Products: {products}\")"
   ]
  },
  {
   "cell_type": "markdown",
   "metadata": {},
   "source": [
    "## What's new?\n",
    "\n",
    "This week, we'll expand on these basics with:\n",
    "\n",
    "### 1. In-depth(ish) string handling"
   ]
  },
  {
   "cell_type": "code",
   "execution_count": null,
   "metadata": {},
   "outputs": [],
   "source": [
    "# String methods you'll learn\n",
    "email = \"  Alice.Smith@Company.co.uk  \"\n",
    "cleaned_email = email.strip().lower()\n",
    "username = cleaned_email.split(\"@\")[0]\n",
    "print(f\"Username: {username}\")"
   ]
  },
  {
   "cell_type": "markdown",
   "metadata": {},
   "source": [
    "### 2. Advanced list techniques"
   ]
  },
  {
   "cell_type": "code",
   "execution_count": null,
   "metadata": {},
   "outputs": [],
   "source": [
    "# List slicing and processing\n",
    "sales = [150, 200, 175, 300, 250, 180]\n",
    "top_three = sorted(sales, reverse=True)[:3]\n",
    "print(f\"Top 3 sales: {top_three}\")"
   ]
  },
  {
   "cell_type": "markdown",
   "metadata": {},
   "source": [
    "### 3. Dictionaries to organise data"
   ]
  },
  {
   "cell_type": "code",
   "execution_count": null,
   "metadata": {},
   "outputs": [],
   "source": "# Dictionaries store related information\ncustomer = {\n    \"name\": \"Alice Johnson\",\n    \"email\": \"alice@example.com\",\n    \"purchases\": [150, 200, 175]\n}\ntotal_spent = sum(customer[\"purchases\"])\nprint(f\"{customer['name']} has spent £{total_spent}\")"
  },
  {
   "cell_type": "markdown",
   "metadata": {},
   "source": [
    "### 4. File handling"
   ]
  },
  {
   "cell_type": "code",
   "execution_count": null,
   "metadata": {},
   "outputs": [],
   "source": [
    "# Writing data to a file\n",
    "with open(\"data.txt\", \"w\") as file:\n",
    "    file.write(\"Sales Report\\n\")\n",
    "    file.write(\"Monday: £500\\n\")\n",
    "    file.write(\"Tuesday: £750\\n\")\n",
    "\n",
    "# Reading data from a file\n",
    "with open(\"data.txt\", \"r\") as file:\n",
    "    content = file.read()\n",
    "    print(content)"
   ]
  },
  {
   "cell_type": "markdown",
   "metadata": {},
   "source": [
    "## This week's focus\n",
    "\n",
    "### Data types matter\n",
    "- **Strings** for text (names, emails, addresses)\n",
    "- **Numbers** for calculations (prices, quantities, percentages)\n",
    "- **Lists** for collections (products, customers, transactions)\n",
    "- **Dictionaries** for structured data (customer records, product details)\n",
    "\n",
    "### Functions are building blocks\n",
    "- Break complex problems into smaller functions\n",
    "- Each function should do one thing well\n",
    "- Good function names explain what they do\n",
    "\n",
    "### Debugging is essential\n",
    "- Read error messages carefully\n",
    "- Use print statements to understand your code\n",
    "- Test with simple examples first"
   ]
  },
  {
   "cell_type": "markdown",
   "metadata": {},
   "source": [
    "## This week's challenges\n",
    "\n",
    "In my experience, the following concepts are often challenging for beginners:\n",
    "\n",
    "1. **List indexing** - Remember: Python counts from 0\n",
    "2. **Dictionary keys** - Keys must be unique and immutable\n",
    "3. **String immutability** - Strings cannot be changed in place\n",
    "4. **Indentation** - Python uses indentation to group code\n",
    "\n",
    "We'll address each of these in the `Demonstration` notebook."
   ]
  },
  {
   "cell_type": "markdown",
   "metadata": {},
   "source": [
    "## Step-by-step\n",
    "\n",
    "1. **Review this Introduction** (10 minutes)\n",
    "2. **Work through the Demonstration** (60 minutes)\n",
    "   - Run every code cell\n",
    "   - Modify examples to see what happens\n",
    "   - Take notes on new concepts\n",
    "\n",
    "3. **Attempt Exercises** (120 minutes)\n",
    "   - Start with the easier exercises\n",
    "   - Don't look at solutions immediately\n",
    "   - Use print statements to debug\n",
    "\n",
    "4. **Review Solutions** (30 minutes)\n",
    "   - Compare your approach\n",
    "   - Understand alternative methods\n",
    "   - Note any concepts to revisit"
   ]
  },
  {
   "cell_type": "markdown",
   "metadata": {},
   "source": []
  },
  {
   "cell_type": "markdown",
   "metadata": {},
   "source": [
    "## Review\n",
    "\n",
    "By the end of this week, you should be able to:\n",
    "\n",
    "✓ Manipulate strings to clean and format data  \n",
    "✓ Use list slicing to extract subsets of data  \n",
    "✓ Sort and filter lists based on criteria  \n",
    "✓ Create dictionaries to organise related data  \n",
    "✓ Access and modify dictionary values  \n",
    "✓ Read data from files and write results to files  \n",
    "✓ Write functions that process business data  \n",
    "✓ Debug simple Python programs  "
   ]
  },
  {
   "cell_type": "markdown",
   "metadata": {},
   "source": []
  }
 ],
 "metadata": {
  "kernelspec": {
   "display_name": "Python 3 (ipykernel)",
   "language": "python",
   "name": "python3"
  },
  "language_info": {
   "codemirror_mode": {
    "name": "ipython",
    "version": 3
   },
   "file_extension": ".py",
   "mimetype": "text/x-python",
   "name": "python",
   "nbconvert_exporter": "python",
   "pygments_lexer": "ipython3",
   "version": "3.12.4"
  }
 },
 "nbformat": 4,
 "nbformat_minor": 4
}