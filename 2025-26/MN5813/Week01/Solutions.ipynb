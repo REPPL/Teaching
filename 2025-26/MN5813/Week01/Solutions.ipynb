{
 "cells": [
  {
   "cell_type": "markdown",
   "id": "cell-0",
   "metadata": {},
   "source": [
    "# Introduction to Python (Solutions)"
   ]
  },
  {
   "cell_type": "markdown",
   "id": "cell-1",
   "metadata": {},
   "source": [
    "_This notebook provides solutions to the Week 1 exercises. Each solution includes explanations and alternative approaches where appropriate._\n",
    "\n",
    "Note: This Jupyter Notebook was originally compiled by Alex Reppel (AR) based on conversations with [ClaudeAI](https://claude.ai/) *(version 3.5 Sonnet)*. For this year's materials, further revisions were made using [Claude Code](https://www.anthropic.com/claude-code) *(Opus 4.1)*, including updated documentation and git commit messages."
   ]
  },
  {
   "cell_type": "markdown",
   "id": "cell-2",
   "metadata": {},
   "source": [
    "## Part 1: String manipulation"
   ]
  },
  {
   "cell_type": "markdown",
   "id": "cell-3",
   "metadata": {},
   "source": [
    "### Exercise 1: Email processing"
   ]
  },
  {
   "cell_type": "code",
   "execution_count": null,
   "id": "cell-4",
   "metadata": {},
   "outputs": [],
   "source": [
    "email = \"Alice.Smith@Company.co.uk\"\n",
    "\n",
    "# 1. Convert to lowercase\n",
    "email_lower = email.lower()\n",
    "print(f\"Lowercase: {email_lower}\")\n",
    "\n",
    "# 2. Extract username\n",
    "parts = email_lower.split('@')\n",
    "username = parts[0]\n",
    "print(f\"Username: {username}\")\n",
    "\n",
    "# 3. Extract domain\n",
    "domain = parts[1]\n",
    "print(f\"Domain: {domain}\")\n",
    "\n",
    "# 4. Check if UK email\n",
    "is_uk = domain.endswith('.co.uk') or domain.endswith('.ac.uk')\n",
    "print(f\"Is UK email: {is_uk}\")"
   ]
  },
  {
   "cell_type": "markdown",
   "id": "cell-5",
   "metadata": {},
   "source": [
    "### Exercise 2: Customer name formatting"
   ]
  },
  {
   "cell_type": "code",
   "execution_count": null,
   "id": "cell-6",
   "metadata": {},
   "outputs": [],
   "source": [
    "names = [\"  alice johnson  \", \"BOB SMITH\", \"charlie    brown\"]\n",
    "\n",
    "for name in names:\n",
    "    # 1. Remove extra spaces\n",
    "    cleaned = name.strip()\n",
    "    \n",
    "    # 2. Capitalise first letter of each word\n",
    "    formatted = cleaned.title()\n",
    "    \n",
    "    # 3. Create formal greeting\n",
    "    greeting = f\"Dear {formatted},\"\n",
    "    \n",
    "    print(greeting)"
   ]
  },
  {
   "cell_type": "markdown",
   "id": "cell-7",
   "metadata": {},
   "source": [
    "### Exercise 3: Product code parser"
   ]
  },
  {
   "cell_type": "code",
   "execution_count": null,
   "id": "cell-8",
   "metadata": {},
   "outputs": [],
   "source": [
    "product_code = \"SHIRT-L-BLUE-12345\"\n",
    "\n",
    "# Split the code into components\n",
    "components = product_code.split('-')\n",
    "\n",
    "# Extract each part\n",
    "category = components[0]\n",
    "size = components[1]\n",
    "colour = components[2]\n",
    "product_id = components[3]\n",
    "\n",
    "print(f\"Category: {category}\")\n",
    "print(f\"Size: {size}\")\n",
    "print(f\"Colour: {colour}\")\n",
    "print(f\"ID: {product_id}\")"
   ]
  },
  {
   "cell_type": "markdown",
   "id": "cell-9",
   "metadata": {},
   "source": [
    "## Part 2: List operations"
   ]
  },
  {
   "cell_type": "markdown",
   "id": "cell-10",
   "metadata": {},
   "source": [
    "### Exercise 4: Sales data analysis"
   ]
  },
  {
   "cell_type": "code",
   "execution_count": null,
   "id": "cell-11",
   "metadata": {},
   "outputs": [],
   "source": [
    "daily_sales = [150, 235, 189, 298, 176, 210, 165, 242, 195, 203]\n",
    "\n",
    "# 1. Find highest sale\n",
    "highest = max(daily_sales)\n",
    "print(f\"Highest sale: £{highest}\")\n",
    "\n",
    "# 2. Find lowest sale\n",
    "lowest = min(daily_sales)\n",
    "print(f\"Lowest sale: £{lowest}\")\n",
    "\n",
    "# 3. Calculate average\n",
    "average = sum(daily_sales) / len(daily_sales)\n",
    "print(f\"Average sale: £{average:.2f}\")\n",
    "\n",
    "# 4. Sort from highest to lowest\n",
    "sorted_sales = sorted(daily_sales, reverse=True)\n",
    "print(f\"Sorted sales: {sorted_sales}\")\n",
    "\n",
    "# 5. Count days with sales above £200\n",
    "count_above_200 = 0\n",
    "for sale in daily_sales:\n",
    "    if sale > 200:\n",
    "        count_above_200 += 1\n",
    "print(f\"Days with sales > £200: {count_above_200}\")"
   ]
  },
  {
   "cell_type": "markdown",
   "id": "cell-12",
   "metadata": {},
   "source": [
    "### Exercise 5: Inventory management"
   ]
  },
  {
   "cell_type": "code",
   "execution_count": null,
   "id": "cell-13",
   "metadata": {},
   "outputs": [],
   "source": [
    "products = [\"laptop\", \"mouse\", \"keyboard\", \"monitor\"]\n",
    "quantities = [25, 50, 20, 10]\n",
    "\n",
    "print(\"Initial inventory:\")\n",
    "for i in range(len(products)):\n",
    "    print(f\"{products[i]}: {quantities[i]}\")\n",
    "\n",
    "# 1. Add tablet with quantity 15\n",
    "products.append(\"tablet\")\n",
    "quantities.append(15)\n",
    "\n",
    "# 2. Remove mouse\n",
    "mouse_index = products.index(\"mouse\")\n",
    "products.remove(\"mouse\")\n",
    "quantities.pop(mouse_index)\n",
    "\n",
    "# 3. Update keyboard quantity to 30\n",
    "keyboard_index = products.index(\"keyboard\")\n",
    "quantities[keyboard_index] = 30\n",
    "\n",
    "# 4. Print products with less than 20 items\n",
    "print(\"\\nLow stock items (< 20):\")\n",
    "for i in range(len(products)):\n",
    "    if quantities[i] < 20:\n",
    "        print(f\"{products[i]}: {quantities[i]}\")\n",
    "\n",
    "print(\"\\nFinal inventory:\")\n",
    "for i in range(len(products)):\n",
    "    print(f\"{products[i]}: {quantities[i]}\")"
   ]
  },
  {
   "cell_type": "markdown",
   "id": "cell-14",
   "metadata": {},
   "source": [
    "### Exercise 6: Customer filtering"
   ]
  },
  {
   "cell_type": "code",
   "execution_count": null,
   "id": "cell-15",
   "metadata": {},
   "outputs": [],
   "source": [
    "customer_spending = [450, 1200, 750, 2100, 300, 950, 1500, 600, 1800, 400]\n",
    "\n",
    "# 1. High-value customers (> £1000)\n",
    "high_value = []\n",
    "for spending in customer_spending:\n",
    "    if spending > 1000:\n",
    "        high_value.append(spending)\n",
    "print(f\"High-value customers: {high_value}\")\n",
    "\n",
    "# 2. Count customers between £500-£1000\n",
    "mid_range_count = 0\n",
    "for spending in customer_spending:\n",
    "    if 500 <= spending <= 1000:\n",
    "        mid_range_count += 1\n",
    "print(f\"Customers spending £500-£1000: {mid_range_count}\")\n",
    "\n",
    "# 3. Total revenue\n",
    "total_revenue = sum(customer_spending)\n",
    "print(f\"Total revenue: £{total_revenue}\")"
   ]
  },
  {
   "cell_type": "markdown",
   "id": "cell-16",
   "metadata": {},
   "source": [
    "## Part 3: Dictionaries"
   ]
  },
  {
   "cell_type": "markdown",
   "id": "cell-17",
   "metadata": {},
   "source": [
    "### Exercise 7: Product catalogue"
   ]
  },
  {
   "cell_type": "code",
   "execution_count": null,
   "id": "cell-18",
   "metadata": {},
   "outputs": [],
   "source": [
    "# 1. Create dictionary with 3 products\n",
    "products = {\n",
    "    \"laptop\": 899,\n",
    "    \"mouse\": 25,\n",
    "    \"keyboard\": 75\n",
    "}\n",
    "print(f\"Initial products: {products}\")\n",
    "\n",
    "# 2. Add new product\n",
    "products[\"monitor\"] = 299\n",
    "print(f\"After adding monitor: {products}\")\n",
    "\n",
    "# 3. Update price\n",
    "products[\"laptop\"] = 799\n",
    "print(f\"After price update: {products}\")\n",
    "\n",
    "# 4. Remove product\n",
    "del products[\"mouse\"]\n",
    "print(f\"After removing mouse: {products}\")\n",
    "\n",
    "# 5. Calculate average price\n",
    "total_price = sum(products.values())\n",
    "average_price = total_price / len(products)\n",
    "print(f\"Average price: £{average_price:.2f}\")"
   ]
  },
  {
   "cell_type": "markdown",
   "id": "cell-19",
   "metadata": {},
   "source": [
    "### Exercise 8: Customer database"
   ]
  },
  {
   "cell_type": "code",
   "execution_count": null,
   "id": "cell-20",
   "metadata": {},
   "outputs": [],
   "source": [
    "# 1. Add 3 customers\n",
    "customers = {\n",
    "    \"cust001\": {\n",
    "        \"name\": \"Alice Johnson\",\n",
    "        \"email\": \"alice@example.com\",\n",
    "        \"total_purchases\": 2500\n",
    "    },\n",
    "    \"cust002\": {\n",
    "        \"name\": \"Bob Smith\",\n",
    "        \"email\": \"bob@example.com\",\n",
    "        \"total_purchases\": 1800\n",
    "    },\n",
    "    \"cust003\": {\n",
    "        \"name\": \"Charlie Brown\",\n",
    "        \"email\": \"charlie@example.com\",\n",
    "        \"total_purchases\": 3200\n",
    "    }\n",
    "}\n",
    "\n",
    "# 2. Print all customer names\n",
    "print(\"Customer names:\")\n",
    "for customer_id, info in customers.items():\n",
    "    print(f\"- {info['name']}\")\n",
    "\n",
    "# 3. Find customer with highest purchases\n",
    "highest_customer = None\n",
    "highest_amount = 0\n",
    "for customer_id, info in customers.items():\n",
    "    if info['total_purchases'] > highest_amount:\n",
    "        highest_amount = info['total_purchases']\n",
    "        highest_customer = info['name']\n",
    "print(f\"\\nHighest spender: {highest_customer} (£{highest_amount})\")\n",
    "\n",
    "# 4. Update email\n",
    "customers[\"cust002\"][\"email\"] = \"bob.smith@newcompany.com\"\n",
    "print(f\"\\nUpdated Bob's email: {customers['cust002']['email']}\")"
   ]
  },
  {
   "cell_type": "markdown",
   "id": "cell-21",
   "metadata": {},
   "source": [
    "### Exercise 9: Sales by region"
   ]
  },
  {
   "cell_type": "code",
   "execution_count": null,
   "id": "cell-22",
   "metadata": {},
   "outputs": [],
   "source": [
    "sales_by_region = {\n",
    "    \"London\": 75000,\n",
    "    \"Manchester\": 52000,\n",
    "    \"Birmingham\": 48000,\n",
    "    \"Leeds\": 41000\n",
    "}\n",
    "\n",
    "# 1. Region with highest sales\n",
    "best_region = max(sales_by_region, key=sales_by_region.get)\n",
    "print(f\"Highest sales region: {best_region} (£{sales_by_region[best_region]})\") \n",
    "\n",
    "# Alternative approach without using key parameter:\n",
    "highest_region = None\n",
    "highest_sales = 0\n",
    "for region, sales in sales_by_region.items():\n",
    "    if sales > highest_sales:\n",
    "        highest_sales = sales\n",
    "        highest_region = region\n",
    "print(f\"Alternative: {highest_region} (£{highest_sales})\")\n",
    "\n",
    "# 2. Total sales\n",
    "total_sales = sum(sales_by_region.values())\n",
    "print(f\"Total sales: £{total_sales}\")\n",
    "\n",
    "# 3. Add Scotland\n",
    "sales_by_region[\"Scotland\"] = 45000\n",
    "print(f\"Added Scotland: {sales_by_region}\")\n",
    "\n",
    "# 4. Average sales\n",
    "average_sales = sum(sales_by_region.values()) / len(sales_by_region)\n",
    "print(f\"Average sales per region: £{average_sales:.2f}\")"
   ]
  },
  {
   "cell_type": "markdown",
   "id": "cell-23",
   "metadata": {},
   "source": [
    "## Part 4: Functions"
   ]
  },
  {
   "cell_type": "markdown",
   "id": "cell-24",
   "metadata": {},
   "source": [
    "### Exercise 10: Discount calculator"
   ]
  },
  {
   "cell_type": "code",
   "execution_count": null,
   "id": "cell-25",
   "metadata": {},
   "outputs": [],
   "source": [
    "def calculate_discount(price, discount_percent):\n",
    "    \"\"\"Calculate final price after applying discount\"\"\"\n",
    "    # Handle edge case where discount > 100%\n",
    "    if discount_percent > 100:\n",
    "        return 0  # Item is free\n",
    "    \n",
    "    discount_amount = price * (discount_percent / 100)\n",
    "    final_price = price - discount_amount\n",
    "    return final_price\n",
    "\n",
    "# Test cases\n",
    "print(f\"£100 with 20% off: £{calculate_discount(100, 20):.2f}\")  # Should be 80\n",
    "print(f\"£50 with 10% off: £{calculate_discount(50, 10):.2f}\")   # Should be 45\n",
    "print(f\"£200 with 150% off: £{calculate_discount(200, 150):.2f}\") # Should be 0"
   ]
  },
  {
   "cell_type": "markdown",
   "id": "cell-26",
   "metadata": {},
   "source": [
    "### Exercise 11: Grade converter"
   ]
  },
  {
   "cell_type": "code",
   "execution_count": null,
   "id": "cell-27",
   "metadata": {},
   "outputs": [],
   "source": [
    "def percentage_to_grade(percentage):\n",
    "    \"\"\"Convert percentage to UK letter grade\"\"\"\n",
    "    if percentage >= 70:\n",
    "        return \"Distinction\"\n",
    "    elif percentage >= 60:\n",
    "        return \"Merit\"\n",
    "    elif percentage >= 50:\n",
    "        return \"Pass\"\n",
    "    elif percentage >= 40:\n",
    "        return \"Fail\"\n",
    "    else:\n",
    "        return \"Fail\"\n",
    "\n",
    "# Test the function\n",
    "test_scores = [85, 65, 55, 45, 35]\n",
    "for score in test_scores:\n",
    "    grade = percentage_to_grade(score)\n",
    "    print(f\"{score}%: {grade}\")"
   ]
  },
  {
   "cell_type": "markdown",
   "id": "cell-28",
   "metadata": {},
   "source": [
    "### Exercise 12: Statistics calculator"
   ]
  },
  {
   "cell_type": "code",
   "execution_count": null,
   "id": "cell-29",
   "metadata": {},
   "outputs": [],
   "source": [
    "def calculate_stats(numbers):\n",
    "    \"\"\"Calculate mean, total, and count of numbers\"\"\"\n",
    "    total = sum(numbers)\n",
    "    count = len(numbers)\n",
    "    mean = total / count\n",
    "    return mean, total, count\n",
    "\n",
    "# Test the function\n",
    "data = [10, 20, 30, 40, 50]\n",
    "mean, total, count = calculate_stats(data)\n",
    "print(f\"Mean: {mean}, Total: {total}, Count: {count}\")"
   ]
  },
  {
   "cell_type": "markdown",
   "id": "cell-30",
   "metadata": {},
   "source": [
    "## Part 5: File handling"
   ]
  },
  {
   "cell_type": "markdown",
   "id": "cell-31",
   "metadata": {},
   "source": [
    "### Exercise 13: Write customer data"
   ]
  },
  {
   "cell_type": "code",
   "execution_count": null,
   "id": "cell-32",
   "metadata": {},
   "outputs": [],
   "source": [
    "customers = {\n",
    "    \"Alice\": 1500,\n",
    "    \"Bob\": 2200,\n",
    "    \"Charlie\": 950\n",
    "}\n",
    "\n",
    "# Write to file\n",
    "with open(\"assets/data/customers.txt\", \"w\") as file:\n",
    "    for name, amount in customers.items():\n",
    "        file.write(f\"{name}: £{amount}\\n\")\n",
    "\n",
    "print(\"Customer data written to assets/data/customers.txt\")"
   ]
  },
  {
   "cell_type": "markdown",
   "id": "cell-33",
   "metadata": {},
   "source": [
    "### Exercise 14: Read and process file"
   ]
  },
  {
   "cell_type": "code",
   "execution_count": null,
   "id": "cell-34",
   "metadata": {},
   "outputs": [],
   "source": [
    "# Read from file\n",
    "print(\"Customer data:\")\n",
    "total_spending = 0\n",
    "highest_spender = \"\"\n",
    "highest_amount = 0\n",
    "\n",
    "with open(\"assets/data/customers.txt\", \"r\") as file:\n",
    "    for line in file:\n",
    "        # Print each line\n",
    "        print(line.strip())\n",
    "        \n",
    "        # Parse the line\n",
    "        parts = line.strip().split(\": £\")\n",
    "        if len(parts) == 2:\n",
    "            name = parts[0]\n",
    "            amount = int(parts[1])\n",
    "            \n",
    "            # Add to total\n",
    "            total_spending += amount\n",
    "            \n",
    "            # Check if highest\n",
    "            if amount > highest_amount:\n",
    "                highest_amount = amount\n",
    "                highest_spender = name\n",
    "\n",
    "print(f\"\\nTotal spending: £{total_spending}\")\n",
    "print(f\"Highest spender: {highest_spender} (£{highest_amount})\")"
   ]
  },
  {
   "cell_type": "markdown",
   "id": "cell-35",
   "metadata": {},
   "source": [
    "### Exercise 15: Inventory report"
   ]
  },
  {
   "cell_type": "code",
   "execution_count": null,
   "id": "cell-36",
   "metadata": {},
   "outputs": [],
   "source": [
    "inventory = [\n",
    "    {\"product\": \"Laptop\", \"quantity\": 25, \"price\": 899},\n",
    "    {\"product\": \"Mouse\", \"quantity\": 100, \"price\": 15},\n",
    "    {\"product\": \"Keyboard\", \"quantity\": 50, \"price\": 45}\n",
    "]\n",
    "\n",
    "# Write report\n",
    "with open(\"assets/data/inventory_report.txt\", \"w\") as file:\n",
    "    # Header\n",
    "    file.write(\"INVENTORY REPORT\\n\")\n",
    "    file.write(\"=\" * 40 + \"\\n\")\n",
    "    \n",
    "    # Product details\n",
    "    total_value = 0\n",
    "    for item in inventory:\n",
    "        value = item[\"quantity\"] * item[\"price\"]\n",
    "        total_value += value\n",
    "        file.write(f\"{item['product']}: {item['quantity']} units @ £{item['price']} = £{value}\\n\")\n",
    "    \n",
    "    # Total\n",
    "    file.write(\"=\" * 40 + \"\\n\")\n",
    "    file.write(f\"Total inventory value: £{total_value}\\n\")\n",
    "\n",
    "print(\"Report written to assets/data/inventory_report.txt\\n\")\n",
    "\n",
    "# Read and display report\n",
    "print(\"Report contents:\")\n",
    "with open(\"assets/data/inventory_report.txt\", \"r\") as file:\n",
    "    content = file.read()\n",
    "    print(content)"
   ]
  },
  {
   "cell_type": "markdown",
   "id": "cell-37",
   "metadata": {},
   "source": [
    "## Bonus challenge"
   ]
  },
  {
   "cell_type": "markdown",
   "id": "cell-38",
   "metadata": {},
   "source": [
    "### Simple business report generator"
   ]
  },
  {
   "cell_type": "code",
   "execution_count": null,
   "id": "cell-39",
   "metadata": {},
   "outputs": [],
   "source": [
    "sales_data = {\n",
    "    \"Widget A\": 15000,\n",
    "    \"Widget B\": 22000,\n",
    "    \"Widget C\": 8500,\n",
    "    \"Widget D\": 19000,\n",
    "    \"Widget E\": 11000\n",
    "}\n",
    "\n",
    "def generate_report(sales):\n",
    "    \"\"\"Generate a business report from sales data\"\"\"\n",
    "    # Calculate statistics\n",
    "    total_sales = sum(sales.values())\n",
    "    average_sales = total_sales / len(sales)\n",
    "    \n",
    "    # Find best and worst\n",
    "    best_product = max(sales, key=sales.get)\n",
    "    worst_product = min(sales, key=sales.get)\n",
    "    \n",
    "    # Write report to file\n",
    "    with open(\"assets/data/sales_report.txt\", \"w\") as file:\n",
    "        file.write(\"SALES PERFORMANCE REPORT\\n\")\n",
    "        file.write(\"=\" * 50 + \"\\n\\n\")\n",
    "        \n",
    "        file.write(\"Product Sales Summary:\\n\")\n",
    "        file.write(\"-\" * 30 + \"\\n\")\n",
    "        for product, amount in sales.items():\n",
    "            file.write(f\"{product}: £{amount:,}\\n\")\n",
    "        \n",
    "        file.write(\"\\n\" + \"=\" * 50 + \"\\n\")\n",
    "        file.write(\"Key Metrics:\\n\")\n",
    "        file.write(\"-\" * 30 + \"\\n\")\n",
    "        file.write(f\"Total Sales: £{total_sales:,}\\n\")\n",
    "        file.write(f\"Average Sales: £{average_sales:,.2f}\\n\")\n",
    "        file.write(f\"Best Performer: {best_product} (£{sales[best_product]:,})\\n\")\n",
    "        file.write(f\"Worst Performer: {worst_product} (£{sales[worst_product]:,})\\n\")\n",
    "        \n",
    "        file.write(\"\\n\" + \"=\" * 50 + \"\\n\")\n",
    "        file.write(\"Report generated successfully\\n\")\n",
    "    \n",
    "    # Read and display report\n",
    "    print(\"Generated Sales Report:\\n\")\n",
    "    with open(\"assets/data/sales_report.txt\", \"r\") as file:\n",
    "        print(file.read())\n",
    "\n",
    "# Generate and display the report\n",
    "generate_report(sales_data)"
   ]
  },
  {
   "cell_type": "markdown",
   "id": "cell-40",
   "metadata": {},
   "source": [
    "## Key takeaways\n",
    "\n",
    "### String manipulation\n",
    "- Use `.lower()` for case-insensitive comparisons\n",
    "- `.split()` is powerful for parsing structured text\n",
    "- `.strip()` removes unwanted whitespace\n",
    "- `.title()` capitalises words properly\n",
    "\n",
    "### Lists\n",
    "- `max()`, `min()`, and `sum()` are built-in functions\n",
    "- Use `sorted()` to create a new sorted list\n",
    "- Use `.sort()` to sort in-place\n",
    "- Loop with `range(len(list))` when you need indices\n",
    "\n",
    "### Dictionaries\n",
    "- Access values with `dict[key]` or `dict.get(key)`\n",
    "- Use `.items()` to iterate over key-value pairs\n",
    "- Use `.values()` to work with just the values\n",
    "- Nested dictionaries are powerful for structured data\n",
    "\n",
    "### Functions\n",
    "- Functions make code reusable and testable\n",
    "- Return multiple values with comma separation\n",
    "- Include docstrings to document your functions\n",
    "- Handle edge cases (like discount > 100%)\n",
    "\n",
    "### File handling\n",
    "- Always use `with open()` for automatic file closing\n",
    "- Use \"w\" mode for writing, \"r\" for reading\n",
    "- Remember to add `\\n` for line breaks when writing\n",
    "- `.strip()` removes newlines when reading\n",
    "\n",
    "### Common patterns\n",
    "- Accumulator pattern: Start with 0, add in loop\n",
    "- Finding maximum: Track best so far, update if better found\n",
    "- Filtering: Create new list, append matching items\n",
    "- Parsing text: Split, then process parts"
   ]
  }
 ],
 "metadata": {
  "kernelspec": {
   "display_name": "default",
   "language": "python",
   "name": "python3"
  },
  "language_info": {
   "codemirror_mode": {
    "name": "ipython",
    "version": 3
   },
   "file_extension": ".py",
   "mimetype": "text/x-python",
   "name": "python",
   "nbconvert_exporter": "python",
   "pygments_lexer": "ipython3",
   "version": "3.12.4"
  }
 },
 "nbformat": 4,
 "nbformat_minor": 5
}
