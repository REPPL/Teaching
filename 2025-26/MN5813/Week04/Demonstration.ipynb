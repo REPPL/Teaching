{
 "cells": [
  {
   "cell_type": "markdown",
   "metadata": {},
   "source": [
    "# Introduction to Pandas (Demonstration)"
   ]
  },
  {
   "cell_type": "markdown",
   "metadata": {},
   "source": [
    "_This notebook introduces Pandas and is designed for beginners who have never used Pandas before._\n",
    "\n",
    "Note: This Jupyter Notebook was originally compiled by Alex Reppel (AR) based on conversations with [ClaudeAI](https://claude.ai/) *(version 3.5 Sonnet)*. For this year's materials, further revisions were made using [Claude Code](https://www.anthropic.com/claude-code) *(Opus 4.1)*, including updated documentation and git commit messages.\n",
    "\n",
    "Overview:\n",
    "\n",
    "1. What is Pandas and why it's useful\n",
    "2. Creating and manipulating Pandas `Series`\n",
    "3. Working with Pandas `DataFrames`\n",
    "4. Reading and writing data from various sources\n",
    "5. Basic data manipulation and analysis techniques\n",
    "6. Data visualisation with Pandas"
   ]
  },
  {
   "cell_type": "markdown",
   "metadata": {},
   "source": [
    "## Why Pandas is useful"
   ]
  },
  {
   "cell_type": "markdown",
   "metadata": {},
   "source": [
    "[Pandas](https://pandas.pydata.org/) is an open-source Python library that provides easy-to-use data structures and data analysis tools. It's built on top of [NumPy](https://numpy.org/) (which we won't cover) and is an essential tool for data science, data analysis, and machine learning tasks; the latter of which we also won't be covering.\n",
    "\n",
    "Key features of Pandas:\n",
    "\n",
    "- Fast and efficient `DataFrame` object for data manipulation\n",
    "- Ability to handle large datasets\n",
    "- Tools for reading and writing data between in-memory data structures and different file formats\n",
    "- Intelligent data alignment and integrated handling of missing data\n",
    "- Powerful `group by` functionality for performing split-apply-combine operations on datasets\n",
    "- Easy data merging and joining\n",
    "- Time series functionality"
   ]
  },
  {
   "cell_type": "markdown",
   "metadata": {},
   "source": [
    "## Resources"
   ]
  },
  {
   "cell_type": "markdown",
   "metadata": {},
   "source": "1. McKinney, Wes (2013). *Python for Data Analysis.* Sebastopol, CA: O'Reilly. Available at: https://wesmckinney.com/book/.\n2. Schaefer, Corey (2020). *Python Pandas Tutorial.* YouTube. Available at: https://youtu.be/ZyhVh-qRZPA."
  },
  {
   "cell_type": "markdown",
   "metadata": {},
   "source": [
    "## Setup"
   ]
  },
  {
   "cell_type": "code",
   "execution_count": null,
   "metadata": {},
   "outputs": [],
   "source": [
    "import pandas as pd\n",
    "import numpy as np\n",
    "\n",
    "print(f\"Pandas version: {pd.__version__}\")\n",
    "print(f\"NumPy version: {np.__version__}\")"
   ]
  },
  {
   "cell_type": "markdown",
   "metadata": {},
   "source": [
    "---\n",
    "\n",
    "## 🎯 CORE CONTENT (Essential for Exercises)\n",
    "\n",
    "**Estimated time**: 50-60 minutes\n",
    "\n",
    "The sections below cover essential Pandas techniques you'll need for the exercises:\n",
    "- Creating and working with Series and DataFrames\n",
    "- Reading and writing CSV files\n",
    "- Basic data manipulation (filtering, sorting, grouping)\n",
    "- Handling missing data\n",
    "- Merging DataFrames\n",
    "\n",
    "Work through these sections carefully and experiment with the code.\n",
    "\n",
    "---"
   ]
  },
  {
   "cell_type": "markdown",
   "metadata": {},
   "source": [
    "## Creating and manipulating Pandas Series\n",
    "\n",
    "A Pandas Series is a one-dimensional labeled array that can hold data of any type (integers, floats, strings, etc.). It's similar to a column in a spreadsheet or a single column of a DataFrame."
   ]
  },
  {
   "cell_type": "markdown",
   "metadata": {},
   "source": [
    "Create a Series from a list:"
   ]
  },
  {
   "cell_type": "code",
   "execution_count": null,
   "metadata": {},
   "outputs": [],
   "source": [
    "s = pd.Series([1, 3, 5, np.nan, 6, 8])\n",
    "print(s)"
   ]
  },
  {
   "cell_type": "markdown",
   "metadata": {},
   "source": [
    "Or ..."
   ]
  },
  {
   "cell_type": "code",
   "execution_count": null,
   "metadata": {},
   "outputs": [],
   "source": [
    "my_list = [1, 3, 5, np.nan, 6, 8]\n",
    "s = pd.Series(my_list)\n",
    "print(s)"
   ]
  },
  {
   "cell_type": "markdown",
   "metadata": {},
   "source": [
    "You can also create a Series with custom index labels:"
   ]
  },
  {
   "cell_type": "code",
   "execution_count": null,
   "metadata": {},
   "outputs": [],
   "source": [
    "s = pd.Series([1, 3, 5, 7], index=[\"a\", \"b\", \"c\", \"d\"])\n",
    "print(s)"
   ]
  },
  {
   "cell_type": "markdown",
   "metadata": {},
   "source": [
    "You can access elements of a Series using index labels or integer location:"
   ]
  },
  {
   "cell_type": "code",
   "execution_count": null,
   "metadata": {},
   "outputs": [],
   "source": [
    "print(s[\"b\"])  # Access by label\n",
    "print(s[0])    # Access by integer location\n",
    "print(s[1:2])  # Slicing"
   ]
  },
  {
   "cell_type": "markdown",
   "metadata": {},
   "source": [
    "Series support various operations and methods. Here are a few examples:"
   ]
  },
  {
   "cell_type": "code",
   "execution_count": null,
   "metadata": {},
   "outputs": [],
   "source": [
    "print(s * 2)  # Multiply all elements by 2\n",
    "print(s.mean())  # Calculate mean\n",
    "print(s.max())   # Find maximum value\n",
    "print(s.idxmax())  # Find index of maximum value"
   ]
  },
  {
   "cell_type": "markdown",
   "metadata": {},
   "source": [
    "## Working with Pandas DataFrames\n",
    "\n",
    "A DataFrame is a 2-dimensional labeled data structure with columns of potentially different types. You can think of it like a spreadsheet or a SQL table. It's the most commonly used Pandas object."
   ]
  },
  {
   "cell_type": "markdown",
   "metadata": {},
   "source": [
    "### Create a DataFrame"
   ]
  },
  {
   "cell_type": "markdown",
   "metadata": {},
   "source": [
    "Creating a DataFrame from a dictionary:"
   ]
  },
  {
   "cell_type": "code",
   "execution_count": null,
   "metadata": {},
   "outputs": [],
   "source": [
    "data = {\n",
    "    \"Name\": [\"Alice\", \"Bob\", \"Carol\", \"Dan\"],\n",
    "    \"Age\": [28, 34, 29, 32],\n",
    "    \"City\": [\"New York\", \"Paris\", \"Berlin\", \"London\"]\n",
    "}\n",
    "\n",
    "df = pd.DataFrame(data)\n",
    "print(df)"
   ]
  },
  {
   "cell_type": "markdown",
   "metadata": {},
   "source": [
    "You can view basic information about your DataFrame using various methods:"
   ]
  },
  {
   "cell_type": "code",
   "execution_count": null,
   "metadata": {},
   "outputs": [],
   "source": [
    "print(df.head())  # View first 5 rows\n",
    "print(df.info())  # View summary of DataFrame\n",
    "print(df.describe())  # View statistical summary of numerical columns"
   ]
  },
  {
   "cell_type": "markdown",
   "metadata": {},
   "source": [
    "### Accessing data in a DataFrame"
   ]
  },
  {
   "cell_type": "code",
   "execution_count": null,
   "metadata": {},
   "outputs": [],
   "source": [
    "print(df[\"Name\"])  # Access a column\n",
    "print(df.loc[1])   # Access a row by label\n",
    "print(df.iloc[1])  # Access a row by integer location\n",
    "print(df.loc[1, \"Name\"])  # Access a specific value"
   ]
  },
  {
   "cell_type": "markdown",
   "metadata": {},
   "source": [
    "### Manipulating a DataFrame"
   ]
  },
  {
   "cell_type": "markdown",
   "metadata": {},
   "source": [
    "#### Adding a new column to the DataFrame"
   ]
  },
  {
   "cell_type": "code",
   "execution_count": null,
   "metadata": {},
   "outputs": [],
   "source": [
    "df[\"Country\"] = [\"USA\", \"France\", \"Germany\", \"UK\"]\n",
    "print(df)"
   ]
  },
  {
   "cell_type": "markdown",
   "metadata": {},
   "source": [
    "Filter rows where `Age` is greater than `30`:"
   ]
  },
  {
   "cell_type": "code",
   "execution_count": null,
   "metadata": {},
   "outputs": [],
   "source": [
    "print(df[df[\"Age\"] >= 33])"
   ]
  },
  {
   "cell_type": "markdown",
   "metadata": {},
   "source": [
    "Filter rows where `City` is `Paris` or `London`:"
   ]
  },
  {
   "cell_type": "code",
   "execution_count": null,
   "metadata": {},
   "outputs": [],
   "source": [
    "print(df[df[\"City\"].isin([\"Paris\", \"London\"])])"
   ]
  },
  {
   "cell_type": "markdown",
   "metadata": {},
   "source": [
    "#### Sorting a DataFrame"
   ]
  },
  {
   "cell_type": "markdown",
   "metadata": {},
   "source": [
    "Sort by `Age` in descending order:"
   ]
  },
  {
   "cell_type": "code",
   "execution_count": null,
   "metadata": {},
   "outputs": [],
   "source": [
    "print(df.sort_values(\"Age\", ascending=False))"
   ]
  },
  {
   "cell_type": "markdown",
   "metadata": {},
   "source": [
    "#### Handling duplicate data"
   ]
  },
  {
   "cell_type": "markdown",
   "metadata": {},
   "source": [
    "Check for duplicate rows:"
   ]
  },
  {
   "cell_type": "code",
   "execution_count": null,
   "metadata": {},
   "outputs": [],
   "source": [
    "print(df.duplicated().sum())"
   ]
  },
  {
   "cell_type": "markdown",
   "metadata": {},
   "source": [
    "#### Filtering data in a DataFrame"
   ]
  },
  {
   "cell_type": "markdown",
   "metadata": {},
   "source": [
    "Remove duplicate rows:"
   ]
  },
  {
   "cell_type": "code",
   "execution_count": null,
   "metadata": {},
   "outputs": [],
   "source": [
    "df_no_duplicates = df.drop_duplicates()\n",
    "print(df_no_duplicates)"
   ]
  },
  {
   "cell_type": "markdown",
   "metadata": {},
   "source": [
    "### Functions and conditions"
   ]
  },
  {
   "cell_type": "markdown",
   "metadata": {},
   "source": [
    "#### Applying functions to DataFrame columns"
   ]
  },
  {
   "cell_type": "markdown",
   "metadata": {},
   "source": [
    "Apply a function to a column (here: `len`):"
   ]
  },
  {
   "cell_type": "code",
   "execution_count": null,
   "metadata": {},
   "outputs": [],
   "source": [
    "df[\"Name_Length\"] = df[\"Name\"].apply(len)\n",
    "print(df)"
   ]
  },
  {
   "cell_type": "markdown",
   "metadata": {},
   "source": [
    "#### Creating new columns based on conditions"
   ]
  },
  {
   "cell_type": "code",
   "execution_count": null,
   "metadata": {},
   "outputs": [],
   "source": [
    "df[\"Age_Group\"] = pd.cut(df[\"Age\"], bins=[0, 30, 40, 100], labels=[\"Young\", \"Middle\", \"Senior\"])\n",
    "print(df)"
   ]
  },
  {
   "cell_type": "markdown",
   "metadata": {},
   "source": [
    "Getting help for `pd.cut`:"
   ]
  },
  {
   "cell_type": "code",
   "execution_count": null,
   "metadata": {},
   "outputs": [],
   "source": [
    "# ?pd.cut"
   ]
  },
  {
   "cell_type": "markdown",
   "metadata": {},
   "source": [
    "### Basic statistical operations"
   ]
  },
  {
   "cell_type": "code",
   "execution_count": null,
   "metadata": {},
   "outputs": [],
   "source": [
    "print(df[\"Age\"].describe())"
   ]
  },
  {
   "cell_type": "markdown",
   "metadata": {},
   "source": [
    "## Reading and writing data\n",
    "\n",
    "Pandas provides powerful tools for reading and writing data in various formats.\n",
    "\n",
    "Below are some of the most common methods for reading and writing data with Pandas (except SQL, which we won't cover). Have a look at the official [Pandas](https://pandas.pydata.org/) documentation for the most up-to-date information on data input and output operations."
   ]
  },
  {
   "cell_type": "markdown",
   "metadata": {},
   "source": [
    "### Generating example files"
   ]
  },
  {
   "cell_type": "markdown",
   "metadata": {},
   "source": [
    "Creating `people.csv`."
   ]
  },
  {
   "cell_type": "code",
   "execution_count": null,
   "metadata": {},
   "outputs": [],
   "source": [
    "import os\n",
    "import pandas as pd\n",
    "\n",
    "data = {\n",
    "    \"Name\": [\"Alice\", \"Bob\", \"Charlie\", \"David\"],\n",
    "    \"Age\": [25, 30, 35, 28],\n",
    "    \"City\": [\"New York\", \"San Francisco\", \"London\", \"Sydney\"],\n",
    "    \"Country\": [\"USA\", \"USA\", \"UK\", \"Australia\"]\n",
    "}\n",
    "\n",
    "df = pd.DataFrame(data)\n",
    "\n",
    "output_dir = \"assets/example_data\"\n",
    "os.makedirs(output_dir, exist_ok = True)\n",
    "\n",
    "df.to_csv(f\"{output_dir}/people.csv\", index=False)\n",
    "\n",
    "print(f\"{output_dir}/people.csv has been created.\")"
   ]
  },
  {
   "cell_type": "markdown",
   "metadata": {},
   "source": [
    "Creating `data.csv`."
   ]
  },
  {
   "cell_type": "code",
   "execution_count": null,
   "metadata": {},
   "outputs": [],
   "source": [
    "import pandas as pd\n",
    "import numpy as np\n",
    "\n",
    "np.random.seed(42)  # for reproducibility\n",
    "\n",
    "dates = pd.date_range(start=\"2023-01-01\", periods=100, freq=\"D\")\n",
    "\n",
    "df = pd.DataFrame({\n",
    "    \"date\": dates,\n",
    "    \"value1\": np.random.randn(100),\n",
    "    \"value2\": np.random.randn(100),\n",
    "    \"category\": np.random.choice([\"A\", \"B\", \"C\"], 100)\n",
    "})\n",
    "\n",
    "output_dir = \"assets/example_data\"\n",
    "os.makedirs(output_dir, exist_ok = True)\n",
    "\n",
    "df.to_csv(f\"{output_dir}/data.csv\", index=False)\n",
    "\n",
    "print(f\"{output_dir}/data.csv has been created.\")"
   ]
  },
  {
   "cell_type": "markdown",
   "metadata": {},
   "source": [
    "Creating `data.json`."
   ]
  },
  {
   "cell_type": "code",
   "execution_count": null,
   "metadata": {},
   "outputs": [],
   "source": [
    "import pandas as pd\n",
    "import numpy as np\n",
    "import json\n",
    "\n",
    "np.random.seed(42)  # for reproducibility\n",
    "\n",
    "data = {\n",
    "    \"name\": [\"Alice\", \"Bob\", \"Carol\", \"Dan\"],\n",
    "    \"age\": np.random.randint(20, 60, 4),\n",
    "    \"city\": [\"New York\", \"London\", \"Paris\", \"Tokyo\"],\n",
    "    \"salary\": np.random.randint(30000, 100000, 4)\n",
    "}\n",
    "\n",
    "df = pd.DataFrame(data)\n",
    "\n",
    "output_dir = \"assets/example_data\"\n",
    "os.makedirs(output_dir, exist_ok = True)\n",
    "\n",
    "df.to_json(f\"{output_dir}/data.json\", orient=\"records\")\n",
    "\n",
    "print(f\"{output_dir}/data.json has been created.\")"
   ]
  },
  {
   "cell_type": "markdown",
   "metadata": {},
   "source": [
    "Creating `data.xlsx`."
   ]
  },
  {
   "cell_type": "code",
   "execution_count": null,
   "metadata": {},
   "outputs": [],
   "source": [
    "import pandas as pd\n",
    "import numpy as np\n",
    "\n",
    "np.random.seed(42)  # for reproducibility\n",
    "\n",
    "# Create sample data\n",
    "data = {\n",
    "    \"Date\": pd.date_range(start=\"2023-01-01\", periods=100),\n",
    "    \"Sales\": np.random.randint(100, 1000, 100),\n",
    "    \"Expenses\": np.random.randint(50, 500, 100),\n",
    "    \"Category\": np.random.choice([\"A\", \"B\", \"C\"], 100)\n",
    "}\n",
    "\n",
    "df = pd.DataFrame(data)\n",
    "\n",
    "output_dir = \"assets/example_data\"\n",
    "os.makedirs(output_dir, exist_ok = True)\n",
    "\n",
    "# Create Excel writer object\n",
    "with pd.ExcelWriter(f\"{output_dir}/data.xlsx\") as writer:\n",
    "    df.to_excel(writer, sheet_name=\"Sheet1\", index=False)\n",
    "\n",
    "print(f\"{output_dir}/data.xlsx has been created.\")"
   ]
  },
  {
   "cell_type": "markdown",
   "metadata": {},
   "source": [
    "### Reading CSV files\n",
    "\n",
    "Pandas makes it easy to read CSV (Comma Separated Values) files:"
   ]
  },
  {
   "cell_type": "code",
   "execution_count": null,
   "metadata": {},
   "outputs": [],
   "source": [
    "# Assuming you have a file named 'assets/data.csv' in your working directory\n",
    "df = pd.read_csv(\"assets/example_data/data.csv\")\n",
    "print(df.head())"
   ]
  },
  {
   "cell_type": "markdown",
   "metadata": {},
   "source": [
    "### Writing to CSV files\n",
    "\n",
    "You can also easily write DataFrames to CSV files:"
   ]
  },
  {
   "cell_type": "markdown",
   "metadata": {},
   "source": [
    "---\n",
    "\n",
    "## 📚 SUPPLEMENTARY CONTENT (Additional File Formats)\n",
    "\n",
    "**Estimated time**: 15-25 minutes\n",
    "\n",
    "The sections below cover additional file formats and visualization techniques:\n",
    "- Reading and writing Excel files\n",
    "- Reading and writing JSON files\n",
    "- Reading HTML tables\n",
    "- Basic data visualization\n",
    "\n",
    "These topics are useful but **not required for the exercises**. Work through CSV files first, then explore these formats when needed for your projects.\n",
    "\n",
    "---"
   ]
  },
  {
   "cell_type": "code",
   "execution_count": null,
   "metadata": {},
   "outputs": [],
   "source": [
    "df.to_csv(\"assets/example_data/data.csv\", index=False)\n",
    "print(\"assets/example_data/data.csv has been created.\")"
   ]
  },
  {
   "cell_type": "markdown",
   "metadata": {},
   "source": [
    "### Reading Excel files\n",
    "\n",
    "Pandas can also read Excel files. Note that you might need to install the `openpyxl` library for this functionality."
   ]
  },
  {
   "cell_type": "code",
   "execution_count": null,
   "metadata": {},
   "outputs": [],
   "source": [
    "# Assuming you have a file named 'assets/data.xlsx' in your working directory\n",
    "df_excel = pd.read_excel(\"assets/example_data/data.xlsx\", sheet_name=\"Sheet1\")\n",
    "print(df_excel.head())"
   ]
  },
  {
   "cell_type": "markdown",
   "metadata": {},
   "source": [
    "### Writing to Excel files"
   ]
  },
  {
   "cell_type": "code",
   "execution_count": null,
   "metadata": {},
   "outputs": [],
   "source": "output_dir = \"assets/example_data\"\nos.makedirs(output_dir, exist_ok=True)\ndf.to_excel(f\"{output_dir}/data.xlsx\", sheet_name=\"Sheet1\", index=False)\nprint(f\"Data written to '{output_dir}/data.xlsx'\")"
  },
  {
   "cell_type": "markdown",
   "metadata": {},
   "source": [
    "### Reading JSON files\n",
    "\n",
    "JSON is a popular format for storing and exchanging data. Pandas can easily read JSON files:"
   ]
  },
  {
   "cell_type": "code",
   "execution_count": null,
   "metadata": {},
   "outputs": [],
   "source": [
    "# Assuming you have a file named 'assets/data.json' in your working directory\n",
    "df_json = pd.read_json(\"assets/example_data/data.json\")\n",
    "print(df_json.head())"
   ]
  },
  {
   "cell_type": "markdown",
   "metadata": {},
   "source": [
    "### Writing to JSON files"
   ]
  },
  {
   "cell_type": "code",
   "execution_count": null,
   "metadata": {},
   "outputs": [],
   "source": [
    "output_dir = \"assets/example_data\"\n",
    "os.makedirs(output_dir, exist_ok=True)\n",
    "df.to_json(f\"{output_dir}/data.json\", orient=\"records\")\n",
    "print(f\"Data written to '{output_dir}/data.json'\")"
   ]
  },
  {
   "cell_type": "markdown",
   "metadata": {},
   "source": [
    "### Reading HTML tables\n",
    "\n",
    "Pandas can read HTML tables from web pages. This is useful for web scraping tasks."
   ]
  },
  {
   "cell_type": "code",
   "execution_count": null,
   "metadata": {},
   "outputs": [],
   "source": [
    "# url = \"https://en.wikipedia.org/wiki/List_of_countries_by_population_(United_Nations)\"\n",
    "# tables = pd.read_html(url)\n",
    "# df_html = tables[0]  # Select the first table from the page\n",
    "# print(df_html.head())"
   ]
  },
  {
   "cell_type": "markdown",
   "metadata": {},
   "source": [
    "## Basic data manipulation and analysis techniques"
   ]
  },
  {
   "cell_type": "markdown",
   "metadata": {},
   "source": [
    "Now that we know how to read and write data, let's look at some basic data manipulation and analysis techniques affored by Pandas."
   ]
  },
  {
   "cell_type": "markdown",
   "metadata": {},
   "source": [
    "### Handling missing data"
   ]
  },
  {
   "cell_type": "markdown",
   "metadata": {},
   "source": [
    "Create a DataFrame with missing values:"
   ]
  },
  {
   "cell_type": "code",
   "execution_count": null,
   "metadata": {},
   "outputs": [],
   "source": [
    "df = pd.DataFrame({\n",
    "    \"A\": [1, 2, np.nan, 4],\n",
    "    \"B\": [5, np.nan, np.nan, 8],\n",
    "    \"C\": [9, 10, 11, 12]\n",
    "})\n",
    "\n",
    "print(\"Original DataFrame:\")\n",
    "print(df)"
   ]
  },
  {
   "cell_type": "markdown",
   "metadata": {},
   "source": [
    "Drop rows with any missing values:"
   ]
  },
  {
   "cell_type": "code",
   "execution_count": null,
   "metadata": {},
   "outputs": [],
   "source": [
    "print(\"\\nAfter dropping rows with missing values:\")\n",
    "print(df.dropna())"
   ]
  },
  {
   "cell_type": "markdown",
   "metadata": {},
   "source": [
    "Fill missing values with a specific value:"
   ]
  },
  {
   "cell_type": "code",
   "execution_count": null,
   "metadata": {},
   "outputs": [],
   "source": [
    "print(\"\\nAfter filling missing values with 0:\")\n",
    "print(df.fillna(0))"
   ]
  },
  {
   "cell_type": "markdown",
   "metadata": {},
   "source": [
    "Fill missing values with the mean of the column:"
   ]
  },
  {
   "cell_type": "code",
   "execution_count": null,
   "metadata": {},
   "outputs": [],
   "source": [
    "print(\"\\nAfter filling missing values with column mean:\")\n",
    "print(df.fillna(df.mean()))"
   ]
  },
  {
   "cell_type": "markdown",
   "metadata": {},
   "source": [
    "### Grouping and aggregating data"
   ]
  },
  {
   "cell_type": "markdown",
   "metadata": {},
   "source": "Useful resource(s):\n\n- https://www.machinelearningplus.com/pandas/pandas-groupby-examples/\n- McKinney, Wes (2013). *Python for Data Analysis.* Sebastopol, CA: O'Reilly. *(pp. 249-258)*. Available at: https://wesmckinney.com/book/."
  },
  {
   "cell_type": "markdown",
   "metadata": {},
   "source": [
    "Create a sample DataFrame:"
   ]
  },
  {
   "cell_type": "code",
   "execution_count": null,
   "metadata": {},
   "outputs": [],
   "source": [
    "df = pd.DataFrame({\n",
    "    \"Category\": [\"A\", \"B\", \"A\", \"B\", \"A\", \"B\"],\n",
    "    \"Value\": [10, 20, 30, 40, 50, 60]\n",
    "})\n",
    "\n",
    "print(\"Original DataFrame:\")\n",
    "print(df)"
   ]
  },
  {
   "cell_type": "markdown",
   "metadata": {},
   "source": [
    "Group by `Category` and calculate `mean`:"
   ]
  },
  {
   "cell_type": "code",
   "execution_count": null,
   "metadata": {},
   "outputs": [],
   "source": [
    "print(\"\\nMean Value by Category:\")\n",
    "print(df.groupby(\"Category\")[\"Value\"].mean())"
   ]
  },
  {
   "cell_type": "markdown",
   "metadata": {},
   "source": [
    "Group by `Category` and calculate multiple aggregations:\n",
    "\n",
    "- `mean`\n",
    "- `sum`\n",
    "- `count`"
   ]
  },
  {
   "cell_type": "code",
   "execution_count": null,
   "metadata": {},
   "outputs": [],
   "source": [
    "print(\"\\nMultiple aggregations by Category:\")\n",
    "print(df.groupby(\"Category\").agg({\"Value\": [\"mean\", \"sum\", \"count\"]}))"
   ]
  },
  {
   "cell_type": "markdown",
   "metadata": {},
   "source": [
    "### Merging and joining DataFrames"
   ]
  },
  {
   "cell_type": "markdown",
   "metadata": {},
   "source": [
    "Create two sample DataFrames:"
   ]
  },
  {
   "cell_type": "code",
   "execution_count": null,
   "metadata": {},
   "outputs": [],
   "source": [
    "df1 = pd.DataFrame({\"key\": [\"A\", \"B\", \"C\", \"D\"], \"value\": [1, 2, 3, 4]})\n",
    "df2 = pd.DataFrame({\"key\": [\"B\", \"D\", \"E\", \"F\"], \"value\": [5, 6, 7, 8]})\n",
    "\n",
    "print(\"DataFrame 1:\")\n",
    "print(df1)\n",
    "\n",
    "print(\"\\nDataFrame 2:\")\n",
    "print(df2)"
   ]
  },
  {
   "cell_type": "markdown",
   "metadata": {},
   "source": [
    "Join operations are fundamental for combining data from different DataFrames, allowing you to merge data based on common columns or indices."
   ]
  },
  {
   "cell_type": "markdown",
   "metadata": {},
   "source": [
    "![](figure/pandas-joins-diagram.svg)"
   ]
  },
  {
   "cell_type": "markdown",
   "metadata": {},
   "source": [
    "Inner join: Returns only the rows that have matching values in both DataFrames.\n",
    "\n",
    "- `pd.merge(df1, df2, on='key_column', how='inner')`\n",
    "- `df1.merge(df2, on='key_column', how='inner')`"
   ]
  },
  {
   "cell_type": "code",
   "execution_count": null,
   "metadata": {},
   "outputs": [],
   "source": [
    "print(\"\\nInner Join:\")\n",
    "print(pd.merge(df1, df2, on=\"key\", how=\"inner\"))"
   ]
  },
  {
   "cell_type": "markdown",
   "metadata": {},
   "source": [
    "Outer join: Returns all rows from both DataFrames, matching where possible and filling with NaN where there is no match.\n",
    "\n",
    "- `pd.merge(df1, df2, on='key_column', how='outer')`\n",
    "- `df1.merge(df2, on='key_column', how='outer')`"
   ]
  },
  {
   "cell_type": "code",
   "execution_count": null,
   "metadata": {},
   "outputs": [],
   "source": [
    "print(\"\\nOuter Join:\")\n",
    "print(pd.merge(df1, df2, on=\"key\", how=\"outer\"))"
   ]
  },
  {
   "cell_type": "markdown",
   "metadata": {},
   "source": [
    "Left join: Returns all rows from the left DataFrame and matched rows from the right DataFrame.\n",
    "Fills with `NaN` for unmatched rows from the right DataFrame.\n",
    "\n",
    "- `pd.merge(df1, df2, on='key_column', how='left')`\n",
    "- `df1.merge(df2, on='key_column', how='left')`"
   ]
  },
  {
   "cell_type": "code",
   "execution_count": null,
   "metadata": {},
   "outputs": [],
   "source": [
    "print(\"\\nLeft Join:\")\n",
    "print(pd.merge(df1, df2, on=\"key\", how=\"left\"))"
   ]
  },
  {
   "cell_type": "markdown",
   "metadata": {},
   "source": [
    "## Data visualisation\n",
    "\n",
    "Pandas provides built-in plotting functionality based on [Matplotlib](https://matplotlib.org/). This allows for quick and easy visualisation of your data directly from DataFrames or Series."
   ]
  },
  {
   "cell_type": "code",
   "execution_count": null,
   "metadata": {},
   "outputs": [],
   "source": [
    "import pandas as pd\n",
    "import numpy as np\n",
    "import matplotlib.pyplot as plt"
   ]
  },
  {
   "cell_type": "code",
   "execution_count": null,
   "metadata": {},
   "outputs": [],
   "source": [
    "# Set the style for better-looking plots\n",
    "plt.style.use(\"seaborn-v0_8-notebook\")\n",
    "\n",
    "# Create a sample DataFrame\n",
    "dates = pd.date_range(\"20230101\", periods=6)\n",
    "df = pd.DataFrame(np.random.randn(6, 4), index=dates, columns=list(\"ABCD\"))\n",
    "print(df)"
   ]
  },
  {
   "cell_type": "markdown",
   "metadata": {},
   "source": [
    "### Line Plot"
   ]
  },
  {
   "cell_type": "code",
   "execution_count": null,
   "metadata": {},
   "outputs": [],
   "source": [
    "df.plot(figsize=(10, 6))\n",
    "plt.title(\"Line Plot of DataFrame\")\n",
    "plt.xlabel(\"Date\")\n",
    "plt.ylabel(\"Value\")\n",
    "plt.show()"
   ]
  },
  {
   "cell_type": "markdown",
   "metadata": {},
   "source": [
    "### Bar Plot"
   ]
  },
  {
   "cell_type": "code",
   "execution_count": null,
   "metadata": {},
   "outputs": [],
   "source": [
    "df.iloc[0].plot(kind=\"bar\", figsize=(10, 6))\n",
    "plt.title(\"Bar Plot of First Row\")\n",
    "plt.xlabel(\"Column\")\n",
    "plt.ylabel(\"Value\")\n",
    "plt.show()"
   ]
  },
  {
   "cell_type": "markdown",
   "metadata": {},
   "source": [
    "### Histogram"
   ]
  },
  {
   "cell_type": "code",
   "execution_count": null,
   "metadata": {},
   "outputs": [],
   "source": [
    "df[\"A\"].hist(bins=20, figsize=(10, 6))\n",
    "plt.title(\"Histogram of Column A\")\n",
    "plt.xlabel(\"Value\")\n",
    "plt.ylabel(\"Frequency\")\n",
    "plt.show()"
   ]
  },
  {
   "cell_type": "markdown",
   "metadata": {},
   "source": [
    "### Scatter Plot"
   ]
  },
  {
   "cell_type": "code",
   "execution_count": null,
   "metadata": {},
   "outputs": [],
   "source": [
    "df.plot.scatter(x=\"A\", y=\"B\", figsize=(10, 6))\n",
    "plt.title(\"Scatter Plot: A vs B\")\n",
    "plt.show()"
   ]
  },
  {
   "cell_type": "markdown",
   "metadata": {},
   "source": [
    "### Box Plot"
   ]
  },
  {
   "cell_type": "code",
   "execution_count": null,
   "metadata": {},
   "outputs": [],
   "source": [
    "df.boxplot(figsize=(10, 6))\n",
    "plt.title(\"Box Plot of DataFrame\")\n",
    "plt.ylabel(\"Value\")\n",
    "plt.show()"
   ]
  }
 ],
 "metadata": {
  "kernelspec": {
   "display_name": "Python 3 (ipykernel)",
   "language": "python",
   "name": "python3"
  },
  "language_info": {
   "codemirror_mode": {
    "name": "ipython",
    "version": 3
   },
   "file_extension": ".py",
   "mimetype": "text/x-python",
   "name": "python",
   "nbconvert_exporter": "python",
   "pygments_lexer": "ipython3",
   "version": "3.12.4"
  }
 },
 "nbformat": 4,
 "nbformat_minor": 4
}