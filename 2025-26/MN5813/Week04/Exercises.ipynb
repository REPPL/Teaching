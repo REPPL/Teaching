{
 "cells": [
  {
   "cell_type": "markdown",
   "metadata": {},
   "source": [
    "# Introduction to Pandas (Exercises)"
   ]
  },
  {
   "cell_type": "markdown",
   "metadata": {},
   "source": [
    "_This notebook provides exercises to practice basic Pandas concepts and syntax. Exercises are designed to be completed in approximately 90 minutes by students who have some familiarity with the topics._\n",
    "\n",
    "Note: Exercises in this Jupyter Notebook was originally compiled by Alex Reppel (AR) based on conversations with [ClaudeAI](https://claude.ai/) *(version 3.5 Sonnet)*. For this year's materials, further revisions were made using [Claude Code](https://www.anthropic.com/claude-code) *(Opus 4.1)*, including updated documentation and git commit messages."
   ]
  },
  {
   "cell_type": "code",
   "execution_count": null,
   "metadata": {},
   "outputs": [],
   "source": [
    "import pandas as pd\n",
    "import numpy as np"
   ]
  },
  {
   "cell_type": "markdown",
   "metadata": {},
   "source": [
    "## Pandas Series"
   ]
  },
  {
   "cell_type": "markdown",
   "metadata": {},
   "source": [
    "### Exercise 1\n",
    "\n",
    "Create a Pandas Series from a list of five fruits. Then, create another Series with the same fruits but with custom numeric indices starting from 1. Print both Series."
   ]
  },
  {
   "cell_type": "code",
   "execution_count": null,
   "metadata": {},
   "outputs": [],
   "source": [
    "# Series with default index\n",
    "fruits = pd.Series([\"Apple\", \"Banana\", \"Cherry\", \"Date\", \"Elderberry\"])\n",
    "\n",
    "print(\"Series with default index:\")\n",
    "print(fruits)\n",
    "\n",
    "# Series with custom index\n",
    "# fruits_custom =  # add code\n",
    "\n",
    "print(\"\\nSeries with custom index:\")\n",
    "# print(fruits_custom)"
   ]
  },
  {
   "cell_type": "markdown",
   "metadata": {},
   "source": [
    "### Exercise 2\n",
    "\n",
    "Given the Series `s = pd.Series([10, 20, 30, 40, 50], index=['a', 'b', 'c', 'd', 'e'])`, perform the following operations:\n",
    "\n",
    "a) Select the value at index 'c'\n",
    "b) Select the values at indices 'b', 'd', and 'e'\n",
    "c) Create a new Series containing only the values greater than 25"
   ]
  },
  {
   "cell_type": "code",
   "execution_count": null,
   "metadata": {},
   "outputs": [],
   "source": [
    "s = pd.Series([10, 20, 30, 40, 50], index=[\"a\", \"b\", \"c\", \"d\", \"e\"])\n",
    "\n",
    "# a) Select the value at index \"c\"\n",
    "# print(\"Value at index 'c':\", )  # add code\n",
    "\n",
    "# b) Select the values at indices \"b\", \"d\", and \"e\"\n",
    "print(\"Values at indices 'b', 'd', and 'e':\")\n",
    "# add code\n",
    "\n",
    "# c) Create a new Series containing only the values greater than 25\n",
    "# new_s =  # add code\n",
    "\n",
    "print(\"Values greater than 25:\")\n",
    "# print(new_s)"
   ]
  },
  {
   "cell_type": "markdown",
   "metadata": {},
   "source": [
    "## DataFrame"
   ]
  },
  {
   "cell_type": "markdown",
   "metadata": {},
   "source": [
    "### Exercise 3\n",
    "\n",
    "Create a DataFrame representing students with columns 'Name', 'Age', and 'Grade'. Include at least 5 students. Then, perform the following tasks:\n",
    "\n",
    "- Display the first 3 rows of the DataFrame\n",
    "- Calculate the average age of the students\n",
    "- Display only the students with a grade above 80"
   ]
  },
  {
   "cell_type": "code",
   "execution_count": null,
   "metadata": {},
   "outputs": [],
   "source": [
    "# Create DataFrame\n",
    "data = {\n",
    "    \"Name\": [\"Alice\", \"Bob\", \"Carol\", \"Dan\", \"Eve\"],\n",
    "    \"Age\": [18, 19, 18, 20, 19],\n",
    "    \"Grade\": [85, 92, 78, 95, 88]\n",
    "}\n",
    "df = pd.DataFrame(data)\n",
    "\n",
    "# a) Display the first 3 rows\n",
    "print(\"First 3 rows:\")\n",
    "# print(df.head(3))  # add code\n",
    "\n",
    "# b) Calculate average age\n",
    "# average_age =  # add code\n",
    "# print(f\"Average age: {average_age:.2f}\")\n",
    "\n",
    "# c) Display students with grade above 80\n",
    "# high_grades =  # add code\n",
    "print(\"Students with grade above 80:\")\n",
    "# print(high_grades)"
   ]
  },
  {
   "cell_type": "markdown",
   "metadata": {},
   "source": [
    "## File I/O"
   ]
  },
  {
   "cell_type": "code",
   "execution_count": null,
   "metadata": {},
   "outputs": [],
   "source": [
    "import os\n",
    "os.makedirs(\"assets\", exist_ok = True)"
   ]
  },
  {
   "cell_type": "markdown",
   "metadata": {},
   "source": [
    "### Exercise 4\n",
    "\n",
    "Read the 'people.csv' file created in the demonstration.\n",
    "\n",
    "Add a new column 'Salary' with random values between 50,000 and 100,000. Then, save the updated DataFrame back to a CSV file named 'people_with_salary.csv'."
   ]
  },
  {
   "cell_type": "code",
   "execution_count": null,
   "metadata": {},
   "outputs": [],
   "source": [
    "import pandas as pd\n",
    "\n",
    "# Create the CSV file\n",
    "data = {\n",
    "    \"Name\": [\"Alice\", \"Bob\", \"Carol\", \"Dan\"],\n",
    "    \"Age\": [25, 30, 35, 28],\n",
    "    \"City\": [\"New York\", \"San Francisco\", \"London\", \"Sydney\"],\n",
    "    \"Country\": [\"USA\", \"USA\", \"UK\", \"Australia\"]\n",
    "}\n",
    "\n",
    "df = pd.DataFrame(data)\n",
    "df.to_csv(\"assets/people.csv\", index=False)\n",
    "print(\"assets/people.csv has been created.\")"
   ]
  },
  {
   "cell_type": "code",
   "execution_count": null,
   "metadata": {},
   "outputs": [],
   "source": [
    "# Read the CSV file\n",
    "df = pd.read_csv(\"assets/people.csv\")\n",
    "\n",
    "# Add Salary column with random values\n",
    "# Don't worry about using Numpy (np)\n",
    "# It's important to know that it exists, but we won't be using it\n",
    "df[\"Salary\"] = np.random.randint(50000, 100001, size=len(df))\n",
    "\n",
    "# Save the updated DataFrame\n",
    "# df.to_csv(\"assets/people_with_salary.csv\", index=False)  # add code\n",
    "\n",
    "print(\"Updated DataFrame:\")\n",
    "print(df)\n",
    "# print(\"Saved to 'assets/people_with_salary.csv'\")"
   ]
  },
  {
   "cell_type": "markdown",
   "metadata": {},
   "source": [
    "## Data analysis"
   ]
  },
  {
   "cell_type": "markdown",
   "metadata": {},
   "source": [
    "### Exercise 5\n",
    "\n",
    "Using the DataFrame from Exercise 4, perform the following tasks:\n",
    "\n",
    "- Calculate and display the average salary\n",
    "- Find and display the person with the highest salary\n",
    "- Create a new DataFrame containing only people from the USA and display it"
   ]
  },
  {
   "cell_type": "code",
   "execution_count": null,
   "metadata": {},
   "outputs": [],
   "source": [
    "# Assuming we're continuing from Exercise 4, otherwise read the CSV again\n",
    "# df = pd.read_csv(\"assets/people_with_salary.csv\")\n",
    "\n",
    "# a) Calculate and display average salary\n",
    "# average_salary =  # add code\n",
    "\n",
    "# print(f\"Average salary: ${average_salary:.2f}\")\n",
    "\n",
    "# b) Find and display person with highest salary\n",
    "# highest_paid =  # add code\n",
    "\n",
    "print(\"Person with highest salary:\")\n",
    "# print(highest_paid)\n",
    "\n",
    "# c) Create DataFrame with only USA people\n",
    "# usa_people =  # add code\n",
    "\n",
    "print(\"People from USA:\")\n",
    "# print(usa_people)"
   ]
  }
 ],
 "metadata": {
  "kernelspec": {
   "display_name": "default",
   "language": "python",
   "name": "python3"
  },
  "language_info": {
   "codemirror_mode": {
    "name": "ipython",
    "version": 3
   },
   "file_extension": ".py",
   "mimetype": "text/x-python",
   "name": "python",
   "nbconvert_exporter": "python",
   "pygments_lexer": "ipython3",
   "version": "3.12.4"
  }
 },
 "nbformat": 4,
 "nbformat_minor": 4
}
