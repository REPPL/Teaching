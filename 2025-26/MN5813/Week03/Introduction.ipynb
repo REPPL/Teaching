{
 "cells": [
  {
   "cell_type": "markdown",
   "metadata": {},
   "source": "# Assessment (Introduction)"
  },
  {
   "cell_type": "markdown",
   "metadata": {},
   "source": "_This notebook introduces this year's assessment, which is a `project` consisting of two parts:_\n\n1. An artefact in the form of a `group report` _(20%)_\n2. An individual `analytics report` _(80%)_\n\nThe rationale is that the artefact _(i.e., `group report`)_ prepares you for -- and forms the foundation of -- the individual `analytics report`. While you will be given a dataset for the `group report`, you can choose any dataset for your individual `analytics report`. _(A template for your deliverable is available on the GitHub page for this module, which you can adapt to suit either part of the assessment.)_\n\nNote: This Jupyter Notebook was originally compiled by Alex Reppel (AR) based on conversations with [ClaudeAI](https://claude.ai/) *(version 3.5 Sonnet)*. For this year's materials, further revisions were made using [Claude Code](https://www.anthropic.com/claude-code) *(Opus 4.1)*, including updated documentation and git commit messages."
  },
  {
   "cell_type": "markdown",
   "metadata": {},
   "source": [
    "## Part 1: Group report _(artefact)_"
   ]
  },
  {
   "cell_type": "markdown",
   "metadata": {},
   "source": [
    "### Dataset"
   ]
  },
  {
   "cell_type": "markdown",
   "metadata": {},
   "source": [
    "For this year's assessment, we'll use the \"[120 years of Olympic history: athletes and results](https://www.kaggle.com/heesoo37/120-years-of-olympic-history-athletes-and-results)\" dataset from Kaggle. This dataset is freely available and contains information about Olympic athletes and medal results from Athens 1896 to Rio 2016.\n",
    "\n",
    "**Dataset URL:** https://www.kaggle.com/heesoo37/120-years-of-olympic-history-athletes-and-results"
   ]
  },
  {
   "cell_type": "markdown",
   "metadata": {},
   "source": [
    "### This year's assessment"
   ]
  },
  {
   "cell_type": "markdown",
   "metadata": {},
   "source": [
    "*Your group will perform data cleaning and wrangling tasks on the Olympic history dataset using Pandas.*"
   ]
  },
  {
   "cell_type": "markdown",
   "metadata": {},
   "source": [
    "The basic (i.e., _essential_) requirements for the group assignment are listed below. Each group submission must deliver those as a minimum. In some _(but perhaps not all)_ cases, the team may wish to _stretch_ themselves by going beyond those essential requirements. A _stretch goal_ will most likely require the team to draw on more advanced concepts, most of which we have covered and/or demonstrated in class. A _super stretch goal_ would typically involve a concept and/or technique we have discussed, but not necessarily practiced in detail."
   ]
  },
  {
   "cell_type": "markdown",
   "metadata": {},
   "source": [
    "#### Data loading\n",
    "\n",
    "- Load the `athlete_events.csv` file into a Pandas `DataFrame`\n",
    "  - **Basic requirement:** Download the `.csv` file and load it into Pandas\n",
    "  - **Stretch goal:** e.g., load the file from a remote source, e.g., GitHub, etc. _OR_ convert `.csv` file into `.json` and load the `.json` file directly into Pandas\n",
    "  - **Super stretch goal:** e.g., create an HTML table from the data and load the data directly from the remote webpage\n",
    "- Display the first few rows and basic information about the `DataFrame`\n",
    "\n",
    "#### Data cleaning\n",
    "\n",
    "- Handle missing values in the dataset _(i.e., check whether missing values -- `NaN` -- exist in the dataset and deal with them appropriately as we discussed in class)_\n",
    "- Convert data types where necessary *(e.g., ensure `Year` is in datetime format)*\n",
    "- Remove any duplicate entries _(if they exist)_\n",
    "\n",
    "_(There are perhaps fewer opportunities around data cleaning to go beyond essential requirements.)_\n",
    "\n",
    "#### Data wrangling\n",
    "\n",
    "- Create a new column `Age_Group` that categorises athletes into age groups *(e.g., `0-18`, `19-25`, `26-35`, `36+`, but the choice is yours)*\n",
    "- Combine `Given_Name` and `Family_Name` into a single `Full_Name` column\n",
    "- Extract the century from the `Year` column and create a new `Century` column\n",
    "\n",
    "_(This is a good category to stretch yourselves beyond essential requirements, although this probably depends largely on what extra `data analysis` -- see below -- you plan to conduct.)_\n",
    "\n",
    "#### Data analysis\n",
    "\n",
    "- Calculate the `average age` of athletes for each Olympic event\n",
    "- Determine the top 10 countries with the most gold medals\n",
    "- Find the athlete with the most medals in each sport\n",
    "\n",
    "_(This is one of the two main categories where I think you can stretch yourselves; ideally, you will discuss options in your group first, without thinking about whether you know how to actually do it yet. Also, I suggest that you conduct a brief 'ideation' exercise, similar to what we did in class in preparation for this group assignment -- using pens and post-it notes, etc.)_\n",
    "\n",
    "#### Data visualisation\n",
    "\n",
    "- Create at least two meaningful visualisations using the cleaned and wrangled data\n",
    "  - **Basic requirement:** Create two basic -- but meaningful -- visualisations representing the outcome of your data analysis; you will draw on the `matplotlib` library and most likely use standard forms of data visualisation, such as bar charts, etc. _(Top tip: Avoid pie charts!)_\n",
    "  - **Stretch goal:** e.g., use a different library, such as [seaborn](https://seaborn.pydata.org/), and/or more sophisticated visualisations that plot data across three dimensions\n",
    "  - **Super stretch goal:** e.g., create carefully formatted visualisations, which typically requires much more thought and also requires you to familiarise yourself with the configuration options of the library you are using; my personal favourite remain [small multiples](https://github.com/REPPL/Using-small-multiples-to-visualise-the-effect-of-the-coronavirus-pandemic), which are not easy to implement\n",
    "- Provide a brief interpretation of each visualisation\n",
    "\n",
    "_(This category is the other one I think you can stretch yourselves; it is deliberately kept vague to give you room to interpret requirements, as you will have to convince your reader that your visualisations are indeed 'meaningful'. This is the category I expect every team to stretch themselves beyond essential requirements; either by creating somewhat more sophisticated visualisations, and/or by providing more in-depth/extensive interpretations of what is shown in those visualisations.)_\n",
    "\n",
    "#### Export results\n",
    "\n",
    "- Save the cleaned and wrangled `DataFrame` to a new `.csv` file\n",
    "- Export the visualisations as image files *(e.g., PDF, PNG, etc.)*"
   ]
  },
  {
   "cell_type": "markdown",
   "metadata": {},
   "source": [
    "## Part 2: Individual analytics report"
   ]
  },
  {
   "cell_type": "markdown",
   "metadata": {},
   "source": [
    "### Dataset\n",
    "\n",
    "You are free to choose any combination of datasets for your project. _(Consult the resources page for Week 1 for a list of repositories.)_"
   ]
  },
  {
   "cell_type": "markdown",
   "metadata": {},
   "source": [
    "### This year's assessment"
   ]
  },
  {
   "cell_type": "markdown",
   "metadata": {},
   "source": [
    "*Your will perform data cleaning and wrangling tasks on a dataset of your choice using Pandas. You are specifically encouraged to combine two or more datasets.*"
   ]
  },
  {
   "cell_type": "markdown",
   "metadata": {},
   "source": [
    "The basic (i.e., _essential_) requirements for the individual assignment follow those listed for the group assignment. Each individual submission must deliver those as a minimum. Once again, you may wish to _stretch_ yourself by going beyond those essential requirements. A _stretch goal_ will most likely require you to draw on more advanced concepts, most of which we have covered and/or demonstrated in class. A _super stretch goal_ would typically involve a concept and/or technique we have mentioned, but not necessarily practiced in detail.\n",
    "\n",
    "The purpose of the individual analytics report is for you to apply, extend, and build on the knowledge you have gained by working on the group project. In other words, the group report forms an `artefact` for each group member to draw on for their individual analytics report. Consequently, you may draw on procedures you did develop collectively for the group assignment, that is, you are explicitly permitted to use those procedures for your individual analytics report. Having said that, you are, of course, encouraged to build on and go beyond those procedures."
   ]
  },
  {
   "cell_type": "markdown",
   "metadata": {},
   "source": [
    "## Deliverables _(for both parts)_"
   ]
  },
  {
   "cell_type": "markdown",
   "metadata": {},
   "source": [
    "For both parts of your project, you are required to submit:\n",
    "\n",
    "1. A Jupyter Notebook containing ...\n",
    "   - all the code used for data cleaning, wrangling, and analysis\n",
    "   - detailed explanations of your data cleaning and wrangling process, challenges encountered, and insights gained from the data\n",
    "1. The cleaned `.csv` file and visualisation image files *(stored so that it can be accessed from within the Notebook, e.g., on GitHub together with the Notebook)*\n",
    "1. A PDF export of your Jupyter Notebook *(uploaded to Turnitin via Moodle)*\n",
    "\n",
    "Note: You must ensure that the markers have access to your Jupyter Notebook and `.csv` file. As a stretch goal, we suggest you upload your notebook and data file to a public repository *(e.g., GitHub)*, and to link to it within the Notebook so that markers can find it when reviewing the PDF version. "
   ]
  },
  {
   "cell_type": "markdown",
   "metadata": {},
   "source": [
    "## Marking _(for both parts)_"
   ]
  },
  {
   "cell_type": "markdown",
   "metadata": {},
   "source": [
    "### Essential requirements\n",
    "\n",
    "- ensure that your code can be executed *(i.e., it must not fail)*\n",
    "- document your code with comments\n",
    "- explain your reasoning for each step *(use Markdown text blocks)*\n",
    "- discuss any challenges you encountered and how you resolved them\n",
    "- ensure you use an appropriate format for references _(e.g., [APA](https://apastyle.apa.org/style-grammar-guidelines/references), [Harvard](https://www.library.hbs.edu/services/help-center/citation-management), [ACM](https://www.acm.org/publications/authors/reference-formatting), etc.)_ and use it consistently _(incl. in-text citations and a list of carefully formatted reference at the end of your document)_"
   ]
  },
  {
   "cell_type": "markdown",
   "metadata": {},
   "source": [
    "### Marking criteria\n",
    "\n",
    "*(A detailed [marking rubric](https://moodle.royalholloway.ac.uk/pluginfile.php/1736343/mod_resource/content/0/mn5813-assessment-a-primer.html) is available as part of the [Module Handbook](https://moodle.royalholloway.ac.uk/pluginfile.php/1736343/mod_resource/content/0/mn5813-overview.html).)*"
   ]
  },
  {
   "cell_type": "markdown",
   "metadata": {},
   "source": [
    "#### Part 1: Group report _(artefact)_\n",
    "\n",
    "Your group report will be assessed based on the following criteria:\n",
    "\n",
    "1. **Introduction (10%):** Clarity of problem statement, project aim & _(set of three)_ objectives.\n",
    "1. **Literature review (10%):** Context of the project within existing literature.\n",
    "1. **Data management (30%):** Description of data source, data cleaning, and preprocessing steps.\n",
    "1. **Analysis & visualisation (10%):** Accuracy of procedures, documentation of analysis, visualisation of findings, and discussion.\n",
    "1. **Conclusion (10%):** Discussion of limitations of your approach, what you have learned *(implications for practice)*, and potential future improvements to your process.\n",
    "1. **Professionalism (30%):** Overall presentation, clarity, organisation, attention to detail, and formatting."
   ]
  },
  {
   "cell_type": "markdown",
   "metadata": {},
   "source": [
    "#### Part 2: Individual analytics report\n",
    "\n",
    "Your individual report will be assessed based on the following criteria:\n",
    "\n",
    "1. **Introduction (10%):** Clarity of problem statement, project aim & _(set of three)_ objectives.\n",
    "1. **Review (10%):** Context of the project within existing literature.\n",
    "1. **Data management (20%):** Description of data source, data cleaning, and preprocessing steps.\n",
    "1. **Methods and/or methodology (10%):** In contrast to the group assignment, you are asked to be more explicit in describing and justifying the techniques you have used.\n",
    "1. **Analysis & presentation of results (20%):** Accuracy of procedures, documentation of analysis, visualisation of findings, and discussion.\n",
    "1. **Conclusion (10%):** Discussion of limitations of your approach, what you have learned *(implications for practice)*, and potential future improvements to your process.\n",
    "1. **Professionalism (10%):** Overall presentation, clarity, organisation, attention to detail, and formatting."
   ]
  },
  {
   "cell_type": "markdown",
   "metadata": {},
   "source": [
    "## Notes"
   ]
  },
  {
   "cell_type": "markdown",
   "metadata": {},
   "source": [
    "### Suggestions for stretch goals\n",
    "\n",
    "- go _beyond_ essential requirements (!)\n",
    "- embed photos, drawings, or videos in Markdown blocks where _appropriate_\n",
    "- consider using a [small multiple](https://github.com/REPPL/Using-small-multiples-to-visualise-the-effect-of-the-coronavirus-pandemic) to visualise results across three dimensions\n",
    "- use the [Seaborn library](https://seaborn.pydata.org/) instead of [Matplotlib](https://matplotlib.org/)"
   ]
  },
  {
   "cell_type": "markdown",
   "metadata": {},
   "source": [
    "### Your questions answered\n",
    "\n",
    "Here, I will address questions you submitted during a recent in-class exercise that are not addressed by the task description, deliverables, marking criteria, etc. -- please continue to submit questions to the Q&A forum on Moodle if you feel your question hasn't been addressed."
   ]
  },
  {
   "cell_type": "markdown",
   "metadata": {},
   "source": [
    "#### Referencing\n",
    "\n",
    "- Use references as you'd for any academic assignment, e.g., ...\n",
    "  - for data/statistics, you must provide a reference to the source of that data _(i.e., your reader must have access to the original source of that data/statistics)_\n",
    "  - for tools & techniques, you must cite the source(s) you have drawn on to learn them, such as, in the case of [Pandas](https://pandas.pydata.org/), you may wish to consider the very accessible book \"[Python for Data Analysis](https://wesmckinney.com/book/)\" _(but only if you use it -- if you draw on the Pandas [user guide](https://pandas.pydata.org/docs/user_guide/index.html), for example, it's sufficient to link to them rather than to use in-text citations)_\n",
    "  - for the introduction and justification of your aim & objectives, you may wish to consider citing newspaper articles\n",
    "- The requirement to use _academic sources_ refers to books, journal articles, and/or conference papers; typically, but not exclusively, to provide support for decisions you've made _(or had to make)_\n",
    "- You are expected to use a referencing format _consistently_, incl. in-text citations and a _carefully formatted_ reference list; do not 'over-cite' just to show lots of citations, but use in-text citations wherever appropriate; again, for most web sources _(incl. user guides, tutorials, code snippets from stackoverflow etc.)_, it's perfectly acceptable to use links rather than in-text citations. _(An exception are newspaper articles, which I expect you to cite rather than link to.)_\n",
    "\n",
    "#### Aim and objectives\n",
    "\n",
    "You are required to state the aim and objectives for each part of your project. You can think of the aim as providing the general direction, while objectives can be seen as milestones that get you there. An excellent source helping you formulate an aim and set of objectives for your project is John Bowden's book \"[Writing a Report : How to Prepare, Write and Present Really Effective Reports](https://ebookcentral-proquest-com.royalholloway.idm.oclc.org/lib/rhul/detail.action?docID=471307)\" available through the library.\n",
    "\n",
    "#### Literature review\n",
    "\n",
    "This is a generic term _(and not a section headline to be used)_ to remind you that you must provide some form of _(potentially basic)_ context to your project. One example could be to draw on the academic literature to position your project _(vis-a-vis other studies related to the topic, etc.)_ and/or to draw on techniques of analysis that you will be following.\n",
    "\n",
    "Consider, for example, the paper \"[Measuring the performance of nations at the Summer Olympics using data envelopment analysis](https://doi.org/10.1057/palgrave.jors.2601327)\" -- the authors compare the population and GNP of nations with the number of Olympic medals won _(i.e., gold, silver, bronze)_. Perhaps you wish to conduct a similar analysis as a _super stretch goal_ for your group report?\n",
    "\n",
    "_(Remember that everything you write -- incl. aim & objectives, literature review, discussions, etc. -- must be added as Markdown blocks to your Jupyter Notebook.)_\n",
    "\n",
    "#### Technical challenges\n",
    "\n",
    "Some of you reported on and/or asked about specific technical challenges, such as importing files or processing missing values. I am _(fairly)_ confident that we have covered those in previous sessions and I encourage you to review those. _(If any information is missing, please post a follow-up question to the Q&A forum on Moodle!)_\n",
    "\n",
    "#### Working in teams\n",
    "\n",
    "There was one question about best practice working in group; while there is not standard answer, I'd like to emphasise the need to have regular 'check-in' meetings _(e.g., once a week)_ to ensure everyone is on the same page, incl. the challenges the team wishes to overcome, the tasks everyone has been assigned, but, perhaps most importantly, also to discuss progress and to collectively agree on ideas, etc.\n",
    "\n",
    "The team should also maintain a work plan outlining milestones and a _(rough)_ timeline; the work plan should be reviewed and updated during each meeting."
   ]
  }
 ],
 "metadata": {
  "kernelspec": {
   "display_name": "Python 3 (ipykernel)",
   "language": "python",
   "name": "python3"
  },
  "language_info": {
   "codemirror_mode": {
    "name": "ipython",
    "version": 3
   },
   "file_extension": ".py",
   "mimetype": "text/x-python",
   "name": "python",
   "nbconvert_exporter": "python",
   "pygments_lexer": "ipython3",
   "version": "3.12.4"
  }
 },
 "nbformat": 4,
 "nbformat_minor": 4
}