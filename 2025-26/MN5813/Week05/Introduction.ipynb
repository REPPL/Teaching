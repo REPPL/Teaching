{
 "cells": [
  {
   "cell_type": "markdown",
   "id": "cell-0",
   "metadata": {},
   "source": [
    "# Advanced Pandas (Introduction)"
   ]
  },
  {
   "cell_type": "markdown",
   "id": "cell-1",
   "metadata": {},
   "source": [
    "_This notebook introduces advanced Pandas techniques for complex data manipulation and analysis, building on the fundamentals you learnt in Week 04._\n",
    "\n",
    "Note: This Jupyter Notebook was originally compiled by Alex Reppel (AR) based on conversations with [ClaudeAI](https://claude.ai/) *(version 3.5 Sonnet)*. For this year's materials, further revisions were made using [Claude Code](https://www.anthropic.com/claude-code) *(Sonnet 4.5)*, including updated documentation and git commit messages."
   ]
  },
  {
   "cell_type": "markdown",
   "id": "cell-2",
   "metadata": {},
   "source": [
    "## Learning objectives\n",
    "\n",
    "By the end of this week, you will be able to:\n",
    "\n",
    "- Understand and apply tidy data principles\n",
    "- Reshape data between wide and long formats using `melt()`, `pivot()`, and `pivot_table()`\n",
    "- Work with hierarchical data using MultiIndex\n",
    "- Apply advanced data cleaning and transformation techniques\n",
    "- Create efficient data processing pipelines using method chaining\n",
    "- Analyse time series data with appropriate Pandas tools"
   ]
  },
  {
   "cell_type": "markdown",
   "id": "cell-3",
   "metadata": {},
   "source": [
    "## Building on previous sessions\n",
    "\n",
    "In Week 04, you learnt the fundamental Pandas operations:\n",
    "\n",
    "- Creating and manipulating DataFrames\n",
    "- Filtering and selecting data\n",
    "- Basic aggregation with `groupby()`\n",
    "- Sorting and ranking data\n",
    "- Handling missing values\n",
    "\n",
    "This week extends these foundations with advanced techniques for reshaping and analysing complex datasets. You'll learn how to transform data structures to suit different analytical needs and handle multi-dimensional data efficiently."
   ]
  },
  {
   "cell_type": "markdown",
   "id": "cell-4",
   "metadata": {},
   "source": [
    "## Key concepts\n",
    "\n",
    "### Tidy data principles\n",
    "\n",
    "The concept of \"tidy data\" was introduced by statistician Hadley Wickham. Tidy data follows three principles:\n",
    "\n",
    "1. **Each variable forms a column** – Every column represents a single attribute\n",
    "2. **Each observation forms a row** – Every row represents a single measurement or record\n",
    "3. **Each type of observational unit forms a table** – Related data is organised in a single DataFrame\n",
    "\n",
    "Consider this example:"
   ]
  },
  {
   "cell_type": "code",
   "execution_count": null,
   "id": "cell-5",
   "metadata": {},
   "outputs": [],
   "source": [
    "import pandas as pd\n",
    "\n",
    "# Messy data: months as columns\n",
    "messy_sales = pd.DataFrame({\n",
    "    \"product\": [\"Widget A\", \"Widget B\"],\n",
    "    \"Jan\": [100, 150],\n",
    "    \"Feb\": [120, 140],\n",
    "    \"Mar\": [110, 160]\n",
    "})\n",
    "\n",
    "print(\"Messy (wide) format:\")\n",
    "print(messy_sales)\n",
    "\n",
    "# Tidy data: one row per observation\n",
    "tidy_sales = pd.DataFrame({\n",
    "    \"product\": [\"Widget A\", \"Widget A\", \"Widget A\", \"Widget B\", \"Widget B\", \"Widget B\"],\n",
    "    \"month\": [\"Jan\", \"Feb\", \"Mar\", \"Jan\", \"Feb\", \"Mar\"],\n",
    "    \"sales\": [100, 120, 110, 150, 140, 160]\n",
    "})\n",
    "\n",
    "print(\"\\nTidy (long) format:\")\n",
    "print(tidy_sales)"
   ]
  },
  {
   "cell_type": "markdown",
   "id": "cell-6",
   "metadata": {},
   "source": [
    "The tidy format makes it easier to:\n",
    "- Calculate statistics by product or month\n",
    "- Create visualisations\n",
    "- Integrate with other datasets\n",
    "- Apply standard analytical techniques"
   ]
  },
  {
   "cell_type": "markdown",
   "id": "cell-7",
   "metadata": {},
   "source": [
    "### Data reshaping: wide vs long format\n",
    "\n",
    "**Wide format** has:\n",
    "- Multiple columns representing related values\n",
    "- Fewer rows\n",
    "- Easier for human reading\n",
    "- Common in spreadsheets and reports\n",
    "\n",
    "**Long format** has:\n",
    "- Single column for values\n",
    "- More rows\n",
    "- Better for statistical analysis\n",
    "- Preferred for plotting and modelling\n",
    "\n",
    "Pandas provides several methods to convert between formats:\n",
    "\n",
    "- `melt()` – Converts wide to long\n",
    "- `pivot()` – Converts long to wide (no aggregation)\n",
    "- `pivot_table()` – Converts long to wide (with aggregation)"
   ]
  },
  {
   "cell_type": "markdown",
   "id": "cell-8",
   "metadata": {},
   "source": [
    "### MultiIndex (hierarchical indexing)\n",
    "\n",
    "MultiIndex allows you to have multiple levels of row or column labels, enabling you to work with higher-dimensional data in a two-dimensional DataFrame:"
   ]
  },
  {
   "cell_type": "code",
   "execution_count": null,
   "id": "cell-9",
   "metadata": {},
   "outputs": [],
   "source": [
    "# Creating a MultiIndex DataFrame\n",
    "arrays = [\n",
    "    [\"London\", \"London\", \"Manchester\", \"Manchester\"],\n",
    "    [\"Q1\", \"Q2\", \"Q1\", \"Q2\"]\n",
    "]\n",
    "index = pd.MultiIndex.from_arrays(arrays, names=[\"city\", \"quarter\"])\n",
    "\n",
    "df = pd.DataFrame({\"sales\": [100, 120, 80, 90]}, index=index)\n",
    "print(df)"
   ]
  },
  {
   "cell_type": "markdown",
   "id": "cell-10",
   "metadata": {},
   "source": [
    "MultiIndex is particularly useful for:\n",
    "- Representing multi-dimensional data\n",
    "- Organising data with natural hierarchies (e.g., country → region → city)\n",
    "- Efficient slicing and dicing of complex datasets"
   ]
  },
  {
   "cell_type": "markdown",
   "id": "cell-11",
   "metadata": {},
   "source": [
    "### Method chaining\n",
    "\n",
    "Method chaining allows you to perform multiple operations in a single, readable statement:"
   ]
  },
  {
   "cell_type": "code",
   "execution_count": null,
   "id": "cell-12",
   "metadata": {},
   "outputs": [],
   "source": [
    "# Example of method chaining\n",
    "result = (\n",
    "    tidy_sales\n",
    "    .query(\"sales > 100\")  # Filter\n",
    "    .assign(sales_band=\"high\")  # Add column\n",
    "    .sort_values(\"sales\", ascending=False)  # Sort\n",
    "    .reset_index(drop=True)  # Reset index\n",
    ")\n",
    "print(result)"
   ]
  },
  {
   "cell_type": "markdown",
   "id": "cell-13",
   "metadata": {},
   "source": [
    "Benefits of method chaining:\n",
    "- More readable code (follows data flow)\n",
    "- Fewer intermediate variables\n",
    "- Easier to debug (comment out individual steps)\n",
    "- Professional coding style"
   ]
  },
  {
   "cell_type": "markdown",
   "id": "cell-14",
   "metadata": {},
   "source": [
    "## Prerequisites\n",
    "\n",
    "Before starting this week's materials, you should be comfortable with:\n",
    "\n",
    "- **Week 04 Pandas fundamentals**:\n",
    "  - Creating DataFrames from various sources\n",
    "  - Selecting and filtering data\n",
    "  - Using `groupby()` for aggregation\n",
    "  - Handling missing values\n",
    "  - Merging and concatenating DataFrames\n",
    "\n",
    "- **Python fundamentals (Weeks 01-02)**:\n",
    "  - Lists, dictionaries, and functions\n",
    "  - Control flow (if/else, loops)\n",
    "  - List comprehensions\n",
    "\n",
    "If you need to review any of these topics, please revisit the appropriate week's materials before proceeding."
   ]
  },
  {
   "cell_type": "markdown",
   "id": "cell-15",
   "metadata": {},
   "source": [
    "## Further resources\n",
    "\n",
    "### Academic readings\n",
    "\n",
    "- **Wickham, H.** (2014). \"Tidy Data\". *Journal of Statistical Software*, 59(10), 1-23. [https://doi.org/10.18637/jss.v059.i10](https://doi.org/10.18637/jss.v059.i10)  \n",
    "  The foundational paper on tidy data principles\n",
    "\n",
    "- **McKinney, W.** (2022). *Python for Data Analysis* (3rd ed.). O'Reilly Media.  \n",
    "  Written by the creator of Pandas; Chapters 7-8 cover reshaping and data wrangling\n",
    "\n",
    "### Documentation\n",
    "\n",
    "- [Pandas User Guide: Reshaping and Pivot Tables](https://pandas.pydata.org/docs/user_guide/reshaping.html)  \n",
    "  Official documentation on melt, pivot, and pivot_table\n",
    "\n",
    "- [Pandas User Guide: MultiIndex / Advanced Indexing](https://pandas.pydata.org/docs/user_guide/advanced.html)  \n",
    "  Comprehensive guide to hierarchical indexing\n",
    "\n",
    "- [Pandas User Guide: Time Series / Date Functionality](https://pandas.pydata.org/docs/user_guide/timeseries.html)  \n",
    "  Guide to working with dates and times\n",
    "\n",
    "### Video tutorials\n",
    "\n",
    "- [Corey Schafer: Pandas reshaping with melt, pivot, and pivot_table](https://www.youtube.com/watch?v=F8yRVmSPZqc) (18 mins)  \n",
    "  Clear explanation of reshaping operations with examples\n",
    "\n",
    "- [Data School: Working with hierarchical data using MultiIndex](https://www.youtube.com/watch?v=tcRGa2soc-c) (23 mins)  \n",
    "  Practical examples of MultiIndex operations\n",
    "\n",
    "### Interactive resources\n",
    "\n",
    "- [Kaggle Learn: Pandas Course](https://www.kaggle.com/learn/pandas)  \n",
    "  Hands-on exercises including data reshaping\n",
    "\n",
    "- [Real Python: Pandas pivot_table() Tutorial](https://realpython.com/pandas-pivot-table/)  \n",
    "  In-depth guide with business examples\n",
    "\n",
    "### Additional materials\n",
    "\n",
    "- [Towards Data Science: Tidy Data in Python](https://towardsdatascience.com/tidy-data-in-python-461e7bc5f67c)  \n",
    "  Practical guide to applying tidy data principles\n",
    "\n",
    "- [Stack Overflow: Pandas pivot, pivot_table, melt questions](https://stackoverflow.com/questions/tagged/pandas+pivot)  \n",
    "  Real-world problems and solutions"
   ]
  },
  {
   "cell_type": "markdown",
   "id": "cell-16",
   "metadata": {},
   "source": [
    "## Next steps\n",
    "\n",
    "Continue to the [Demonstration](Demonstration.ipynb) notebook to see these concepts in action with practical business examples. You'll work through detailed examples of data reshaping, MultiIndex operations, and advanced data transformations.\n",
    "\n",
    "After completing the Demonstration, practice your skills with the [Exercises](Exercises.ipynb), which are designed to take approximately 90 minutes and focus on real-world business scenarios."
   ]
  }
 ],
 "metadata": {
  "kernelspec": {
   "display_name": "Python 3 (ipykernel)",
   "language": "python",
   "name": "python3"
  },
  "language_info": {
   "codemirror_mode": {
    "name": "ipython",
    "version": 3
   },
   "file_extension": ".py",
   "mimetype": "text/x-python",
   "name": "python",
   "nbconvert_exporter": "python",
   "pygments_lexer": "ipython3",
   "version": "3.12.4"
  }
 },
 "nbformat": 4,
 "nbformat_minor": 5
}
